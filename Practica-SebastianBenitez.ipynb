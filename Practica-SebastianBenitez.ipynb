{
 "cells": [
  {
   "cell_type": "markdown",
   "metadata": {},
   "source": [
    "Vasmos a cargar el dataset de AirBnB descargado de [aquí](https://public.opendatasoft.com/explore/dataset/airbnb-listings/export/?disjunctive.host_verifications&disjunctive.amenities&disjunctive.features&q=Madrid&dataChart=eyJxdWVyaWVzIjpbeyJjaGFydHMiOlt7InR5cGUiOiJjb2x1bW4iLCJmdW5jIjoiQ09VTlQiLCJ5QXhpcyI6Imhvc3RfbGlzdGluZ3NfY291bnQiLCJzY2llbnRpZmljRGlzcGxheSI6dHJ1ZSwiY29sb3IiOiJyYW5nZS1jdXN0b20ifV0sInhBeGlzIjoiY2l0eSIsIm1heHBvaW50cyI6IiIsInRpbWVzY2FsZSI6IiIsInNvcnQiOiIiLCJzZXJpZXNCcmVha2Rvd24iOiJyb29tX3R5cGUiLCJjb25maWciOnsiZGF0YXNldCI6ImFpcmJuYi1saXN0aW5ncyIsIm9wdGlvbnMiOnsiZGlzanVuY3RpdmUuaG9zdF92ZXJpZmljYXRpb25zIjp0cnVlLCJkaXNqdW5jdGl2ZS5hbWVuaXRpZXMiOnRydWUsImRpc2p1bmN0aXZlLmZlYXR1cmVzIjp0cnVlfX19XSwidGltZXNjYWxlIjoiIiwiZGlzcGxheUxlZ2VuZCI6dHJ1ZSwiYWxpZ25Nb250aCI6dHJ1ZX0%3D&location=16,41.38377,2.15774&basemap=jawg.streets)\n",
    "\n",
    "![](descargar.png)"
   ]
  },
  {
   "cell_type": "code",
   "execution_count": 1,
   "metadata": {},
   "outputs": [],
   "source": [
    "airbnb<-read.csv('airbnb-listings.csv',sep = ';')\n",
    "options(repr.plot.height=4,repr.plot.width=6,repr.plot.res = 300)"
   ]
  },
  {
   "cell_type": "markdown",
   "metadata": {},
   "source": [
    "Vamos a quedarnos con las columnas de mayor interés:\n",
    "\n",
    "'City','Room.Type','Neighbourhood','Accommodates','Bathrooms','Bedrooms','Beds','Price','Square.Feet','Guests.Included','Extra.People','Review.Scores.Rating','Latitude', 'Longitude'"
   ]
  },
  {
   "cell_type": "code",
   "execution_count": 2,
   "metadata": {},
   "outputs": [
    {
     "data": {
      "text/html": [
       "<table class=\"dataframe\">\n",
       "<caption>A data.frame: 6 × 14</caption>\n",
       "<thead>\n",
       "\t<tr><th></th><th scope=col>City</th><th scope=col>Room.Type</th><th scope=col>Neighbourhood</th><th scope=col>Accommodates</th><th scope=col>Bathrooms</th><th scope=col>Bedrooms</th><th scope=col>Beds</th><th scope=col>Price</th><th scope=col>Square.Feet</th><th scope=col>Guests.Included</th><th scope=col>Extra.People</th><th scope=col>Review.Scores.Rating</th><th scope=col>Latitude</th><th scope=col>Longitude</th></tr>\n",
       "\t<tr><th></th><th scope=col>&lt;chr&gt;</th><th scope=col>&lt;chr&gt;</th><th scope=col>&lt;chr&gt;</th><th scope=col>&lt;int&gt;</th><th scope=col>&lt;dbl&gt;</th><th scope=col>&lt;int&gt;</th><th scope=col>&lt;int&gt;</th><th scope=col>&lt;int&gt;</th><th scope=col>&lt;int&gt;</th><th scope=col>&lt;int&gt;</th><th scope=col>&lt;int&gt;</th><th scope=col>&lt;int&gt;</th><th scope=col>&lt;dbl&gt;</th><th scope=col>&lt;dbl&gt;</th></tr>\n",
       "</thead>\n",
       "<tbody>\n",
       "\t<tr><th scope=row>1</th><td>Madrid</td><td>Entire home/apt</td><td>           </td><td>2</td><td>1.0</td><td>0</td><td>1</td><td>50</td><td>NA</td><td>2</td><td>15</td><td>96</td><td>40.40745</td><td>-3.707995</td></tr>\n",
       "\t<tr><th scope=row>2</th><td>Madrid</td><td>Entire home/apt</td><td>           </td><td>4</td><td>1.0</td><td>1</td><td>2</td><td>50</td><td>NA</td><td>2</td><td>25</td><td>81</td><td>40.40832</td><td>-3.705006</td></tr>\n",
       "\t<tr><th scope=row>3</th><td>Madrid</td><td>Entire home/apt</td><td>           </td><td>4</td><td>1.5</td><td>1</td><td>2</td><td>77</td><td>NA</td><td>1</td><td> 0</td><td>89</td><td>40.41372</td><td>-3.706823</td></tr>\n",
       "\t<tr><th scope=row>4</th><td>Madrid</td><td>Entire home/apt</td><td>Embajadores</td><td>2</td><td>1.0</td><td>1</td><td>2</td><td>50</td><td>NA</td><td>1</td><td>20</td><td>93</td><td>40.41126</td><td>-3.697305</td></tr>\n",
       "\t<tr><th scope=row>5</th><td>Madrid</td><td>Entire home/apt</td><td>Embajadores</td><td>5</td><td>1.0</td><td>2</td><td>4</td><td>95</td><td>NA</td><td>4</td><td> 0</td><td>97</td><td>40.41256</td><td>-3.701155</td></tr>\n",
       "\t<tr><th scope=row>6</th><td>Madrid</td><td>Entire home/apt</td><td>La Latina  </td><td>4</td><td>1.0</td><td>1</td><td>2</td><td>69</td><td>NA</td><td>2</td><td>18</td><td>91</td><td>40.40791</td><td>-3.705095</td></tr>\n",
       "</tbody>\n",
       "</table>\n"
      ],
      "text/latex": [
       "A data.frame: 6 × 14\n",
       "\\begin{tabular}{r|llllllllllllll}\n",
       "  & City & Room.Type & Neighbourhood & Accommodates & Bathrooms & Bedrooms & Beds & Price & Square.Feet & Guests.Included & Extra.People & Review.Scores.Rating & Latitude & Longitude\\\\\n",
       "  & <chr> & <chr> & <chr> & <int> & <dbl> & <int> & <int> & <int> & <int> & <int> & <int> & <int> & <dbl> & <dbl>\\\\\n",
       "\\hline\n",
       "\t1 & Madrid & Entire home/apt &             & 2 & 1.0 & 0 & 1 & 50 & NA & 2 & 15 & 96 & 40.40745 & -3.707995\\\\\n",
       "\t2 & Madrid & Entire home/apt &             & 4 & 1.0 & 1 & 2 & 50 & NA & 2 & 25 & 81 & 40.40832 & -3.705006\\\\\n",
       "\t3 & Madrid & Entire home/apt &             & 4 & 1.5 & 1 & 2 & 77 & NA & 1 &  0 & 89 & 40.41372 & -3.706823\\\\\n",
       "\t4 & Madrid & Entire home/apt & Embajadores & 2 & 1.0 & 1 & 2 & 50 & NA & 1 & 20 & 93 & 40.41126 & -3.697305\\\\\n",
       "\t5 & Madrid & Entire home/apt & Embajadores & 5 & 1.0 & 2 & 4 & 95 & NA & 4 &  0 & 97 & 40.41256 & -3.701155\\\\\n",
       "\t6 & Madrid & Entire home/apt & La Latina   & 4 & 1.0 & 1 & 2 & 69 & NA & 2 & 18 & 91 & 40.40791 & -3.705095\\\\\n",
       "\\end{tabular}\n"
      ],
      "text/markdown": [
       "\n",
       "A data.frame: 6 × 14\n",
       "\n",
       "| <!--/--> | City &lt;chr&gt; | Room.Type &lt;chr&gt; | Neighbourhood &lt;chr&gt; | Accommodates &lt;int&gt; | Bathrooms &lt;dbl&gt; | Bedrooms &lt;int&gt; | Beds &lt;int&gt; | Price &lt;int&gt; | Square.Feet &lt;int&gt; | Guests.Included &lt;int&gt; | Extra.People &lt;int&gt; | Review.Scores.Rating &lt;int&gt; | Latitude &lt;dbl&gt; | Longitude &lt;dbl&gt; |\n",
       "|---|---|---|---|---|---|---|---|---|---|---|---|---|---|---|\n",
       "| 1 | Madrid | Entire home/apt | <!----> | 2 | 1.0 | 0 | 1 | 50 | NA | 2 | 15 | 96 | 40.40745 | -3.707995 |\n",
       "| 2 | Madrid | Entire home/apt | <!----> | 4 | 1.0 | 1 | 2 | 50 | NA | 2 | 25 | 81 | 40.40832 | -3.705006 |\n",
       "| 3 | Madrid | Entire home/apt | <!----> | 4 | 1.5 | 1 | 2 | 77 | NA | 1 |  0 | 89 | 40.41372 | -3.706823 |\n",
       "| 4 | Madrid | Entire home/apt | Embajadores | 2 | 1.0 | 1 | 2 | 50 | NA | 1 | 20 | 93 | 40.41126 | -3.697305 |\n",
       "| 5 | Madrid | Entire home/apt | Embajadores | 5 | 1.0 | 2 | 4 | 95 | NA | 4 |  0 | 97 | 40.41256 | -3.701155 |\n",
       "| 6 | Madrid | Entire home/apt | La Latina   | 4 | 1.0 | 1 | 2 | 69 | NA | 2 | 18 | 91 | 40.40791 | -3.705095 |\n",
       "\n"
      ],
      "text/plain": [
       "  City   Room.Type       Neighbourhood Accommodates Bathrooms Bedrooms Beds\n",
       "1 Madrid Entire home/apt               2            1.0       0        1   \n",
       "2 Madrid Entire home/apt               4            1.0       1        2   \n",
       "3 Madrid Entire home/apt               4            1.5       1        2   \n",
       "4 Madrid Entire home/apt Embajadores   2            1.0       1        2   \n",
       "5 Madrid Entire home/apt Embajadores   5            1.0       2        4   \n",
       "6 Madrid Entire home/apt La Latina     4            1.0       1        2   \n",
       "  Price Square.Feet Guests.Included Extra.People Review.Scores.Rating Latitude\n",
       "1 50    NA          2               15           96                   40.40745\n",
       "2 50    NA          2               25           81                   40.40832\n",
       "3 77    NA          1                0           89                   40.41372\n",
       "4 50    NA          1               20           93                   40.41126\n",
       "5 95    NA          4                0           97                   40.41256\n",
       "6 69    NA          2               18           91                   40.40791\n",
       "  Longitude\n",
       "1 -3.707995\n",
       "2 -3.705006\n",
       "3 -3.706823\n",
       "4 -3.697305\n",
       "5 -3.701155\n",
       "6 -3.705095"
      ]
     },
     "metadata": {},
     "output_type": "display_data"
    }
   ],
   "source": [
    "DataFrame<-airbnb[c('City','Room.Type','Neighbourhood','Accommodates','Bathrooms','Bedrooms','Beds','Price','Square.Feet','Guests.Included','Extra.People','Review.Scores.Rating','Latitude', 'Longitude')]\n",
    "head(DataFrame)"
   ]
  },
  {
   "cell_type": "markdown",
   "metadata": {},
   "source": [
    "Nos quedarmos solo con las entradas de Madrid para Room.Type==\"Entire home/apt\" y cuyo barrio (Neighbourhood) no está vacio ''\n",
    "Podemos eliminar las siguientes columnas que ya no son necesarias:\n",
    "\"Room.Type\",'City'\n",
    "\n",
    "Llama a nuevo dataframe df_madrid."
   ]
  },
  {
   "cell_type": "code",
   "execution_count": 3,
   "metadata": {},
   "outputs": [],
   "source": [
    "\n",
    "df_madrid<- DataFrame[DataFrame$City==\"Madrid\" & DataFrame$Room.Type==\"Entire home/apt\" & DataFrame$Neighbourhood !=\"\",]\n",
    "df_madrid$City<-NULL\n",
    "df_madrid$Room.Type<-NULL"
   ]
  },
  {
   "cell_type": "markdown",
   "metadata": {},
   "source": [
    "Crea una nueva columna llamada Square.Meters a partir de Square.Feet. Recuerda que un pie cuadrado son 0.092903 metros cuadrados."
   ]
  },
  {
   "cell_type": "code",
   "execution_count": 4,
   "metadata": {},
   "outputs": [],
   "source": [
    "df_madrid$Square.Meters<-df_madrid$Square.Feet*0.092903\n",
    "df_madrid$Square.Feet<-NULL"
   ]
  },
  {
   "cell_type": "markdown",
   "metadata": {},
   "source": [
    "¿Que porcentaje de los apartamentos no muestran los metros cuadrados? Es decir, ¿cuantos tienen NA en Square.Meters?"
   ]
  },
  {
   "cell_type": "code",
   "execution_count": 5,
   "metadata": {},
   "outputs": [
    {
     "name": "stdout",
     "output_type": "stream",
     "text": [
      " El porcentaje Total de Apartamentos con NA alcanza el  93.8 %"
     ]
    }
   ],
   "source": [
    "is_na <- sum(is.na(df_madrid$Square.Meters))\n",
    "not_na<- sum(!is.na(df_madrid$Square.Meters))\n",
    "total<- sum(is.na(df_madrid$Square.Meters))+sum(!is.na(df_madrid$Square.Meters))\n",
    "porcentaje<-(100*is_na)/total\n",
    "\n",
    "cat(\" El porcentaje Total de Apartamentos con NA alcanza el \",round(porcentaje,2),\"%\")"
   ]
  },
  {
   "cell_type": "markdown",
   "metadata": {},
   "source": [
    "De todos los apartamentos que tienen un valor de metros cuadrados diferente de NA \n",
    "¿Que porcentaje de los apartamentos tienen 0 metros cuadrados?"
   ]
  },
  {
   "cell_type": "code",
   "execution_count": 6,
   "metadata": {},
   "outputs": [
    {
     "name": "stdout",
     "output_type": "stream",
     "text": [
      "El porcentaje de Apartamentos que tienen 0 metros cuadrados es:\n",
      "  2.29 %"
     ]
    }
   ],
   "source": [
    "\n",
    "porcentaje_cero<- 100*table(df_madrid$Square.Meters==0)/total\n",
    "cat (\"El porcentaje de Apartamentos que tienen 0 metros cuadrados es:\\n \", round(porcentaje_cero[2],2) , \"%\")"
   ]
  },
  {
   "cell_type": "markdown",
   "metadata": {},
   "source": [
    "Reemplazar todos los 0m^2 por NA "
   ]
  },
  {
   "cell_type": "code",
   "execution_count": 7,
   "metadata": {},
   "outputs": [
    {
     "name": "stdout",
     "output_type": "stream",
     "text": [
      "[1] \"El nº total de cero m2 es:  0\"\n",
      "[1] \"El nuevo nº total de NAs 5382\"\n"
     ]
    },
    {
     "data": {
      "text/html": [
       "<table class=\"dataframe\">\n",
       "<caption>A data.frame: 5601 × 12</caption>\n",
       "<thead>\n",
       "\t<tr><th></th><th scope=col>Neighbourhood</th><th scope=col>Accommodates</th><th scope=col>Bathrooms</th><th scope=col>Bedrooms</th><th scope=col>Beds</th><th scope=col>Price</th><th scope=col>Guests.Included</th><th scope=col>Extra.People</th><th scope=col>Review.Scores.Rating</th><th scope=col>Latitude</th><th scope=col>Longitude</th><th scope=col>Square.Meters</th></tr>\n",
       "\t<tr><th></th><th scope=col>&lt;chr&gt;</th><th scope=col>&lt;int&gt;</th><th scope=col>&lt;dbl&gt;</th><th scope=col>&lt;int&gt;</th><th scope=col>&lt;int&gt;</th><th scope=col>&lt;int&gt;</th><th scope=col>&lt;int&gt;</th><th scope=col>&lt;int&gt;</th><th scope=col>&lt;int&gt;</th><th scope=col>&lt;dbl&gt;</th><th scope=col>&lt;dbl&gt;</th><th scope=col>&lt;dbl&gt;</th></tr>\n",
       "</thead>\n",
       "<tbody>\n",
       "\t<tr><th scope=row>4</th><td>Embajadores</td><td> 2</td><td>1</td><td>1</td><td> 2</td><td> 50</td><td>1</td><td>20</td><td> 93</td><td>40.41126</td><td>-3.697305</td><td>      NA</td></tr>\n",
       "\t<tr><th scope=row>5</th><td>Embajadores</td><td> 5</td><td>1</td><td>2</td><td> 4</td><td> 95</td><td>4</td><td> 0</td><td> 97</td><td>40.41256</td><td>-3.701155</td><td>      NA</td></tr>\n",
       "\t<tr><th scope=row>6</th><td>La Latina  </td><td> 4</td><td>1</td><td>1</td><td> 2</td><td> 69</td><td>2</td><td>18</td><td> 91</td><td>40.40791</td><td>-3.705095</td><td>      NA</td></tr>\n",
       "\t<tr><th scope=row>9</th><td>Embajadores</td><td> 4</td><td>1</td><td>1</td><td> 2</td><td> 57</td><td>2</td><td> 8</td><td> 98</td><td>40.41162</td><td>-3.703281</td><td>      NA</td></tr>\n",
       "\t<tr><th scope=row>10</th><td>La Latina  </td><td> 2</td><td>1</td><td>1</td><td> 1</td><td> 59</td><td>1</td><td> 0</td><td> 95</td><td>40.40734</td><td>-3.707019</td><td>      NA</td></tr>\n",
       "\t<tr><th scope=row>15</th><td>La Latina  </td><td>14</td><td>2</td><td>3</td><td>14</td><td>120</td><td>2</td><td>18</td><td> 92</td><td>40.40908</td><td>-3.704744</td><td>      NA</td></tr>\n",
       "\t<tr><th scope=row>21</th><td>La Latina  </td><td> 2</td><td>1</td><td>1</td><td> 1</td><td> 89</td><td>1</td><td>10</td><td> 98</td><td>40.41007</td><td>-3.710624</td><td>      NA</td></tr>\n",
       "\t<tr><th scope=row>22</th><td>Palacio    </td><td> 5</td><td>3</td><td>3</td><td> 3</td><td>192</td><td>2</td><td>12</td><td> 80</td><td>40.42017</td><td>-3.712629</td><td>      NA</td></tr>\n",
       "\t<tr><th scope=row>23</th><td>La Latina  </td><td> 4</td><td>1</td><td>1</td><td> 1</td><td>100</td><td>2</td><td>12</td><td> NA</td><td>40.40990</td><td>-3.710948</td><td>      NA</td></tr>\n",
       "\t<tr><th scope=row>26</th><td>Palacio    </td><td> 5</td><td>2</td><td>2</td><td> 2</td><td>100</td><td>2</td><td>15</td><td> 95</td><td>40.42156</td><td>-3.709848</td><td>      NA</td></tr>\n",
       "\t<tr><th scope=row>28</th><td>La Latina  </td><td> 4</td><td>2</td><td>2</td><td> 3</td><td>160</td><td>1</td><td> 0</td><td> 93</td><td>40.41173</td><td>-3.712662</td><td>      NA</td></tr>\n",
       "\t<tr><th scope=row>29</th><td>Palacio    </td><td> 4</td><td>1</td><td>1</td><td> 2</td><td> 80</td><td>2</td><td> 0</td><td> 88</td><td>40.42099</td><td>-3.710402</td><td>      NA</td></tr>\n",
       "\t<tr><th scope=row>30</th><td>Palacio    </td><td> 3</td><td>1</td><td>1</td><td> 1</td><td> 68</td><td>2</td><td> 5</td><td> 83</td><td>40.41203</td><td>-3.715779</td><td>      NA</td></tr>\n",
       "\t<tr><th scope=row>31</th><td>Palacio    </td><td> 6</td><td>1</td><td>2</td><td> 2</td><td> 80</td><td>4</td><td>25</td><td> 95</td><td>40.41512</td><td>-3.710294</td><td>      NA</td></tr>\n",
       "\t<tr><th scope=row>35</th><td>Embajadores</td><td> 3</td><td>1</td><td>1</td><td> 1</td><td> 50</td><td>2</td><td>20</td><td> 89</td><td>40.41205</td><td>-3.701022</td><td>      NA</td></tr>\n",
       "\t<tr><th scope=row>38</th><td>Embajadores</td><td> 3</td><td>1</td><td>2</td><td> 2</td><td> 50</td><td>1</td><td>10</td><td> 93</td><td>40.40581</td><td>-3.700252</td><td>      NA</td></tr>\n",
       "\t<tr><th scope=row>42</th><td>La Latina  </td><td> 3</td><td>1</td><td>1</td><td> 2</td><td> 75</td><td>2</td><td>12</td><td>100</td><td>40.41087</td><td>-3.706967</td><td>      NA</td></tr>\n",
       "\t<tr><th scope=row>44</th><td>Embajadores</td><td> 5</td><td>1</td><td>1</td><td> 3</td><td> 75</td><td>2</td><td>15</td><td> 95</td><td>40.41180</td><td>-3.703943</td><td>      NA</td></tr>\n",
       "\t<tr><th scope=row>45</th><td>La Latina  </td><td> 3</td><td>1</td><td>1</td><td> 2</td><td> 55</td><td>2</td><td> 8</td><td> NA</td><td>40.40893</td><td>-3.704979</td><td>      NA</td></tr>\n",
       "\t<tr><th scope=row>46</th><td>Embajadores</td><td> 3</td><td>1</td><td>0</td><td> 2</td><td> 65</td><td>2</td><td>15</td><td>100</td><td>40.41268</td><td>-3.701247</td><td>      NA</td></tr>\n",
       "\t<tr><th scope=row>48</th><td>Palacio    </td><td> 4</td><td>1</td><td>1</td><td> 3</td><td> 60</td><td>2</td><td>15</td><td> 75</td><td>40.42141</td><td>-3.707650</td><td>      NA</td></tr>\n",
       "\t<tr><th scope=row>51</th><td>La Latina  </td><td> 6</td><td>2</td><td>2</td><td> 2</td><td> 72</td><td>2</td><td>20</td><td> 90</td><td>40.41206</td><td>-3.709149</td><td>54.99858</td></tr>\n",
       "\t<tr><th scope=row>52</th><td>Palacio    </td><td> 2</td><td>1</td><td>0</td><td> 1</td><td> 60</td><td>1</td><td> 0</td><td> 82</td><td>40.41628</td><td>-3.710189</td><td>      NA</td></tr>\n",
       "\t<tr><th scope=row>55</th><td>Palacio    </td><td> 4</td><td>1</td><td>1</td><td> 2</td><td> 98</td><td>2</td><td>20</td><td> 88</td><td>40.41968</td><td>-3.710745</td><td>      NA</td></tr>\n",
       "\t<tr><th scope=row>60</th><td>Palacio    </td><td> 4</td><td>1</td><td>1</td><td> 2</td><td> 63</td><td>2</td><td>10</td><td> 95</td><td>40.42248</td><td>-3.710156</td><td>      NA</td></tr>\n",
       "\t<tr><th scope=row>61</th><td>La Latina  </td><td> 4</td><td>1</td><td>1</td><td> 2</td><td> 80</td><td>2</td><td>20</td><td> 99</td><td>40.41322</td><td>-3.711935</td><td>      NA</td></tr>\n",
       "\t<tr><th scope=row>63</th><td>La Latina  </td><td> 3</td><td>1</td><td>1</td><td> 2</td><td> 60</td><td>2</td><td>10</td><td> 98</td><td>40.41248</td><td>-3.708995</td><td>      NA</td></tr>\n",
       "\t<tr><th scope=row>64</th><td>Palacio    </td><td> 3</td><td>1</td><td>1</td><td> 1</td><td> 40</td><td>2</td><td>10</td><td> 89</td><td>40.41106</td><td>-3.716840</td><td>      NA</td></tr>\n",
       "\t<tr><th scope=row>66</th><td>La Latina  </td><td>12</td><td>2</td><td>5</td><td> 8</td><td>300</td><td>7</td><td>20</td><td> 93</td><td>40.41242</td><td>-3.707873</td><td>      NA</td></tr>\n",
       "\t<tr><th scope=row>67</th><td>La Latina  </td><td> 2</td><td>1</td><td>1</td><td> 1</td><td> 65</td><td>1</td><td> 0</td><td>100</td><td>40.40961</td><td>-3.710649</td><td>      NA</td></tr>\n",
       "\t<tr><th scope=row>⋮</th><td>⋮</td><td>⋮</td><td>⋮</td><td>⋮</td><td>⋮</td><td>⋮</td><td>⋮</td><td>⋮</td><td>⋮</td><td>⋮</td><td>⋮</td><td>⋮</td></tr>\n",
       "\t<tr><th scope=row>14710</th><td>La Latina  </td><td> 2</td><td>1.0</td><td>1</td><td>1</td><td> 41</td><td>1</td><td> 0</td><td> 85</td><td>40.40975</td><td>-3.708745</td><td>      NA</td></tr>\n",
       "\t<tr><th scope=row>14714</th><td>Embajadores</td><td> 2</td><td>1.0</td><td>1</td><td>1</td><td> 47</td><td>1</td><td> 0</td><td> NA</td><td>40.40650</td><td>-3.700280</td><td>      NA</td></tr>\n",
       "\t<tr><th scope=row>14716</th><td>Embajadores</td><td> 6</td><td>2.0</td><td>3</td><td>5</td><td>120</td><td>2</td><td>18</td><td> 89</td><td>40.41099</td><td>-3.698289</td><td>      NA</td></tr>\n",
       "\t<tr><th scope=row>14717</th><td>Embajadores</td><td> 3</td><td>1.0</td><td>1</td><td>2</td><td> 50</td><td>1</td><td> 0</td><td> 87</td><td>40.40859</td><td>-3.699698</td><td>      NA</td></tr>\n",
       "\t<tr><th scope=row>14718</th><td>Embajadores</td><td> 4</td><td>1.5</td><td>2</td><td>2</td><td> 71</td><td>2</td><td>20</td><td> 97</td><td>40.40671</td><td>-3.701915</td><td>      NA</td></tr>\n",
       "\t<tr><th scope=row>14719</th><td>La Latina  </td><td> 2</td><td>1.0</td><td>1</td><td>1</td><td> 75</td><td>1</td><td> 0</td><td> 98</td><td>40.40862</td><td>-3.707649</td><td>40.04119</td></tr>\n",
       "\t<tr><th scope=row>14724</th><td>Embajadores</td><td> 2</td><td>1.0</td><td>0</td><td>2</td><td> 41</td><td>2</td><td>15</td><td> 93</td><td>40.40844</td><td>-3.698969</td><td>      NA</td></tr>\n",
       "\t<tr><th scope=row>14726</th><td>La Latina  </td><td> 4</td><td>1.0</td><td>1</td><td>1</td><td> 69</td><td>1</td><td> 0</td><td>100</td><td>40.41112</td><td>-3.706749</td><td>      NA</td></tr>\n",
       "\t<tr><th scope=row>14732</th><td>La Latina  </td><td> 4</td><td>1.0</td><td>2</td><td>3</td><td> 95</td><td>4</td><td>20</td><td>100</td><td>40.41036</td><td>-3.705118</td><td>      NA</td></tr>\n",
       "\t<tr><th scope=row>14735</th><td>Cortes     </td><td> 2</td><td>1.0</td><td>0</td><td>2</td><td> 89</td><td>1</td><td> 0</td><td> NA</td><td>40.41118</td><td>-3.693730</td><td>      NA</td></tr>\n",
       "\t<tr><th scope=row>14737</th><td>Cortes     </td><td> 4</td><td>1.0</td><td>1</td><td>2</td><td> 49</td><td>2</td><td>20</td><td> 88</td><td>40.41228</td><td>-3.696911</td><td>      NA</td></tr>\n",
       "\t<tr><th scope=row>14738</th><td>Cortes     </td><td> 4</td><td>1.0</td><td>1</td><td>2</td><td> 65</td><td>2</td><td>10</td><td> 91</td><td>40.41232</td><td>-3.695173</td><td>      NA</td></tr>\n",
       "\t<tr><th scope=row>14739</th><td>Cortes     </td><td> 5</td><td>2.0</td><td>2</td><td>3</td><td>145</td><td>1</td><td> 0</td><td>100</td><td>40.41373</td><td>-3.697207</td><td>      NA</td></tr>\n",
       "\t<tr><th scope=row>14740</th><td>Cortes     </td><td> 4</td><td>1.0</td><td>2</td><td>3</td><td> 58</td><td>2</td><td>13</td><td> 87</td><td>40.41336</td><td>-3.694922</td><td>      NA</td></tr>\n",
       "\t<tr><th scope=row>14744</th><td>Justicia   </td><td> 2</td><td>1.0</td><td>1</td><td>1</td><td> 79</td><td>2</td><td>29</td><td> 94</td><td>40.42679</td><td>-3.697220</td><td>      NA</td></tr>\n",
       "\t<tr><th scope=row>14745</th><td>Justicia   </td><td> 4</td><td>1.0</td><td>2</td><td>2</td><td> 69</td><td>2</td><td>15</td><td> 93</td><td>40.42176</td><td>-3.699134</td><td>      NA</td></tr>\n",
       "\t<tr><th scope=row>14746</th><td>Justicia   </td><td> 4</td><td>1.0</td><td>2</td><td>2</td><td> 50</td><td>1</td><td>25</td><td> 83</td><td>40.42385</td><td>-3.698944</td><td>      NA</td></tr>\n",
       "\t<tr><th scope=row>14747</th><td>Justicia   </td><td>12</td><td>3.0</td><td>4</td><td>8</td><td>250</td><td>6</td><td>35</td><td> 97</td><td>40.42510</td><td>-3.699414</td><td>      NA</td></tr>\n",
       "\t<tr><th scope=row>14749</th><td>Justicia   </td><td> 4</td><td>1.0</td><td>0</td><td>2</td><td> 65</td><td>1</td><td>15</td><td> 97</td><td>40.42680</td><td>-3.696384</td><td>      NA</td></tr>\n",
       "\t<tr><th scope=row>14751</th><td>Justicia   </td><td> 2</td><td>1.0</td><td>0</td><td>1</td><td> 74</td><td>1</td><td> 0</td><td> 93</td><td>40.42741</td><td>-3.699927</td><td>      NA</td></tr>\n",
       "\t<tr><th scope=row>14752</th><td>Justicia   </td><td> 2</td><td>1.0</td><td>1</td><td>1</td><td> 50</td><td>1</td><td> 0</td><td> 95</td><td>40.42449</td><td>-3.698675</td><td>      NA</td></tr>\n",
       "\t<tr><th scope=row>14754</th><td>Cortes     </td><td> 4</td><td>1.0</td><td>1</td><td>2</td><td> 65</td><td>2</td><td>10</td><td>100</td><td>40.41141</td><td>-3.696039</td><td>      NA</td></tr>\n",
       "\t<tr><th scope=row>14755</th><td>Cortes     </td><td> 4</td><td>1.0</td><td>1</td><td>1</td><td> 80</td><td>1</td><td> 0</td><td> 90</td><td>40.41269</td><td>-3.695939</td><td>      NA</td></tr>\n",
       "\t<tr><th scope=row>14759</th><td>Cortes     </td><td> 4</td><td>1.0</td><td>0</td><td>2</td><td> 65</td><td>2</td><td>15</td><td> 98</td><td>40.41875</td><td>-3.698898</td><td>      NA</td></tr>\n",
       "\t<tr><th scope=row>14760</th><td>Cortes     </td><td> 9</td><td>2.0</td><td>2</td><td>6</td><td> 80</td><td>2</td><td>10</td><td> 98</td><td>40.41632</td><td>-3.700375</td><td>      NA</td></tr>\n",
       "\t<tr><th scope=row>14761</th><td>Cortes     </td><td> 3</td><td>1.0</td><td>1</td><td>3</td><td>200</td><td>1</td><td> 0</td><td> NA</td><td>40.41428</td><td>-3.702910</td><td>      NA</td></tr>\n",
       "\t<tr><th scope=row>14762</th><td>Embajadores</td><td> 4</td><td>1.0</td><td>1</td><td>2</td><td>150</td><td>1</td><td> 0</td><td> 87</td><td>40.41143</td><td>-3.697099</td><td>      NA</td></tr>\n",
       "\t<tr><th scope=row>14764</th><td>Cortes     </td><td> 4</td><td>2.0</td><td>2</td><td>2</td><td>127</td><td>4</td><td>35</td><td> 93</td><td>40.41352</td><td>-3.696828</td><td>      NA</td></tr>\n",
       "\t<tr><th scope=row>14765</th><td>Centro     </td><td> 4</td><td>1.0</td><td>1</td><td>1</td><td> 70</td><td>1</td><td> 0</td><td> NA</td><td>40.41267</td><td>-3.699217</td><td>      NA</td></tr>\n",
       "\t<tr><th scope=row>14768</th><td>Cortes     </td><td> 4</td><td>1.0</td><td>1</td><td>3</td><td> 80</td><td>2</td><td> 9</td><td> 95</td><td>40.41293</td><td>-3.695167</td><td>      NA</td></tr>\n",
       "</tbody>\n",
       "</table>\n"
      ],
      "text/latex": [
       "A data.frame: 5601 × 12\n",
       "\\begin{tabular}{r|llllllllllll}\n",
       "  & Neighbourhood & Accommodates & Bathrooms & Bedrooms & Beds & Price & Guests.Included & Extra.People & Review.Scores.Rating & Latitude & Longitude & Square.Meters\\\\\n",
       "  & <chr> & <int> & <dbl> & <int> & <int> & <int> & <int> & <int> & <int> & <dbl> & <dbl> & <dbl>\\\\\n",
       "\\hline\n",
       "\t4 & Embajadores &  2 & 1 & 1 &  2 &  50 & 1 & 20 &  93 & 40.41126 & -3.697305 &       NA\\\\\n",
       "\t5 & Embajadores &  5 & 1 & 2 &  4 &  95 & 4 &  0 &  97 & 40.41256 & -3.701155 &       NA\\\\\n",
       "\t6 & La Latina   &  4 & 1 & 1 &  2 &  69 & 2 & 18 &  91 & 40.40791 & -3.705095 &       NA\\\\\n",
       "\t9 & Embajadores &  4 & 1 & 1 &  2 &  57 & 2 &  8 &  98 & 40.41162 & -3.703281 &       NA\\\\\n",
       "\t10 & La Latina   &  2 & 1 & 1 &  1 &  59 & 1 &  0 &  95 & 40.40734 & -3.707019 &       NA\\\\\n",
       "\t15 & La Latina   & 14 & 2 & 3 & 14 & 120 & 2 & 18 &  92 & 40.40908 & -3.704744 &       NA\\\\\n",
       "\t21 & La Latina   &  2 & 1 & 1 &  1 &  89 & 1 & 10 &  98 & 40.41007 & -3.710624 &       NA\\\\\n",
       "\t22 & Palacio     &  5 & 3 & 3 &  3 & 192 & 2 & 12 &  80 & 40.42017 & -3.712629 &       NA\\\\\n",
       "\t23 & La Latina   &  4 & 1 & 1 &  1 & 100 & 2 & 12 &  NA & 40.40990 & -3.710948 &       NA\\\\\n",
       "\t26 & Palacio     &  5 & 2 & 2 &  2 & 100 & 2 & 15 &  95 & 40.42156 & -3.709848 &       NA\\\\\n",
       "\t28 & La Latina   &  4 & 2 & 2 &  3 & 160 & 1 &  0 &  93 & 40.41173 & -3.712662 &       NA\\\\\n",
       "\t29 & Palacio     &  4 & 1 & 1 &  2 &  80 & 2 &  0 &  88 & 40.42099 & -3.710402 &       NA\\\\\n",
       "\t30 & Palacio     &  3 & 1 & 1 &  1 &  68 & 2 &  5 &  83 & 40.41203 & -3.715779 &       NA\\\\\n",
       "\t31 & Palacio     &  6 & 1 & 2 &  2 &  80 & 4 & 25 &  95 & 40.41512 & -3.710294 &       NA\\\\\n",
       "\t35 & Embajadores &  3 & 1 & 1 &  1 &  50 & 2 & 20 &  89 & 40.41205 & -3.701022 &       NA\\\\\n",
       "\t38 & Embajadores &  3 & 1 & 2 &  2 &  50 & 1 & 10 &  93 & 40.40581 & -3.700252 &       NA\\\\\n",
       "\t42 & La Latina   &  3 & 1 & 1 &  2 &  75 & 2 & 12 & 100 & 40.41087 & -3.706967 &       NA\\\\\n",
       "\t44 & Embajadores &  5 & 1 & 1 &  3 &  75 & 2 & 15 &  95 & 40.41180 & -3.703943 &       NA\\\\\n",
       "\t45 & La Latina   &  3 & 1 & 1 &  2 &  55 & 2 &  8 &  NA & 40.40893 & -3.704979 &       NA\\\\\n",
       "\t46 & Embajadores &  3 & 1 & 0 &  2 &  65 & 2 & 15 & 100 & 40.41268 & -3.701247 &       NA\\\\\n",
       "\t48 & Palacio     &  4 & 1 & 1 &  3 &  60 & 2 & 15 &  75 & 40.42141 & -3.707650 &       NA\\\\\n",
       "\t51 & La Latina   &  6 & 2 & 2 &  2 &  72 & 2 & 20 &  90 & 40.41206 & -3.709149 & 54.99858\\\\\n",
       "\t52 & Palacio     &  2 & 1 & 0 &  1 &  60 & 1 &  0 &  82 & 40.41628 & -3.710189 &       NA\\\\\n",
       "\t55 & Palacio     &  4 & 1 & 1 &  2 &  98 & 2 & 20 &  88 & 40.41968 & -3.710745 &       NA\\\\\n",
       "\t60 & Palacio     &  4 & 1 & 1 &  2 &  63 & 2 & 10 &  95 & 40.42248 & -3.710156 &       NA\\\\\n",
       "\t61 & La Latina   &  4 & 1 & 1 &  2 &  80 & 2 & 20 &  99 & 40.41322 & -3.711935 &       NA\\\\\n",
       "\t63 & La Latina   &  3 & 1 & 1 &  2 &  60 & 2 & 10 &  98 & 40.41248 & -3.708995 &       NA\\\\\n",
       "\t64 & Palacio     &  3 & 1 & 1 &  1 &  40 & 2 & 10 &  89 & 40.41106 & -3.716840 &       NA\\\\\n",
       "\t66 & La Latina   & 12 & 2 & 5 &  8 & 300 & 7 & 20 &  93 & 40.41242 & -3.707873 &       NA\\\\\n",
       "\t67 & La Latina   &  2 & 1 & 1 &  1 &  65 & 1 &  0 & 100 & 40.40961 & -3.710649 &       NA\\\\\n",
       "\t⋮ & ⋮ & ⋮ & ⋮ & ⋮ & ⋮ & ⋮ & ⋮ & ⋮ & ⋮ & ⋮ & ⋮ & ⋮\\\\\n",
       "\t14710 & La Latina   &  2 & 1.0 & 1 & 1 &  41 & 1 &  0 &  85 & 40.40975 & -3.708745 &       NA\\\\\n",
       "\t14714 & Embajadores &  2 & 1.0 & 1 & 1 &  47 & 1 &  0 &  NA & 40.40650 & -3.700280 &       NA\\\\\n",
       "\t14716 & Embajadores &  6 & 2.0 & 3 & 5 & 120 & 2 & 18 &  89 & 40.41099 & -3.698289 &       NA\\\\\n",
       "\t14717 & Embajadores &  3 & 1.0 & 1 & 2 &  50 & 1 &  0 &  87 & 40.40859 & -3.699698 &       NA\\\\\n",
       "\t14718 & Embajadores &  4 & 1.5 & 2 & 2 &  71 & 2 & 20 &  97 & 40.40671 & -3.701915 &       NA\\\\\n",
       "\t14719 & La Latina   &  2 & 1.0 & 1 & 1 &  75 & 1 &  0 &  98 & 40.40862 & -3.707649 & 40.04119\\\\\n",
       "\t14724 & Embajadores &  2 & 1.0 & 0 & 2 &  41 & 2 & 15 &  93 & 40.40844 & -3.698969 &       NA\\\\\n",
       "\t14726 & La Latina   &  4 & 1.0 & 1 & 1 &  69 & 1 &  0 & 100 & 40.41112 & -3.706749 &       NA\\\\\n",
       "\t14732 & La Latina   &  4 & 1.0 & 2 & 3 &  95 & 4 & 20 & 100 & 40.41036 & -3.705118 &       NA\\\\\n",
       "\t14735 & Cortes      &  2 & 1.0 & 0 & 2 &  89 & 1 &  0 &  NA & 40.41118 & -3.693730 &       NA\\\\\n",
       "\t14737 & Cortes      &  4 & 1.0 & 1 & 2 &  49 & 2 & 20 &  88 & 40.41228 & -3.696911 &       NA\\\\\n",
       "\t14738 & Cortes      &  4 & 1.0 & 1 & 2 &  65 & 2 & 10 &  91 & 40.41232 & -3.695173 &       NA\\\\\n",
       "\t14739 & Cortes      &  5 & 2.0 & 2 & 3 & 145 & 1 &  0 & 100 & 40.41373 & -3.697207 &       NA\\\\\n",
       "\t14740 & Cortes      &  4 & 1.0 & 2 & 3 &  58 & 2 & 13 &  87 & 40.41336 & -3.694922 &       NA\\\\\n",
       "\t14744 & Justicia    &  2 & 1.0 & 1 & 1 &  79 & 2 & 29 &  94 & 40.42679 & -3.697220 &       NA\\\\\n",
       "\t14745 & Justicia    &  4 & 1.0 & 2 & 2 &  69 & 2 & 15 &  93 & 40.42176 & -3.699134 &       NA\\\\\n",
       "\t14746 & Justicia    &  4 & 1.0 & 2 & 2 &  50 & 1 & 25 &  83 & 40.42385 & -3.698944 &       NA\\\\\n",
       "\t14747 & Justicia    & 12 & 3.0 & 4 & 8 & 250 & 6 & 35 &  97 & 40.42510 & -3.699414 &       NA\\\\\n",
       "\t14749 & Justicia    &  4 & 1.0 & 0 & 2 &  65 & 1 & 15 &  97 & 40.42680 & -3.696384 &       NA\\\\\n",
       "\t14751 & Justicia    &  2 & 1.0 & 0 & 1 &  74 & 1 &  0 &  93 & 40.42741 & -3.699927 &       NA\\\\\n",
       "\t14752 & Justicia    &  2 & 1.0 & 1 & 1 &  50 & 1 &  0 &  95 & 40.42449 & -3.698675 &       NA\\\\\n",
       "\t14754 & Cortes      &  4 & 1.0 & 1 & 2 &  65 & 2 & 10 & 100 & 40.41141 & -3.696039 &       NA\\\\\n",
       "\t14755 & Cortes      &  4 & 1.0 & 1 & 1 &  80 & 1 &  0 &  90 & 40.41269 & -3.695939 &       NA\\\\\n",
       "\t14759 & Cortes      &  4 & 1.0 & 0 & 2 &  65 & 2 & 15 &  98 & 40.41875 & -3.698898 &       NA\\\\\n",
       "\t14760 & Cortes      &  9 & 2.0 & 2 & 6 &  80 & 2 & 10 &  98 & 40.41632 & -3.700375 &       NA\\\\\n",
       "\t14761 & Cortes      &  3 & 1.0 & 1 & 3 & 200 & 1 &  0 &  NA & 40.41428 & -3.702910 &       NA\\\\\n",
       "\t14762 & Embajadores &  4 & 1.0 & 1 & 2 & 150 & 1 &  0 &  87 & 40.41143 & -3.697099 &       NA\\\\\n",
       "\t14764 & Cortes      &  4 & 2.0 & 2 & 2 & 127 & 4 & 35 &  93 & 40.41352 & -3.696828 &       NA\\\\\n",
       "\t14765 & Centro      &  4 & 1.0 & 1 & 1 &  70 & 1 &  0 &  NA & 40.41267 & -3.699217 &       NA\\\\\n",
       "\t14768 & Cortes      &  4 & 1.0 & 1 & 3 &  80 & 2 &  9 &  95 & 40.41293 & -3.695167 &       NA\\\\\n",
       "\\end{tabular}\n"
      ],
      "text/markdown": [
       "\n",
       "A data.frame: 5601 × 12\n",
       "\n",
       "| <!--/--> | Neighbourhood &lt;chr&gt; | Accommodates &lt;int&gt; | Bathrooms &lt;dbl&gt; | Bedrooms &lt;int&gt; | Beds &lt;int&gt; | Price &lt;int&gt; | Guests.Included &lt;int&gt; | Extra.People &lt;int&gt; | Review.Scores.Rating &lt;int&gt; | Latitude &lt;dbl&gt; | Longitude &lt;dbl&gt; | Square.Meters &lt;dbl&gt; |\n",
       "|---|---|---|---|---|---|---|---|---|---|---|---|---|\n",
       "| 4 | Embajadores |  2 | 1 | 1 |  2 |  50 | 1 | 20 |  93 | 40.41126 | -3.697305 |       NA |\n",
       "| 5 | Embajadores |  5 | 1 | 2 |  4 |  95 | 4 |  0 |  97 | 40.41256 | -3.701155 |       NA |\n",
       "| 6 | La Latina   |  4 | 1 | 1 |  2 |  69 | 2 | 18 |  91 | 40.40791 | -3.705095 |       NA |\n",
       "| 9 | Embajadores |  4 | 1 | 1 |  2 |  57 | 2 |  8 |  98 | 40.41162 | -3.703281 |       NA |\n",
       "| 10 | La Latina   |  2 | 1 | 1 |  1 |  59 | 1 |  0 |  95 | 40.40734 | -3.707019 |       NA |\n",
       "| 15 | La Latina   | 14 | 2 | 3 | 14 | 120 | 2 | 18 |  92 | 40.40908 | -3.704744 |       NA |\n",
       "| 21 | La Latina   |  2 | 1 | 1 |  1 |  89 | 1 | 10 |  98 | 40.41007 | -3.710624 |       NA |\n",
       "| 22 | Palacio     |  5 | 3 | 3 |  3 | 192 | 2 | 12 |  80 | 40.42017 | -3.712629 |       NA |\n",
       "| 23 | La Latina   |  4 | 1 | 1 |  1 | 100 | 2 | 12 |  NA | 40.40990 | -3.710948 |       NA |\n",
       "| 26 | Palacio     |  5 | 2 | 2 |  2 | 100 | 2 | 15 |  95 | 40.42156 | -3.709848 |       NA |\n",
       "| 28 | La Latina   |  4 | 2 | 2 |  3 | 160 | 1 |  0 |  93 | 40.41173 | -3.712662 |       NA |\n",
       "| 29 | Palacio     |  4 | 1 | 1 |  2 |  80 | 2 |  0 |  88 | 40.42099 | -3.710402 |       NA |\n",
       "| 30 | Palacio     |  3 | 1 | 1 |  1 |  68 | 2 |  5 |  83 | 40.41203 | -3.715779 |       NA |\n",
       "| 31 | Palacio     |  6 | 1 | 2 |  2 |  80 | 4 | 25 |  95 | 40.41512 | -3.710294 |       NA |\n",
       "| 35 | Embajadores |  3 | 1 | 1 |  1 |  50 | 2 | 20 |  89 | 40.41205 | -3.701022 |       NA |\n",
       "| 38 | Embajadores |  3 | 1 | 2 |  2 |  50 | 1 | 10 |  93 | 40.40581 | -3.700252 |       NA |\n",
       "| 42 | La Latina   |  3 | 1 | 1 |  2 |  75 | 2 | 12 | 100 | 40.41087 | -3.706967 |       NA |\n",
       "| 44 | Embajadores |  5 | 1 | 1 |  3 |  75 | 2 | 15 |  95 | 40.41180 | -3.703943 |       NA |\n",
       "| 45 | La Latina   |  3 | 1 | 1 |  2 |  55 | 2 |  8 |  NA | 40.40893 | -3.704979 |       NA |\n",
       "| 46 | Embajadores |  3 | 1 | 0 |  2 |  65 | 2 | 15 | 100 | 40.41268 | -3.701247 |       NA |\n",
       "| 48 | Palacio     |  4 | 1 | 1 |  3 |  60 | 2 | 15 |  75 | 40.42141 | -3.707650 |       NA |\n",
       "| 51 | La Latina   |  6 | 2 | 2 |  2 |  72 | 2 | 20 |  90 | 40.41206 | -3.709149 | 54.99858 |\n",
       "| 52 | Palacio     |  2 | 1 | 0 |  1 |  60 | 1 |  0 |  82 | 40.41628 | -3.710189 |       NA |\n",
       "| 55 | Palacio     |  4 | 1 | 1 |  2 |  98 | 2 | 20 |  88 | 40.41968 | -3.710745 |       NA |\n",
       "| 60 | Palacio     |  4 | 1 | 1 |  2 |  63 | 2 | 10 |  95 | 40.42248 | -3.710156 |       NA |\n",
       "| 61 | La Latina   |  4 | 1 | 1 |  2 |  80 | 2 | 20 |  99 | 40.41322 | -3.711935 |       NA |\n",
       "| 63 | La Latina   |  3 | 1 | 1 |  2 |  60 | 2 | 10 |  98 | 40.41248 | -3.708995 |       NA |\n",
       "| 64 | Palacio     |  3 | 1 | 1 |  1 |  40 | 2 | 10 |  89 | 40.41106 | -3.716840 |       NA |\n",
       "| 66 | La Latina   | 12 | 2 | 5 |  8 | 300 | 7 | 20 |  93 | 40.41242 | -3.707873 |       NA |\n",
       "| 67 | La Latina   |  2 | 1 | 1 |  1 |  65 | 1 |  0 | 100 | 40.40961 | -3.710649 |       NA |\n",
       "| ⋮ | ⋮ | ⋮ | ⋮ | ⋮ | ⋮ | ⋮ | ⋮ | ⋮ | ⋮ | ⋮ | ⋮ | ⋮ |\n",
       "| 14710 | La Latina   |  2 | 1.0 | 1 | 1 |  41 | 1 |  0 |  85 | 40.40975 | -3.708745 |       NA |\n",
       "| 14714 | Embajadores |  2 | 1.0 | 1 | 1 |  47 | 1 |  0 |  NA | 40.40650 | -3.700280 |       NA |\n",
       "| 14716 | Embajadores |  6 | 2.0 | 3 | 5 | 120 | 2 | 18 |  89 | 40.41099 | -3.698289 |       NA |\n",
       "| 14717 | Embajadores |  3 | 1.0 | 1 | 2 |  50 | 1 |  0 |  87 | 40.40859 | -3.699698 |       NA |\n",
       "| 14718 | Embajadores |  4 | 1.5 | 2 | 2 |  71 | 2 | 20 |  97 | 40.40671 | -3.701915 |       NA |\n",
       "| 14719 | La Latina   |  2 | 1.0 | 1 | 1 |  75 | 1 |  0 |  98 | 40.40862 | -3.707649 | 40.04119 |\n",
       "| 14724 | Embajadores |  2 | 1.0 | 0 | 2 |  41 | 2 | 15 |  93 | 40.40844 | -3.698969 |       NA |\n",
       "| 14726 | La Latina   |  4 | 1.0 | 1 | 1 |  69 | 1 |  0 | 100 | 40.41112 | -3.706749 |       NA |\n",
       "| 14732 | La Latina   |  4 | 1.0 | 2 | 3 |  95 | 4 | 20 | 100 | 40.41036 | -3.705118 |       NA |\n",
       "| 14735 | Cortes      |  2 | 1.0 | 0 | 2 |  89 | 1 |  0 |  NA | 40.41118 | -3.693730 |       NA |\n",
       "| 14737 | Cortes      |  4 | 1.0 | 1 | 2 |  49 | 2 | 20 |  88 | 40.41228 | -3.696911 |       NA |\n",
       "| 14738 | Cortes      |  4 | 1.0 | 1 | 2 |  65 | 2 | 10 |  91 | 40.41232 | -3.695173 |       NA |\n",
       "| 14739 | Cortes      |  5 | 2.0 | 2 | 3 | 145 | 1 |  0 | 100 | 40.41373 | -3.697207 |       NA |\n",
       "| 14740 | Cortes      |  4 | 1.0 | 2 | 3 |  58 | 2 | 13 |  87 | 40.41336 | -3.694922 |       NA |\n",
       "| 14744 | Justicia    |  2 | 1.0 | 1 | 1 |  79 | 2 | 29 |  94 | 40.42679 | -3.697220 |       NA |\n",
       "| 14745 | Justicia    |  4 | 1.0 | 2 | 2 |  69 | 2 | 15 |  93 | 40.42176 | -3.699134 |       NA |\n",
       "| 14746 | Justicia    |  4 | 1.0 | 2 | 2 |  50 | 1 | 25 |  83 | 40.42385 | -3.698944 |       NA |\n",
       "| 14747 | Justicia    | 12 | 3.0 | 4 | 8 | 250 | 6 | 35 |  97 | 40.42510 | -3.699414 |       NA |\n",
       "| 14749 | Justicia    |  4 | 1.0 | 0 | 2 |  65 | 1 | 15 |  97 | 40.42680 | -3.696384 |       NA |\n",
       "| 14751 | Justicia    |  2 | 1.0 | 0 | 1 |  74 | 1 |  0 |  93 | 40.42741 | -3.699927 |       NA |\n",
       "| 14752 | Justicia    |  2 | 1.0 | 1 | 1 |  50 | 1 |  0 |  95 | 40.42449 | -3.698675 |       NA |\n",
       "| 14754 | Cortes      |  4 | 1.0 | 1 | 2 |  65 | 2 | 10 | 100 | 40.41141 | -3.696039 |       NA |\n",
       "| 14755 | Cortes      |  4 | 1.0 | 1 | 1 |  80 | 1 |  0 |  90 | 40.41269 | -3.695939 |       NA |\n",
       "| 14759 | Cortes      |  4 | 1.0 | 0 | 2 |  65 | 2 | 15 |  98 | 40.41875 | -3.698898 |       NA |\n",
       "| 14760 | Cortes      |  9 | 2.0 | 2 | 6 |  80 | 2 | 10 |  98 | 40.41632 | -3.700375 |       NA |\n",
       "| 14761 | Cortes      |  3 | 1.0 | 1 | 3 | 200 | 1 |  0 |  NA | 40.41428 | -3.702910 |       NA |\n",
       "| 14762 | Embajadores |  4 | 1.0 | 1 | 2 | 150 | 1 |  0 |  87 | 40.41143 | -3.697099 |       NA |\n",
       "| 14764 | Cortes      |  4 | 2.0 | 2 | 2 | 127 | 4 | 35 |  93 | 40.41352 | -3.696828 |       NA |\n",
       "| 14765 | Centro      |  4 | 1.0 | 1 | 1 |  70 | 1 |  0 |  NA | 40.41267 | -3.699217 |       NA |\n",
       "| 14768 | Cortes      |  4 | 1.0 | 1 | 3 |  80 | 2 |  9 |  95 | 40.41293 | -3.695167 |       NA |\n",
       "\n"
      ],
      "text/plain": [
       "      Neighbourhood Accommodates Bathrooms Bedrooms Beds Price Guests.Included\n",
       "4     Embajadores    2           1         1         2    50   1              \n",
       "5     Embajadores    5           1         2         4    95   4              \n",
       "6     La Latina      4           1         1         2    69   2              \n",
       "9     Embajadores    4           1         1         2    57   2              \n",
       "10    La Latina      2           1         1         1    59   1              \n",
       "15    La Latina     14           2         3        14   120   2              \n",
       "21    La Latina      2           1         1         1    89   1              \n",
       "22    Palacio        5           3         3         3   192   2              \n",
       "23    La Latina      4           1         1         1   100   2              \n",
       "26    Palacio        5           2         2         2   100   2              \n",
       "28    La Latina      4           2         2         3   160   1              \n",
       "29    Palacio        4           1         1         2    80   2              \n",
       "30    Palacio        3           1         1         1    68   2              \n",
       "31    Palacio        6           1         2         2    80   4              \n",
       "35    Embajadores    3           1         1         1    50   2              \n",
       "38    Embajadores    3           1         2         2    50   1              \n",
       "42    La Latina      3           1         1         2    75   2              \n",
       "44    Embajadores    5           1         1         3    75   2              \n",
       "45    La Latina      3           1         1         2    55   2              \n",
       "46    Embajadores    3           1         0         2    65   2              \n",
       "48    Palacio        4           1         1         3    60   2              \n",
       "51    La Latina      6           2         2         2    72   2              \n",
       "52    Palacio        2           1         0         1    60   1              \n",
       "55    Palacio        4           1         1         2    98   2              \n",
       "60    Palacio        4           1         1         2    63   2              \n",
       "61    La Latina      4           1         1         2    80   2              \n",
       "63    La Latina      3           1         1         2    60   2              \n",
       "64    Palacio        3           1         1         1    40   2              \n",
       "66    La Latina     12           2         5         8   300   7              \n",
       "67    La Latina      2           1         1         1    65   1              \n",
       "⋮     ⋮             ⋮            ⋮         ⋮        ⋮    ⋮     ⋮              \n",
       "14710 La Latina      2           1.0       1        1     41   1              \n",
       "14714 Embajadores    2           1.0       1        1     47   1              \n",
       "14716 Embajadores    6           2.0       3        5    120   2              \n",
       "14717 Embajadores    3           1.0       1        2     50   1              \n",
       "14718 Embajadores    4           1.5       2        2     71   2              \n",
       "14719 La Latina      2           1.0       1        1     75   1              \n",
       "14724 Embajadores    2           1.0       0        2     41   2              \n",
       "14726 La Latina      4           1.0       1        1     69   1              \n",
       "14732 La Latina      4           1.0       2        3     95   4              \n",
       "14735 Cortes         2           1.0       0        2     89   1              \n",
       "14737 Cortes         4           1.0       1        2     49   2              \n",
       "14738 Cortes         4           1.0       1        2     65   2              \n",
       "14739 Cortes         5           2.0       2        3    145   1              \n",
       "14740 Cortes         4           1.0       2        3     58   2              \n",
       "14744 Justicia       2           1.0       1        1     79   2              \n",
       "14745 Justicia       4           1.0       2        2     69   2              \n",
       "14746 Justicia       4           1.0       2        2     50   1              \n",
       "14747 Justicia      12           3.0       4        8    250   6              \n",
       "14749 Justicia       4           1.0       0        2     65   1              \n",
       "14751 Justicia       2           1.0       0        1     74   1              \n",
       "14752 Justicia       2           1.0       1        1     50   1              \n",
       "14754 Cortes         4           1.0       1        2     65   2              \n",
       "14755 Cortes         4           1.0       1        1     80   1              \n",
       "14759 Cortes         4           1.0       0        2     65   2              \n",
       "14760 Cortes         9           2.0       2        6     80   2              \n",
       "14761 Cortes         3           1.0       1        3    200   1              \n",
       "14762 Embajadores    4           1.0       1        2    150   1              \n",
       "14764 Cortes         4           2.0       2        2    127   4              \n",
       "14765 Centro         4           1.0       1        1     70   1              \n",
       "14768 Cortes         4           1.0       1        3     80   2              \n",
       "      Extra.People Review.Scores.Rating Latitude Longitude Square.Meters\n",
       "4     20            93                  40.41126 -3.697305       NA     \n",
       "5      0            97                  40.41256 -3.701155       NA     \n",
       "6     18            91                  40.40791 -3.705095       NA     \n",
       "9      8            98                  40.41162 -3.703281       NA     \n",
       "10     0            95                  40.40734 -3.707019       NA     \n",
       "15    18            92                  40.40908 -3.704744       NA     \n",
       "21    10            98                  40.41007 -3.710624       NA     \n",
       "22    12            80                  40.42017 -3.712629       NA     \n",
       "23    12            NA                  40.40990 -3.710948       NA     \n",
       "26    15            95                  40.42156 -3.709848       NA     \n",
       "28     0            93                  40.41173 -3.712662       NA     \n",
       "29     0            88                  40.42099 -3.710402       NA     \n",
       "30     5            83                  40.41203 -3.715779       NA     \n",
       "31    25            95                  40.41512 -3.710294       NA     \n",
       "35    20            89                  40.41205 -3.701022       NA     \n",
       "38    10            93                  40.40581 -3.700252       NA     \n",
       "42    12           100                  40.41087 -3.706967       NA     \n",
       "44    15            95                  40.41180 -3.703943       NA     \n",
       "45     8            NA                  40.40893 -3.704979       NA     \n",
       "46    15           100                  40.41268 -3.701247       NA     \n",
       "48    15            75                  40.42141 -3.707650       NA     \n",
       "51    20            90                  40.41206 -3.709149 54.99858     \n",
       "52     0            82                  40.41628 -3.710189       NA     \n",
       "55    20            88                  40.41968 -3.710745       NA     \n",
       "60    10            95                  40.42248 -3.710156       NA     \n",
       "61    20            99                  40.41322 -3.711935       NA     \n",
       "63    10            98                  40.41248 -3.708995       NA     \n",
       "64    10            89                  40.41106 -3.716840       NA     \n",
       "66    20            93                  40.41242 -3.707873       NA     \n",
       "67     0           100                  40.40961 -3.710649       NA     \n",
       "⋮     ⋮            ⋮                    ⋮        ⋮         ⋮            \n",
       "14710  0            85                  40.40975 -3.708745       NA     \n",
       "14714  0            NA                  40.40650 -3.700280       NA     \n",
       "14716 18            89                  40.41099 -3.698289       NA     \n",
       "14717  0            87                  40.40859 -3.699698       NA     \n",
       "14718 20            97                  40.40671 -3.701915       NA     \n",
       "14719  0            98                  40.40862 -3.707649 40.04119     \n",
       "14724 15            93                  40.40844 -3.698969       NA     \n",
       "14726  0           100                  40.41112 -3.706749       NA     \n",
       "14732 20           100                  40.41036 -3.705118       NA     \n",
       "14735  0            NA                  40.41118 -3.693730       NA     \n",
       "14737 20            88                  40.41228 -3.696911       NA     \n",
       "14738 10            91                  40.41232 -3.695173       NA     \n",
       "14739  0           100                  40.41373 -3.697207       NA     \n",
       "14740 13            87                  40.41336 -3.694922       NA     \n",
       "14744 29            94                  40.42679 -3.697220       NA     \n",
       "14745 15            93                  40.42176 -3.699134       NA     \n",
       "14746 25            83                  40.42385 -3.698944       NA     \n",
       "14747 35            97                  40.42510 -3.699414       NA     \n",
       "14749 15            97                  40.42680 -3.696384       NA     \n",
       "14751  0            93                  40.42741 -3.699927       NA     \n",
       "14752  0            95                  40.42449 -3.698675       NA     \n",
       "14754 10           100                  40.41141 -3.696039       NA     \n",
       "14755  0            90                  40.41269 -3.695939       NA     \n",
       "14759 15            98                  40.41875 -3.698898       NA     \n",
       "14760 10            98                  40.41632 -3.700375       NA     \n",
       "14761  0            NA                  40.41428 -3.702910       NA     \n",
       "14762  0            87                  40.41143 -3.697099       NA     \n",
       "14764 35            93                  40.41352 -3.696828       NA     \n",
       "14765  0            NA                  40.41267 -3.699217       NA     \n",
       "14768  9            95                  40.41293 -3.695167       NA     "
      ]
     },
     "metadata": {},
     "output_type": "display_data"
    }
   ],
   "source": [
    "\n",
    "#Convertir en NA todos los 0m2 de la columna metros cuadrados\n",
    "df_madrid$Square.Meters[df_madrid$Square.Meters=='0' & !is.na(df_madrid$Square.Meters)] <- NA\n",
    "print(paste('El nº total de cero m2 es: ', sum(df_madrid$Square.Meters=='0' & !is.na(df_madrid$Square.Meters))))\n",
    "m2Na <-sum(is.na(df_madrid$Square.Meters))\n",
    "print(paste('El nuevo nº total de NAs', m2Na))\n",
    "df_madrid"
   ]
  },
  {
   "cell_type": "markdown",
   "metadata": {},
   "source": [
    "Son muchos, vamos a intentar crear un modelo que nos prediga cuantos son los metros cuadrados en función del resto de variables para tratar de rellenar esos NA. Pero **antes de crear el modelo** vamos a hacer:\n",
    "* pintar el histograma de los metros cuadrados y ver si tenemos que filtrar algún elemento más.\n",
    "* crearemos una variable sintética nueva basada en la similitud entre barrios que usaremos en nuestro modelo."
   ]
  },
  {
   "cell_type": "markdown",
   "metadata": {},
   "source": [
    "Pinta el histograma de los metros cuadrados y ver si tenemos que filtrar algún elemento más"
   ]
  },
  {
   "cell_type": "markdown",
   "metadata": {},
   "source": []
  },
  {
   "cell_type": "markdown",
   "metadata": {},
   "source": [
    "Asigna el valor NA a la columna Square.Meters de los apartamentos que tengan menos de 20 m^2"
   ]
  },
  {
   "cell_type": "code",
   "execution_count": 8,
   "metadata": {},
   "outputs": [
    {
     "name": "stderr",
     "output_type": "stream",
     "text": [
      "Warning message:\n",
      "\"package 'ggplot2' was built under R version 4.2.2\"\n",
      "Warning message:\n",
      "\"\u001b[1m\u001b[22mRemoved 5382 rows containing non-finite values (`stat_bin()`).\"\n"
     ]
    },
    {
     "data": {
      "image/png": "[encoded data removed]",
      "text/plain": [
       "plot without title"
      ]
     },
     "metadata": {
      "image/png": {
       "height": 600,
       "width": 900
      }
     },
     "output_type": "display_data"
    },
    {
     "data": {
      "image/png": "[encoded data removed]",
      "text/plain": [
       "plot without title"
      ]
     },
     "metadata": {
      "image/png": {
       "height": 600,
       "width": 900
      }
     },
     "output_type": "display_data"
    }
   ],
   "source": [
    "library(ggplot2)\n",
    "ggplot(df_madrid,aes(x=Square.Meters))+geom_histogram(bins = 50)\n",
    "boxplot(df_madrid$Square.Meters)\n",
    "\n"
   ]
  },
  {
   "cell_type": "markdown",
   "metadata": {},
   "source": [
    "Existen varios Barrios que todas sus entradas de Square.Meters son NA, vamos a eliminar del dataset todos los pisos que pertenecen a estos barrios."
   ]
  },
  {
   "cell_type": "code",
   "execution_count": 9,
   "metadata": {},
   "outputs": [
    {
     "name": "stderr",
     "output_type": "stream",
     "text": [
      "Warning message:\n",
      "\"package 'dplyr' was built under R version 4.2.2\"\n",
      "\n",
      "Attaching package: 'dplyr'\n",
      "\n",
      "\n",
      "The following objects are masked from 'package:stats':\n",
      "\n",
      "    filter, lag\n",
      "\n",
      "\n",
      "The following objects are masked from 'package:base':\n",
      "\n",
      "    intersect, setdiff, setequal, union\n",
      "\n",
      "\n"
     ]
    },
    {
     "data": {
      "text/html": [
       "<style>\n",
       ".list-inline {list-style: none; margin:0; padding: 0}\n",
       ".list-inline>li {display: inline-block}\n",
       ".list-inline>li:not(:last-child)::after {content: \"\\00b7\"; padding: 0 .5ex}\n",
       "</style>\n",
       "<ol class=list-inline><li>43</li><li>2</li></ol>\n"
      ],
      "text/latex": [
       "\\begin{enumerate*}\n",
       "\\item 43\n",
       "\\item 2\n",
       "\\end{enumerate*}\n"
      ],
      "text/markdown": [
       "1. 43\n",
       "2. 2\n",
       "\n",
       "\n"
      ],
      "text/plain": [
       "[1] 43  2"
      ]
     },
     "metadata": {},
     "output_type": "display_data"
    },
    {
     "data": {
      "text/html": [
       "<style>\n",
       ".list-inline {list-style: none; margin:0; padding: 0}\n",
       ".list-inline>li {display: inline-block}\n",
       ".list-inline>li:not(:last-child)::after {content: \"\\00b7\"; padding: 0 .5ex}\n",
       "</style>\n",
       "<ol class=list-inline><li>'Acacias'</li><li>'Adelfas'</li><li>'Almagro'</li><li>'Almenara'</li><li>'Aluche'</li><li>'Arapiles'</li><li>'Argüelles'</li><li>'Barajas'</li><li>'Carabanchel'</li><li>'Castellana'</li><li>'Castilla'</li><li>'Centro'</li><li>'Chamberí'</li><li>'Ciudad Jardin'</li><li>'Ciudad Lineal'</li><li>'Cortes'</li><li>'Cuatro Caminos'</li><li>'Delicias'</li><li>'El Tréntaiseis'</li><li>'El Viso'</li><li>'Embajadores'</li><li>'Estrella'</li><li>'Fuente del Berro'</li><li>'Goya'</li><li>'Hortaleza'</li><li>'Jerónimos'</li><li>'Justicia'</li><li>'La Latina'</li><li>'Lista'</li><li>'Malasaña'</li><li>'Moratalaz'</li><li>'Pacifico'</li><li>'Palacio'</li><li>'Palos do Moguer'</li><li>'Recoletos'</li><li>'Retiro'</li><li>'Rios Rosas'</li><li>'San Blas'</li><li>'Sol'</li><li>'Trafalgar'</li><li>'Usera'</li><li>'Vicálvaro'</li><li>'Villaverde'</li></ol>\n"
      ],
      "text/latex": [
       "\\begin{enumerate*}\n",
       "\\item 'Acacias'\n",
       "\\item 'Adelfas'\n",
       "\\item 'Almagro'\n",
       "\\item 'Almenara'\n",
       "\\item 'Aluche'\n",
       "\\item 'Arapiles'\n",
       "\\item 'Argüelles'\n",
       "\\item 'Barajas'\n",
       "\\item 'Carabanchel'\n",
       "\\item 'Castellana'\n",
       "\\item 'Castilla'\n",
       "\\item 'Centro'\n",
       "\\item 'Chamberí'\n",
       "\\item 'Ciudad Jardin'\n",
       "\\item 'Ciudad Lineal'\n",
       "\\item 'Cortes'\n",
       "\\item 'Cuatro Caminos'\n",
       "\\item 'Delicias'\n",
       "\\item 'El Tréntaiseis'\n",
       "\\item 'El Viso'\n",
       "\\item 'Embajadores'\n",
       "\\item 'Estrella'\n",
       "\\item 'Fuente del Berro'\n",
       "\\item 'Goya'\n",
       "\\item 'Hortaleza'\n",
       "\\item 'Jerónimos'\n",
       "\\item 'Justicia'\n",
       "\\item 'La Latina'\n",
       "\\item 'Lista'\n",
       "\\item 'Malasaña'\n",
       "\\item 'Moratalaz'\n",
       "\\item 'Pacifico'\n",
       "\\item 'Palacio'\n",
       "\\item 'Palos do Moguer'\n",
       "\\item 'Recoletos'\n",
       "\\item 'Retiro'\n",
       "\\item 'Rios Rosas'\n",
       "\\item 'San Blas'\n",
       "\\item 'Sol'\n",
       "\\item 'Trafalgar'\n",
       "\\item 'Usera'\n",
       "\\item 'Vicálvaro'\n",
       "\\item 'Villaverde'\n",
       "\\end{enumerate*}\n"
      ],
      "text/markdown": [
       "1. 'Acacias'\n",
       "2. 'Adelfas'\n",
       "3. 'Almagro'\n",
       "4. 'Almenara'\n",
       "5. 'Aluche'\n",
       "6. 'Arapiles'\n",
       "7. 'Argüelles'\n",
       "8. 'Barajas'\n",
       "9. 'Carabanchel'\n",
       "10. 'Castellana'\n",
       "11. 'Castilla'\n",
       "12. 'Centro'\n",
       "13. 'Chamberí'\n",
       "14. 'Ciudad Jardin'\n",
       "15. 'Ciudad Lineal'\n",
       "16. 'Cortes'\n",
       "17. 'Cuatro Caminos'\n",
       "18. 'Delicias'\n",
       "19. 'El Tréntaiseis'\n",
       "20. 'El Viso'\n",
       "21. 'Embajadores'\n",
       "22. 'Estrella'\n",
       "23. 'Fuente del Berro'\n",
       "24. 'Goya'\n",
       "25. 'Hortaleza'\n",
       "26. 'Jerónimos'\n",
       "27. 'Justicia'\n",
       "28. 'La Latina'\n",
       "29. 'Lista'\n",
       "30. 'Malasaña'\n",
       "31. 'Moratalaz'\n",
       "32. 'Pacifico'\n",
       "33. 'Palacio'\n",
       "34. 'Palos do Moguer'\n",
       "35. 'Recoletos'\n",
       "36. 'Retiro'\n",
       "37. 'Rios Rosas'\n",
       "38. 'San Blas'\n",
       "39. 'Sol'\n",
       "40. 'Trafalgar'\n",
       "41. 'Usera'\n",
       "42. 'Vicálvaro'\n",
       "43. 'Villaverde'\n",
       "\n",
       "\n"
      ],
      "text/plain": [
       " [1] \"Acacias\"          \"Adelfas\"          \"Almagro\"          \"Almenara\"        \n",
       " [5] \"Aluche\"           \"Arapiles\"         \"Argüelles\"        \"Barajas\"         \n",
       " [9] \"Carabanchel\"      \"Castellana\"       \"Castilla\"         \"Centro\"          \n",
       "[13] \"Chamberí\"         \"Ciudad Jardin\"    \"Ciudad Lineal\"    \"Cortes\"          \n",
       "[17] \"Cuatro Caminos\"   \"Delicias\"         \"El Tréntaiseis\"   \"El Viso\"         \n",
       "[21] \"Embajadores\"      \"Estrella\"         \"Fuente del Berro\" \"Goya\"            \n",
       "[25] \"Hortaleza\"        \"Jerónimos\"        \"Justicia\"         \"La Latina\"       \n",
       "[29] \"Lista\"            \"Malasaña\"         \"Moratalaz\"        \"Pacifico\"        \n",
       "[33] \"Palacio\"          \"Palos do Moguer\"  \"Recoletos\"        \"Retiro\"          \n",
       "[37] \"Rios Rosas\"       \"San Blas\"         \"Sol\"              \"Trafalgar\"       \n",
       "[41] \"Usera\"            \"Vicálvaro\"        \"Villaverde\"      "
      ]
     },
     "metadata": {},
     "output_type": "display_data"
    },
    {
     "data": {
      "text/html": [
       "<style>\n",
       ".list-inline {list-style: none; margin:0; padding: 0}\n",
       ".list-inline>li {display: inline-block}\n",
       ".list-inline>li:not(:last-child)::after {content: \"\\00b7\"; padding: 0 .5ex}\n",
       "</style>\n",
       "<ol class=list-inline><li>'Acacias'</li><li>'Adelfas'</li><li>'Almagro'</li><li>'Almenara'</li><li>'Aluche'</li><li>'Arapiles'</li><li>'Arganzuela'</li><li>'Argüelles'</li><li>'Atocha'</li><li>'Barajas'</li><li>'Bellas Vistas'</li><li>'Berruguete'</li><li>'Carabanchel'</li><li>'Castellana'</li><li>'Castilla'</li><li>'Castillejos'</li><li>'Centro'</li><li>'Chamberí'</li><li>'Ciudad Jardin'</li><li>'Ciudad Lineal'</li><li>'Cortes'</li><li>'Cuatro Caminos'</li><li>'Delicias'</li><li>'El Tréntaiseis'</li><li>'El Viso'</li><li>'Embajadores'</li><li>'Estrella'</li><li>'Fuencarral-el Pardo'</li><li>'Fuencarral-El Pardo'</li><li>'Fuente del Berro'</li><li>'Gaztambide'</li><li>'Goya'</li><li>'Guindalera'</li><li>'Hispanoamérica'</li><li>'Hortaleza'</li><li>'Ibiza'</li><li>'Imperial'</li><li>'Jerónimos'</li><li>'Justicia'</li><li>'La Chopera'</li><li>'La Latina'</li><li>'Legazpi'</li><li>'Lista'</li><li>'Malasaña'</li><li>'Moncloa'</li><li>'Moratalaz'</li><li>'Nueva España'</li><li>'Pacifico'</li><li>'Palacio'</li><li>'Palos do Moguer'</li><li>'Prosperidad'</li><li>'Puente de Vallecas'</li><li>'Recoletos'</li><li>'Retiro'</li><li>'Rios Rosas'</li><li>'San Blas'</li><li>'Sol'</li><li>'Tetuán'</li><li>'Trafalgar'</li><li>'Usera'</li><li>'Valdeacederas'</li><li>'Vallehermosa'</li><li>'Vicálvaro'</li><li>'Villa de Vallecas'</li><li>'Villaverde'</li></ol>\n"
      ],
      "text/latex": [
       "\\begin{enumerate*}\n",
       "\\item 'Acacias'\n",
       "\\item 'Adelfas'\n",
       "\\item 'Almagro'\n",
       "\\item 'Almenara'\n",
       "\\item 'Aluche'\n",
       "\\item 'Arapiles'\n",
       "\\item 'Arganzuela'\n",
       "\\item 'Argüelles'\n",
       "\\item 'Atocha'\n",
       "\\item 'Barajas'\n",
       "\\item 'Bellas Vistas'\n",
       "\\item 'Berruguete'\n",
       "\\item 'Carabanchel'\n",
       "\\item 'Castellana'\n",
       "\\item 'Castilla'\n",
       "\\item 'Castillejos'\n",
       "\\item 'Centro'\n",
       "\\item 'Chamberí'\n",
       "\\item 'Ciudad Jardin'\n",
       "\\item 'Ciudad Lineal'\n",
       "\\item 'Cortes'\n",
       "\\item 'Cuatro Caminos'\n",
       "\\item 'Delicias'\n",
       "\\item 'El Tréntaiseis'\n",
       "\\item 'El Viso'\n",
       "\\item 'Embajadores'\n",
       "\\item 'Estrella'\n",
       "\\item 'Fuencarral-el Pardo'\n",
       "\\item 'Fuencarral-El Pardo'\n",
       "\\item 'Fuente del Berro'\n",
       "\\item 'Gaztambide'\n",
       "\\item 'Goya'\n",
       "\\item 'Guindalera'\n",
       "\\item 'Hispanoamérica'\n",
       "\\item 'Hortaleza'\n",
       "\\item 'Ibiza'\n",
       "\\item 'Imperial'\n",
       "\\item 'Jerónimos'\n",
       "\\item 'Justicia'\n",
       "\\item 'La Chopera'\n",
       "\\item 'La Latina'\n",
       "\\item 'Legazpi'\n",
       "\\item 'Lista'\n",
       "\\item 'Malasaña'\n",
       "\\item 'Moncloa'\n",
       "\\item 'Moratalaz'\n",
       "\\item 'Nueva España'\n",
       "\\item 'Pacifico'\n",
       "\\item 'Palacio'\n",
       "\\item 'Palos do Moguer'\n",
       "\\item 'Prosperidad'\n",
       "\\item 'Puente de Vallecas'\n",
       "\\item 'Recoletos'\n",
       "\\item 'Retiro'\n",
       "\\item 'Rios Rosas'\n",
       "\\item 'San Blas'\n",
       "\\item 'Sol'\n",
       "\\item 'Tetuán'\n",
       "\\item 'Trafalgar'\n",
       "\\item 'Usera'\n",
       "\\item 'Valdeacederas'\n",
       "\\item 'Vallehermosa'\n",
       "\\item 'Vicálvaro'\n",
       "\\item 'Villa de Vallecas'\n",
       "\\item 'Villaverde'\n",
       "\\end{enumerate*}\n"
      ],
      "text/markdown": [
       "1. 'Acacias'\n",
       "2. 'Adelfas'\n",
       "3. 'Almagro'\n",
       "4. 'Almenara'\n",
       "5. 'Aluche'\n",
       "6. 'Arapiles'\n",
       "7. 'Arganzuela'\n",
       "8. 'Argüelles'\n",
       "9. 'Atocha'\n",
       "10. 'Barajas'\n",
       "11. 'Bellas Vistas'\n",
       "12. 'Berruguete'\n",
       "13. 'Carabanchel'\n",
       "14. 'Castellana'\n",
       "15. 'Castilla'\n",
       "16. 'Castillejos'\n",
       "17. 'Centro'\n",
       "18. 'Chamberí'\n",
       "19. 'Ciudad Jardin'\n",
       "20. 'Ciudad Lineal'\n",
       "21. 'Cortes'\n",
       "22. 'Cuatro Caminos'\n",
       "23. 'Delicias'\n",
       "24. 'El Tréntaiseis'\n",
       "25. 'El Viso'\n",
       "26. 'Embajadores'\n",
       "27. 'Estrella'\n",
       "28. 'Fuencarral-el Pardo'\n",
       "29. 'Fuencarral-El Pardo'\n",
       "30. 'Fuente del Berro'\n",
       "31. 'Gaztambide'\n",
       "32. 'Goya'\n",
       "33. 'Guindalera'\n",
       "34. 'Hispanoamérica'\n",
       "35. 'Hortaleza'\n",
       "36. 'Ibiza'\n",
       "37. 'Imperial'\n",
       "38. 'Jerónimos'\n",
       "39. 'Justicia'\n",
       "40. 'La Chopera'\n",
       "41. 'La Latina'\n",
       "42. 'Legazpi'\n",
       "43. 'Lista'\n",
       "44. 'Malasaña'\n",
       "45. 'Moncloa'\n",
       "46. 'Moratalaz'\n",
       "47. 'Nueva España'\n",
       "48. 'Pacifico'\n",
       "49. 'Palacio'\n",
       "50. 'Palos do Moguer'\n",
       "51. 'Prosperidad'\n",
       "52. 'Puente de Vallecas'\n",
       "53. 'Recoletos'\n",
       "54. 'Retiro'\n",
       "55. 'Rios Rosas'\n",
       "56. 'San Blas'\n",
       "57. 'Sol'\n",
       "58. 'Tetuán'\n",
       "59. 'Trafalgar'\n",
       "60. 'Usera'\n",
       "61. 'Valdeacederas'\n",
       "62. 'Vallehermosa'\n",
       "63. 'Vicálvaro'\n",
       "64. 'Villa de Vallecas'\n",
       "65. 'Villaverde'\n",
       "\n",
       "\n"
      ],
      "text/plain": [
       " [1] \"Acacias\"             \"Adelfas\"             \"Almagro\"            \n",
       " [4] \"Almenara\"            \"Aluche\"              \"Arapiles\"           \n",
       " [7] \"Arganzuela\"          \"Argüelles\"           \"Atocha\"             \n",
       "[10] \"Barajas\"             \"Bellas Vistas\"       \"Berruguete\"         \n",
       "[13] \"Carabanchel\"         \"Castellana\"          \"Castilla\"           \n",
       "[16] \"Castillejos\"         \"Centro\"              \"Chamberí\"           \n",
       "[19] \"Ciudad Jardin\"       \"Ciudad Lineal\"       \"Cortes\"             \n",
       "[22] \"Cuatro Caminos\"      \"Delicias\"            \"El Tréntaiseis\"     \n",
       "[25] \"El Viso\"             \"Embajadores\"         \"Estrella\"           \n",
       "[28] \"Fuencarral-el Pardo\" \"Fuencarral-El Pardo\" \"Fuente del Berro\"   \n",
       "[31] \"Gaztambide\"          \"Goya\"                \"Guindalera\"         \n",
       "[34] \"Hispanoamérica\"      \"Hortaleza\"           \"Ibiza\"              \n",
       "[37] \"Imperial\"            \"Jerónimos\"           \"Justicia\"           \n",
       "[40] \"La Chopera\"          \"La Latina\"           \"Legazpi\"            \n",
       "[43] \"Lista\"               \"Malasaña\"            \"Moncloa\"            \n",
       "[46] \"Moratalaz\"           \"Nueva España\"        \"Pacifico\"           \n",
       "[49] \"Palacio\"             \"Palos do Moguer\"     \"Prosperidad\"        \n",
       "[52] \"Puente de Vallecas\"  \"Recoletos\"           \"Retiro\"             \n",
       "[55] \"Rios Rosas\"          \"San Blas\"            \"Sol\"                \n",
       "[58] \"Tetuán\"              \"Trafalgar\"           \"Usera\"              \n",
       "[61] \"Valdeacederas\"       \"Vallehermosa\"        \"Vicálvaro\"          \n",
       "[64] \"Villa de Vallecas\"   \"Villaverde\"         "
      ]
     },
     "metadata": {},
     "output_type": "display_data"
    }
   ],
   "source": [
    "library(dplyr) \n",
    "\n",
    "df_madrid_N<-df_madrid %>%\n",
    "    group_by(Neighbourhood)\n",
    "\n",
    "df_madrid_N <- aggregate(Square.Meters ~ Neighbourhood, data = df_madrid, mean)\n",
    "dim(df_madrid_N)\n",
    "\n",
    "df_madrid_N_d<-distinct(df_madrid_N, Neighbourhood)\n",
    "df_madrid_N_d[with(df_madrid_N_d, order(Neighbourhood)), ]\n",
    "\n",
    "df_madrid_d<-distinct(df_madrid, Neighbourhood)\n",
    "df_madrid_d[with(df_madrid_d, order(Neighbourhood)), ]\n",
    "\n",
    "\n",
    "df_madrid__sinNA<-df_madrid %>%  \n",
    "    filter ( Neighbourhood %in% df_madrid_N$Neighbourhood)\n",
    "df_madrid<-df_madrid__sinNA"
   ]
  },
  {
   "cell_type": "markdown",
   "metadata": {},
   "source": [
    "El barrio parece ser un indicador importante para los metros cuadrados de un apartamento.\n",
    "\n",
    "Vamos a agrupar los barrios por metros cuadrados. Podemos usar una matriz de similaridad de Tukey tal y como hicimos en el curso de estadística:"
   ]
  },
  {
   "cell_type": "code",
   "execution_count": 10,
   "metadata": {},
   "outputs": [
    {
     "name": "stderr",
     "output_type": "stream",
     "text": [
      "Warning message:\n",
      "\"package 'reshape2' was built under R version 4.2.2\"\n"
     ]
    },
    {
     "data": {
      "image/png": "[encoded data removed]",
      "text/plain": [
       "plot without title"
      ]
     },
     "metadata": {
      "image/png": {
       "height": 600,
       "width": 900
      }
     },
     "output_type": "display_data"
    }
   ],
   "source": [
    "tky<-TukeyHSD(aov( formula=Square.Meters~Neighbourhood, data=df_madrid ))\n",
    "tky.result<-data.frame(tky$Neighbourhood)\n",
    "cn <-sort(unique(df_madrid$Neighbourhood))\n",
    "resm <- matrix(NA, length(cn),length(cn))\n",
    "rownames(resm) <- cn\n",
    "colnames(resm) <- cn\n",
    "resm[lower.tri(resm) ] <- round(tky.result$p.adj,4)\n",
    "resm[upper.tri(resm) ] <- t(resm)[upper.tri(resm)] \n",
    "diag(resm) <- 1\n",
    "library(ggplot2)\n",
    "library(reshape2)\n",
    "dfResm <- melt(resm)\n",
    "ggplot(dfResm, aes(x=Var1, y=Var2, fill=value))+\n",
    "  geom_tile(colour = \"black\")+\n",
    "  scale_fill_gradient(low = \"white\",high = \"steelblue\")+\n",
    "  ylab(\"Class\")+xlab(\"Class\")+theme_bw()+\n",
    "  theme(axis.text.x = element_text(angle = 90, hjust = 1),legend.position=\"none\")"
   ]
  },
  {
   "cell_type": "code",
   "execution_count": 11,
   "metadata": {},
   "outputs": [],
   "source": [
    "df_madrid.distancia <- as.dist(1 - abs(resm)) #distancia, resm de la matriz Tukey\n",
    "df_madrid.arbol <- hclust(df_madrid.distancia, method=\"complete\")\n",
    "df_madrid.dend <- as.dendrogram(df_madrid.arbol)"
   ]
  },
  {
   "cell_type": "markdown",
   "metadata": {},
   "source": [
    "Usando como variable de distancia: 1-resm\n",
    "Dibuja un dendrograma de los diferentes barrios.\n"
   ]
  },
  {
   "cell_type": "code",
   "execution_count": 12,
   "metadata": {},
   "outputs": [
    {
     "name": "stderr",
     "output_type": "stream",
     "text": [
      "Installing package into 'C:/Users/evang/AppData/Local/R/win-library/4.2'\n",
      "(as 'lib' is unspecified)\n",
      "\n"
     ]
    },
    {
     "name": "stdout",
     "output_type": "stream",
     "text": [
      "package 'dendextend' successfully unpacked and MD5 sums checked\n",
      "\n",
      "The downloaded binary packages are in\n",
      "\tD:\\TEMP\\Rtmp6fCvj5\\downloaded_packages\n"
     ]
    },
    {
     "name": "stderr",
     "output_type": "stream",
     "text": [
      "Warning message:\n",
      "\"package 'dendextend' was built under R version 4.2.2\"\n",
      "\n",
      "---------------------\n",
      "Welcome to dendextend version 1.16.0\n",
      "Type citation('dendextend') for how to cite the package.\n",
      "\n",
      "Type browseVignettes(package = 'dendextend') for the package vignette.\n",
      "The github page is: https://github.com/talgalili/dendextend/\n",
      "\n",
      "Suggestions and bug-reports can be submitted at: https://github.com/talgalili/dendextend/issues\n",
      "You may ask questions at stackoverflow, use the r and dendextend tags: \n",
      "\t https://stackoverflow.com/questions/tagged/dendextend\n",
      "\n",
      "\tTo suppress this message use:  suppressPackageStartupMessages(library(dendextend))\n",
      "---------------------\n",
      "\n",
      "\n",
      "\n",
      "Attaching package: 'dendextend'\n",
      "\n",
      "\n",
      "The following object is masked from 'package:stats':\n",
      "\n",
      "    cutree\n",
      "\n",
      "\n"
     ]
    },
    {
     "data": {
      "image/png": "[encoded data removed]",
      "text/plain": [
       "plot without title"
      ]
     },
     "metadata": {
      "image/png": {
       "height": 600,
       "width": 900
      }
     },
     "output_type": "display_data"
    }
   ],
   "source": [
    "install.packages('dendextend')\n",
    "\n",
    "\n",
    "library(dendextend)\n",
    "d <- as.dist(1 - resm)\n",
    "#str(d)\n",
    "hc <- hclust(d, method='complete')\n",
    "hcd <- as.dendrogram(hc)\n",
    "par(cex=0.7)\n",
    "\n",
    "plot(color_branches(hcd,h=0.2))\n",
    "abline(h=0.2,col=\"red\")"
   ]
  },
  {
   "cell_type": "code",
   "execution_count": 13,
   "metadata": {},
   "outputs": [
    {
     "data": {
      "image/png": "[encoded data removed]",
      "text/plain": [
       "Plot with title \"Corte\""
      ]
     },
     "metadata": {
      "image/png": {
       "height": 600,
       "width": 900
      }
     },
     "output_type": "display_data"
    }
   ],
   "source": [
    "# 0.3\n",
    "plot(cut(hcd, h = 0.3)$upper, main = \"Corte\", cex=1)\n",
    "# 3 clusters"
   ]
  },
  {
   "cell_type": "markdown",
   "metadata": {},
   "source": [
    "¿Que punto de corte sería el aconsejable?, ¿cuantos clusters aparecen?"
   ]
  },
  {
   "cell_type": "code",
   "execution_count": 14,
   "metadata": {},
   "outputs": [
    {
     "name": "stdout",
     "output_type": "stream",
     "text": [
      "[1] \"Aparecen 3 clusters, que son: \"\n",
      "\n",
      "cluster1 -> \n",
      " Acacias Adelfas Almagro Almenara Aluche Argüelles Barajas Carabanchel Castilla Centro Chamberí Ciudad Jardin Ciudad Lineal Cortes Cuatro Caminos Delicias El Viso Embajadores Estrella Goya Hortaleza Justicia La Latina Malasaña Pacifico Palacio Palos do Moguer Recoletos Retiro Sol Trafalgar Usera Vicálvaro Villaverde\n",
      "cluster2 ->\n",
      " Arapiles Castellana El Tréntaiseis Fuente del Berro Lista Moratalaz San Blas\n",
      "cluster3 ->\n",
      " Jerónimos Rios Rosas"
     ]
    }
   ],
   "source": [
    "clusters<- cutree(df_madrid.dend, k=3)\n",
    "print(\"Aparecen 3 clusters, que son: \")\n",
    "\n",
    "c1 <-names(clusters[clusters==1])\n",
    "cat('\\ncluster1 -> \\n', c1)\n",
    "c2 <-names(clusters[clusters==2])\n",
    "cat('\\ncluster2 ->\\n', c2)\n",
    "c3 <-names(clusters[clusters==3])\n",
    "cat('\\ncluster3 ->\\n', c3)\n",
    "\n"
   ]
  },
  {
   "cell_type": "code",
   "execution_count": 15,
   "metadata": {},
   "outputs": [
    {
     "data": {
      "image/png": "[encoded data removed]",
      "text/plain": [
       "Plot with title \"Silhouette plot of (x = clusters, dist = df_madrid.distancia)\""
      ]
     },
     "metadata": {
      "image/png": {
       "height": 600,
       "width": 900
      }
     },
     "output_type": "display_data"
    }
   ],
   "source": [
    "library(cluster)\n",
    "\n",
    "ss<-silhouette(clusters, df_madrid.distancia)\n",
    "plot(ss,col=1:max(clusters),border=NA)"
   ]
  },
  {
   "cell_type": "markdown",
   "metadata": {},
   "source": [
    "Vamos a crear una nueva columna en el dataframe df_madrid con un nuevo identificador marcado por los clusters obtenidos. Esta columna la llamaremos neighb_id"
   ]
  },
  {
   "cell_type": "code",
   "execution_count": 16,
   "metadata": {},
   "outputs": [
    {
     "data": {
      "text/html": [
       "<table class=\"dataframe\">\n",
       "<caption>A data.frame: 43 × 2</caption>\n",
       "<thead>\n",
       "\t<tr><th></th><th scope=col>Neighbourhood</th><th scope=col>neighb_id</th></tr>\n",
       "\t<tr><th></th><th scope=col>&lt;chr&gt;</th><th scope=col>&lt;fct&gt;</th></tr>\n",
       "</thead>\n",
       "<tbody>\n",
       "\t<tr><th scope=row>Acacias</th><td>Acacias         </td><td>1</td></tr>\n",
       "\t<tr><th scope=row>Adelfas</th><td>Adelfas         </td><td>1</td></tr>\n",
       "\t<tr><th scope=row>Almagro</th><td>Almagro         </td><td>1</td></tr>\n",
       "\t<tr><th scope=row>Almenara</th><td>Almenara        </td><td>1</td></tr>\n",
       "\t<tr><th scope=row>Aluche</th><td>Aluche          </td><td>1</td></tr>\n",
       "\t<tr><th scope=row>Arapiles</th><td>Arapiles        </td><td>2</td></tr>\n",
       "\t<tr><th scope=row>Argüelles</th><td>Argüelles       </td><td>1</td></tr>\n",
       "\t<tr><th scope=row>Barajas</th><td>Barajas         </td><td>1</td></tr>\n",
       "\t<tr><th scope=row>Carabanchel</th><td>Carabanchel     </td><td>1</td></tr>\n",
       "\t<tr><th scope=row>Castellana</th><td>Castellana      </td><td>2</td></tr>\n",
       "\t<tr><th scope=row>Castilla</th><td>Castilla        </td><td>1</td></tr>\n",
       "\t<tr><th scope=row>Centro</th><td>Centro          </td><td>1</td></tr>\n",
       "\t<tr><th scope=row>Chamberí</th><td>Chamberí        </td><td>1</td></tr>\n",
       "\t<tr><th scope=row>Ciudad Jardin</th><td>Ciudad Jardin   </td><td>1</td></tr>\n",
       "\t<tr><th scope=row>Ciudad Lineal</th><td>Ciudad Lineal   </td><td>1</td></tr>\n",
       "\t<tr><th scope=row>Cortes</th><td>Cortes          </td><td>1</td></tr>\n",
       "\t<tr><th scope=row>Cuatro Caminos</th><td>Cuatro Caminos  </td><td>1</td></tr>\n",
       "\t<tr><th scope=row>Delicias</th><td>Delicias        </td><td>1</td></tr>\n",
       "\t<tr><th scope=row>El Tréntaiseis</th><td>El Tréntaiseis  </td><td>2</td></tr>\n",
       "\t<tr><th scope=row>El Viso</th><td>El Viso         </td><td>1</td></tr>\n",
       "\t<tr><th scope=row>Embajadores</th><td>Embajadores     </td><td>1</td></tr>\n",
       "\t<tr><th scope=row>Estrella</th><td>Estrella        </td><td>1</td></tr>\n",
       "\t<tr><th scope=row>Fuente del Berro</th><td>Fuente del Berro</td><td>2</td></tr>\n",
       "\t<tr><th scope=row>Goya</th><td>Goya            </td><td>1</td></tr>\n",
       "\t<tr><th scope=row>Hortaleza</th><td>Hortaleza       </td><td>1</td></tr>\n",
       "\t<tr><th scope=row>Jerónimos</th><td>Jerónimos       </td><td>3</td></tr>\n",
       "\t<tr><th scope=row>Justicia</th><td>Justicia        </td><td>1</td></tr>\n",
       "\t<tr><th scope=row>La Latina</th><td>La Latina       </td><td>1</td></tr>\n",
       "\t<tr><th scope=row>Lista</th><td>Lista           </td><td>2</td></tr>\n",
       "\t<tr><th scope=row>Malasaña</th><td>Malasaña        </td><td>1</td></tr>\n",
       "\t<tr><th scope=row>Moratalaz</th><td>Moratalaz       </td><td>2</td></tr>\n",
       "\t<tr><th scope=row>Pacifico</th><td>Pacifico        </td><td>1</td></tr>\n",
       "\t<tr><th scope=row>Palacio</th><td>Palacio         </td><td>1</td></tr>\n",
       "\t<tr><th scope=row>Palos do Moguer</th><td>Palos do Moguer </td><td>1</td></tr>\n",
       "\t<tr><th scope=row>Recoletos</th><td>Recoletos       </td><td>1</td></tr>\n",
       "\t<tr><th scope=row>Retiro</th><td>Retiro          </td><td>1</td></tr>\n",
       "\t<tr><th scope=row>Rios Rosas</th><td>Rios Rosas      </td><td>3</td></tr>\n",
       "\t<tr><th scope=row>San Blas</th><td>San Blas        </td><td>2</td></tr>\n",
       "\t<tr><th scope=row>Sol</th><td>Sol             </td><td>1</td></tr>\n",
       "\t<tr><th scope=row>Trafalgar</th><td>Trafalgar       </td><td>1</td></tr>\n",
       "\t<tr><th scope=row>Usera</th><td>Usera           </td><td>1</td></tr>\n",
       "\t<tr><th scope=row>Vicálvaro</th><td>Vicálvaro       </td><td>1</td></tr>\n",
       "\t<tr><th scope=row>Villaverde</th><td>Villaverde      </td><td>1</td></tr>\n",
       "</tbody>\n",
       "</table>\n"
      ],
      "text/latex": [
       "A data.frame: 43 × 2\n",
       "\\begin{tabular}{r|ll}\n",
       "  & Neighbourhood & neighb\\_id\\\\\n",
       "  & <chr> & <fct>\\\\\n",
       "\\hline\n",
       "\tAcacias & Acacias          & 1\\\\\n",
       "\tAdelfas & Adelfas          & 1\\\\\n",
       "\tAlmagro & Almagro          & 1\\\\\n",
       "\tAlmenara & Almenara         & 1\\\\\n",
       "\tAluche & Aluche           & 1\\\\\n",
       "\tArapiles & Arapiles         & 2\\\\\n",
       "\tArgüelles & Argüelles        & 1\\\\\n",
       "\tBarajas & Barajas          & 1\\\\\n",
       "\tCarabanchel & Carabanchel      & 1\\\\\n",
       "\tCastellana & Castellana       & 2\\\\\n",
       "\tCastilla & Castilla         & 1\\\\\n",
       "\tCentro & Centro           & 1\\\\\n",
       "\tChamberí & Chamberí         & 1\\\\\n",
       "\tCiudad Jardin & Ciudad Jardin    & 1\\\\\n",
       "\tCiudad Lineal & Ciudad Lineal    & 1\\\\\n",
       "\tCortes & Cortes           & 1\\\\\n",
       "\tCuatro Caminos & Cuatro Caminos   & 1\\\\\n",
       "\tDelicias & Delicias         & 1\\\\\n",
       "\tEl Tréntaiseis & El Tréntaiseis   & 2\\\\\n",
       "\tEl Viso & El Viso          & 1\\\\\n",
       "\tEmbajadores & Embajadores      & 1\\\\\n",
       "\tEstrella & Estrella         & 1\\\\\n",
       "\tFuente del Berro & Fuente del Berro & 2\\\\\n",
       "\tGoya & Goya             & 1\\\\\n",
       "\tHortaleza & Hortaleza        & 1\\\\\n",
       "\tJerónimos & Jerónimos        & 3\\\\\n",
       "\tJusticia & Justicia         & 1\\\\\n",
       "\tLa Latina & La Latina        & 1\\\\\n",
       "\tLista & Lista            & 2\\\\\n",
       "\tMalasaña & Malasaña         & 1\\\\\n",
       "\tMoratalaz & Moratalaz        & 2\\\\\n",
       "\tPacifico & Pacifico         & 1\\\\\n",
       "\tPalacio & Palacio          & 1\\\\\n",
       "\tPalos do Moguer & Palos do Moguer  & 1\\\\\n",
       "\tRecoletos & Recoletos        & 1\\\\\n",
       "\tRetiro & Retiro           & 1\\\\\n",
       "\tRios Rosas & Rios Rosas       & 3\\\\\n",
       "\tSan Blas & San Blas         & 2\\\\\n",
       "\tSol & Sol              & 1\\\\\n",
       "\tTrafalgar & Trafalgar        & 1\\\\\n",
       "\tUsera & Usera            & 1\\\\\n",
       "\tVicálvaro & Vicálvaro        & 1\\\\\n",
       "\tVillaverde & Villaverde       & 1\\\\\n",
       "\\end{tabular}\n"
      ],
      "text/markdown": [
       "\n",
       "A data.frame: 43 × 2\n",
       "\n",
       "| <!--/--> | Neighbourhood &lt;chr&gt; | neighb_id &lt;fct&gt; |\n",
       "|---|---|---|\n",
       "| Acacias | Acacias          | 1 |\n",
       "| Adelfas | Adelfas          | 1 |\n",
       "| Almagro | Almagro          | 1 |\n",
       "| Almenara | Almenara         | 1 |\n",
       "| Aluche | Aluche           | 1 |\n",
       "| Arapiles | Arapiles         | 2 |\n",
       "| Argüelles | Argüelles        | 1 |\n",
       "| Barajas | Barajas          | 1 |\n",
       "| Carabanchel | Carabanchel      | 1 |\n",
       "| Castellana | Castellana       | 2 |\n",
       "| Castilla | Castilla         | 1 |\n",
       "| Centro | Centro           | 1 |\n",
       "| Chamberí | Chamberí         | 1 |\n",
       "| Ciudad Jardin | Ciudad Jardin    | 1 |\n",
       "| Ciudad Lineal | Ciudad Lineal    | 1 |\n",
       "| Cortes | Cortes           | 1 |\n",
       "| Cuatro Caminos | Cuatro Caminos   | 1 |\n",
       "| Delicias | Delicias         | 1 |\n",
       "| El Tréntaiseis | El Tréntaiseis   | 2 |\n",
       "| El Viso | El Viso          | 1 |\n",
       "| Embajadores | Embajadores      | 1 |\n",
       "| Estrella | Estrella         | 1 |\n",
       "| Fuente del Berro | Fuente del Berro | 2 |\n",
       "| Goya | Goya             | 1 |\n",
       "| Hortaleza | Hortaleza        | 1 |\n",
       "| Jerónimos | Jerónimos        | 3 |\n",
       "| Justicia | Justicia         | 1 |\n",
       "| La Latina | La Latina        | 1 |\n",
       "| Lista | Lista            | 2 |\n",
       "| Malasaña | Malasaña         | 1 |\n",
       "| Moratalaz | Moratalaz        | 2 |\n",
       "| Pacifico | Pacifico         | 1 |\n",
       "| Palacio | Palacio          | 1 |\n",
       "| Palos do Moguer | Palos do Moguer  | 1 |\n",
       "| Recoletos | Recoletos        | 1 |\n",
       "| Retiro | Retiro           | 1 |\n",
       "| Rios Rosas | Rios Rosas       | 3 |\n",
       "| San Blas | San Blas         | 2 |\n",
       "| Sol | Sol              | 1 |\n",
       "| Trafalgar | Trafalgar        | 1 |\n",
       "| Usera | Usera            | 1 |\n",
       "| Vicálvaro | Vicálvaro        | 1 |\n",
       "| Villaverde | Villaverde       | 1 |\n",
       "\n"
      ],
      "text/plain": [
       "                 Neighbourhood    neighb_id\n",
       "Acacias          Acacias          1        \n",
       "Adelfas          Adelfas          1        \n",
       "Almagro          Almagro          1        \n",
       "Almenara         Almenara         1        \n",
       "Aluche           Aluche           1        \n",
       "Arapiles         Arapiles         2        \n",
       "Argüelles        Argüelles        1        \n",
       "Barajas          Barajas          1        \n",
       "Carabanchel      Carabanchel      1        \n",
       "Castellana       Castellana       2        \n",
       "Castilla         Castilla         1        \n",
       "Centro           Centro           1        \n",
       "Chamberí         Chamberí         1        \n",
       "Ciudad Jardin    Ciudad Jardin    1        \n",
       "Ciudad Lineal    Ciudad Lineal    1        \n",
       "Cortes           Cortes           1        \n",
       "Cuatro Caminos   Cuatro Caminos   1        \n",
       "Delicias         Delicias         1        \n",
       "El Tréntaiseis   El Tréntaiseis   2        \n",
       "El Viso          El Viso          1        \n",
       "Embajadores      Embajadores      1        \n",
       "Estrella         Estrella         1        \n",
       "Fuente del Berro Fuente del Berro 2        \n",
       "Goya             Goya             1        \n",
       "Hortaleza        Hortaleza        1        \n",
       "Jerónimos        Jerónimos        3        \n",
       "Justicia         Justicia         1        \n",
       "La Latina        La Latina        1        \n",
       "Lista            Lista            2        \n",
       "Malasaña         Malasaña         1        \n",
       "Moratalaz        Moratalaz        2        \n",
       "Pacifico         Pacifico         1        \n",
       "Palacio          Palacio          1        \n",
       "Palos do Moguer  Palos do Moguer  1        \n",
       "Recoletos        Recoletos        1        \n",
       "Retiro           Retiro           1        \n",
       "Rios Rosas       Rios Rosas       3        \n",
       "San Blas         San Blas         2        \n",
       "Sol              Sol              1        \n",
       "Trafalgar        Trafalgar        1        \n",
       "Usera            Usera            1        \n",
       "Vicálvaro        Vicálvaro        1        \n",
       "Villaverde       Villaverde       1        "
      ]
     },
     "metadata": {},
     "output_type": "display_data"
    }
   ],
   "source": [
    "neighb_id  <- as.factor(cutree(df_madrid.dend, k=3))\n",
    "df_madrid_cl <- data.frame(names(neighb_id), neighb_id)\n",
    "colnames(df_madrid_cl) <- c('Neighbourhood','neighb_id')\n",
    "\n",
    "df_madrid_cl"
   ]
  },
  {
   "cell_type": "code",
   "execution_count": 17,
   "metadata": {},
   "outputs": [],
   "source": [
    "#unimos la columna neighb_id al df_madrid\n",
    "\n",
    "df_madrid <- merge(df_madrid, df_madrid_cl, by=\"Neighbourhood\", all=TRUE)\n"
   ]
  },
  {
   "cell_type": "markdown",
   "metadata": {},
   "source": [
    "Vamos a crear dos grupos, uno test y otro train.\n",
    "\n",
    "Tratamos de predecir los metros cuadrados en función del resto de columnas del dataframe."
   ]
  },
  {
   "cell_type": "code",
   "execution_count": 18,
   "metadata": {},
   "outputs": [],
   "source": [
    "set.seed(12)\n",
    "\n",
    "idx<-sample(1:nrow(df_madrid),nrow(df_madrid)*0.7)\n",
    "madrid.train=df_madrid[idx,]\n",
    "madrid.test=df_madrid[-idx,]\n",
    "\n"
   ]
  },
  {
   "cell_type": "code",
   "execution_count": 19,
   "metadata": {},
   "outputs": [
    {
     "data": {
      "text/plain": [
       "\n",
       "Call:\n",
       "lm(formula = Square.Meters ~ Bathrooms + Bedrooms + Price + Accommodates + \n",
       "    Beds + Price + Review.Scores.Rating + neighb_id, data = madrid.train)\n",
       "\n",
       "Residuals:\n",
       "     Min       1Q   Median       3Q      Max \n",
       "-124.912  -14.389    3.039   18.884  137.199 \n",
       "\n",
       "Coefficients:\n",
       "                      Estimate Std. Error t value Pr(>|t|)    \n",
       "(Intercept)          -53.04211   26.21953  -2.023  0.04498 *  \n",
       "Bathrooms              7.51704    7.42490   1.012  0.31309    \n",
       "Bedrooms               4.31869    4.72492   0.914  0.36228    \n",
       "Price                  0.12011    0.05167   2.325  0.02153 *  \n",
       "Accommodates           2.71522    2.72283   0.997  0.32039    \n",
       "Beds                   4.73748    2.67549   1.771  0.07879 .  \n",
       "Review.Scores.Rating   0.61447    0.27217   2.258  0.02552 *  \n",
       "neighb_id2            39.96252   13.69715   2.918  0.00411 ** \n",
       "neighb_id3           127.60675   22.74869   5.609 1.05e-07 ***\n",
       "---\n",
       "Signif. codes:  0 '***' 0.001 '**' 0.01 '*' 0.05 '.' 0.1 ' ' 1\n",
       "\n",
       "Residual standard error: 31.66 on 140 degrees of freedom\n",
       "  (3398 observations deleted due to missingness)\n",
       "Multiple R-squared:  0.6367,\tAdjusted R-squared:  0.6159 \n",
       "F-statistic: 30.67 on 8 and 140 DF,  p-value: < 2.2e-16\n"
      ]
     },
     "metadata": {},
     "output_type": "display_data"
    }
   ],
   "source": [
    "#creo el modelo incluyendo solo las variables que influyen en los metros cuadrados\n",
    "\n",
    "model<-lm(Square.Meters~\n",
    "           Bathrooms+Bedrooms+Price+Accommodates+Beds+Price+Review.Scores.Rating+neighb_id, data = madrid.train)\n",
    "summary(model)"
   ]
  },
  {
   "cell_type": "code",
   "execution_count": 20,
   "metadata": {},
   "outputs": [
    {
     "data": {
      "text/html": [
       "<table class=\"dataframe\">\n",
       "<caption>A matrix: 9 × 2 of type dbl</caption>\n",
       "<thead>\n",
       "\t<tr><th></th><th scope=col>2.5 %</th><th scope=col>97.5 %</th></tr>\n",
       "</thead>\n",
       "<tbody>\n",
       "\t<tr><th scope=row>(Intercept)</th><td>-104.87954024</td><td> -1.204687</td></tr>\n",
       "\t<tr><th scope=row>Bathrooms</th><td>  -7.16238636</td><td> 22.196461</td></tr>\n",
       "\t<tr><th scope=row>Bedrooms</th><td>  -5.02272786</td><td> 13.660109</td></tr>\n",
       "\t<tr><th scope=row>Price</th><td>   0.01796133</td><td>  0.222253</td></tr>\n",
       "\t<tr><th scope=row>Accommodates</th><td>  -2.66796916</td><td>  8.098400</td></tr>\n",
       "\t<tr><th scope=row>Beds</th><td>  -0.55210302</td><td> 10.027061</td></tr>\n",
       "\t<tr><th scope=row>Review.Scores.Rating</th><td>   0.07636676</td><td>  1.152573</td></tr>\n",
       "\t<tr><th scope=row>neighb_id2</th><td>  12.88252572</td><td> 67.042519</td></tr>\n",
       "\t<tr><th scope=row>neighb_id3</th><td>  82.63136345</td><td>172.582138</td></tr>\n",
       "</tbody>\n",
       "</table>\n"
      ],
      "text/latex": [
       "A matrix: 9 × 2 of type dbl\n",
       "\\begin{tabular}{r|ll}\n",
       "  & 2.5 \\% & 97.5 \\%\\\\\n",
       "\\hline\n",
       "\t(Intercept) & -104.87954024 &  -1.204687\\\\\n",
       "\tBathrooms &   -7.16238636 &  22.196461\\\\\n",
       "\tBedrooms &   -5.02272786 &  13.660109\\\\\n",
       "\tPrice &    0.01796133 &   0.222253\\\\\n",
       "\tAccommodates &   -2.66796916 &   8.098400\\\\\n",
       "\tBeds &   -0.55210302 &  10.027061\\\\\n",
       "\tReview.Scores.Rating &    0.07636676 &   1.152573\\\\\n",
       "\tneighb\\_id2 &   12.88252572 &  67.042519\\\\\n",
       "\tneighb\\_id3 &   82.63136345 & 172.582138\\\\\n",
       "\\end{tabular}\n"
      ],
      "text/markdown": [
       "\n",
       "A matrix: 9 × 2 of type dbl\n",
       "\n",
       "| <!--/--> | 2.5 % | 97.5 % |\n",
       "|---|---|---|\n",
       "| (Intercept) | -104.87954024 |  -1.204687 |\n",
       "| Bathrooms |   -7.16238636 |  22.196461 |\n",
       "| Bedrooms |   -5.02272786 |  13.660109 |\n",
       "| Price |    0.01796133 |   0.222253 |\n",
       "| Accommodates |   -2.66796916 |   8.098400 |\n",
       "| Beds |   -0.55210302 |  10.027061 |\n",
       "| Review.Scores.Rating |    0.07636676 |   1.152573 |\n",
       "| neighb_id2 |   12.88252572 |  67.042519 |\n",
       "| neighb_id3 |   82.63136345 | 172.582138 |\n",
       "\n"
      ],
      "text/plain": [
       "                     2.5 %         97.5 %    \n",
       "(Intercept)          -104.87954024  -1.204687\n",
       "Bathrooms              -7.16238636  22.196461\n",
       "Bedrooms               -5.02272786  13.660109\n",
       "Price                   0.01796133   0.222253\n",
       "Accommodates           -2.66796916   8.098400\n",
       "Beds                   -0.55210302  10.027061\n",
       "Review.Scores.Rating    0.07636676   1.152573\n",
       "neighb_id2             12.88252572  67.042519\n",
       "neighb_id3             82.63136345 172.582138"
      ]
     },
     "metadata": {},
     "output_type": "display_data"
    }
   ],
   "source": [
    "confint(model)\n",
    "madrid.train$pred<-predict(model,madrid.train)\n",
    "madrid.test$pred<-predict(model,madrid.test)\n",
    "\n"
   ]
  },
  {
   "cell_type": "markdown",
   "metadata": {},
   "source": [
    "Mirad el histograma de los residuos sobre el conjunto de test para evaluar la calidad de vuestro modelo"
   ]
  },
  {
   "cell_type": "code",
   "execution_count": 21,
   "metadata": {},
   "outputs": [
    {
     "data": {
      "image/png": "[encoded data removed]",
      "text/plain": [
       "Plot with title \"Gráfica 02.3.: Gráfico Cuantil-Cuantil (Normal Q-Q Plot\""
      ]
     },
     "metadata": {
      "image/png": {
       "height": 600,
       "width": 900
      }
     },
     "output_type": "display_data"
    },
    {
     "data": {
      "image/png": "[encoded data removed]",
      "text/plain": [
       "plot without title"
      ]
     },
     "metadata": {
      "image/png": {
       "height": 600,
       "width": 900
      }
     },
     "output_type": "display_data"
    }
   ],
   "source": [
    "\n",
    "Residuos.M.Aplicación <- rstandard(model)\n",
    "qqnorm(Residuos.M.Aplicación, main=\"Gráfica 02.3.: Gráfico Cuantil-Cuantil (Normal Q-Q Plot\")\n",
    "qqline(Residuos.M.Aplicación, col = \"red\")\n",
    "\n",
    "#creamos la columna con los valores del predict\n",
    "madrid.train$pred<-predict(model,madrid.train)\n",
    "\n",
    "\n",
    "plot(madrid.train$Square.Meters, (madrid.train$Square.Meters-madrid.train$pred), xlab = \"Square.Meters\", ylab = \"Residuos\")\n"
   ]
  },
  {
   "cell_type": "markdown",
   "metadata": {},
   "source": [
    "Si tuvieramos un anuncio de un apartamento para 6 personas (Accommodates), con 1 baño, con un precio de 80€/noche y 3 habitaciones en el barrio de Sol, con 3 camas y un review de 80.\n",
    "¿Cuantos metros cuadrados tendría? Si tu modelo necesita algúna variable adicional puedes inventartela dentro del rango de valores del dataset.\n",
    "¿Como varía sus metros cuadrados con cada habitación adicional?"
   ]
  },
  {
   "cell_type": "code",
   "execution_count": 22,
   "metadata": {},
   "outputs": [
    {
     "data": {
      "text/html": [
       "<table class=\"dataframe\">\n",
       "<caption>A data.frame: 6 × 10</caption>\n",
       "<thead>\n",
       "\t<tr><th></th><th scope=col>Neighbourhood</th><th scope=col>Accommodates</th><th scope=col>Bathrooms</th><th scope=col>Bedrooms</th><th scope=col>Beds</th><th scope=col>Price</th><th scope=col>Review.Scores.Rating</th><th scope=col>Square.Meters</th><th scope=col>pred_SqM</th><th scope=col>residual</th></tr>\n",
       "\t<tr><th></th><th scope=col>&lt;chr&gt;</th><th scope=col>&lt;int&gt;</th><th scope=col>&lt;dbl&gt;</th><th scope=col>&lt;int&gt;</th><th scope=col>&lt;int&gt;</th><th scope=col>&lt;int&gt;</th><th scope=col>&lt;int&gt;</th><th scope=col>&lt;dbl&gt;</th><th scope=col>&lt;dbl&gt;</th><th scope=col>&lt;dbl&gt;</th></tr>\n",
       "</thead>\n",
       "<tbody>\n",
       "\t<tr><th scope=row>1</th><td>Acacias</td><td>2</td><td>0.5</td><td>0</td><td>2</td><td> 30</td><td> 81</td><td>NA</td><td>18.99707</td><td>NA</td></tr>\n",
       "\t<tr><th scope=row>2</th><td>Acacias</td><td>4</td><td>1.0</td><td>1</td><td>2</td><td> 59</td><td> 95</td><td>NA</td><td>44.59040</td><td>NA</td></tr>\n",
       "\t<tr><th scope=row>3</th><td>Acacias</td><td>6</td><td>1.0</td><td>2</td><td>3</td><td> 50</td><td> 68</td><td>NA</td><td>41.40535</td><td>NA</td></tr>\n",
       "\t<tr><th scope=row>4</th><td>Acacias</td><td>5</td><td>2.0</td><td>2</td><td>2</td><td>120</td><td> 95</td><td>NA</td><td>66.46788</td><td>NA</td></tr>\n",
       "\t<tr><th scope=row>5</th><td>Acacias</td><td>4</td><td>1.0</td><td>2</td><td>2</td><td> 74</td><td>100</td><td>NA</td><td>53.78305</td><td>NA</td></tr>\n",
       "\t<tr><th scope=row>6</th><td>Acacias</td><td>6</td><td>2.0</td><td>3</td><td>4</td><td>100</td><td> NA</td><td>NA</td><td>      NA</td><td>NA</td></tr>\n",
       "</tbody>\n",
       "</table>\n"
      ],
      "text/latex": [
       "A data.frame: 6 × 10\n",
       "\\begin{tabular}{r|llllllllll}\n",
       "  & Neighbourhood & Accommodates & Bathrooms & Bedrooms & Beds & Price & Review.Scores.Rating & Square.Meters & pred\\_SqM & residual\\\\\n",
       "  & <chr> & <int> & <dbl> & <int> & <int> & <int> & <int> & <dbl> & <dbl> & <dbl>\\\\\n",
       "\\hline\n",
       "\t1 & Acacias & 2 & 0.5 & 0 & 2 &  30 &  81 & NA & 18.99707 & NA\\\\\n",
       "\t2 & Acacias & 4 & 1.0 & 1 & 2 &  59 &  95 & NA & 44.59040 & NA\\\\\n",
       "\t3 & Acacias & 6 & 1.0 & 2 & 3 &  50 &  68 & NA & 41.40535 & NA\\\\\n",
       "\t4 & Acacias & 5 & 2.0 & 2 & 2 & 120 &  95 & NA & 66.46788 & NA\\\\\n",
       "\t5 & Acacias & 4 & 1.0 & 2 & 2 &  74 & 100 & NA & 53.78305 & NA\\\\\n",
       "\t6 & Acacias & 6 & 2.0 & 3 & 4 & 100 &  NA & NA &       NA & NA\\\\\n",
       "\\end{tabular}\n"
      ],
      "text/markdown": [
       "\n",
       "A data.frame: 6 × 10\n",
       "\n",
       "| <!--/--> | Neighbourhood &lt;chr&gt; | Accommodates &lt;int&gt; | Bathrooms &lt;dbl&gt; | Bedrooms &lt;int&gt; | Beds &lt;int&gt; | Price &lt;int&gt; | Review.Scores.Rating &lt;int&gt; | Square.Meters &lt;dbl&gt; | pred_SqM &lt;dbl&gt; | residual &lt;dbl&gt; |\n",
       "|---|---|---|---|---|---|---|---|---|---|---|\n",
       "| 1 | Acacias | 2 | 0.5 | 0 | 2 |  30 |  81 | NA | 18.99707 | NA |\n",
       "| 2 | Acacias | 4 | 1.0 | 1 | 2 |  59 |  95 | NA | 44.59040 | NA |\n",
       "| 3 | Acacias | 6 | 1.0 | 2 | 3 |  50 |  68 | NA | 41.40535 | NA |\n",
       "| 4 | Acacias | 5 | 2.0 | 2 | 2 | 120 |  95 | NA | 66.46788 | NA |\n",
       "| 5 | Acacias | 4 | 1.0 | 2 | 2 |  74 | 100 | NA | 53.78305 | NA |\n",
       "| 6 | Acacias | 6 | 2.0 | 3 | 4 | 100 |  NA | NA |       NA | NA |\n",
       "\n"
      ],
      "text/plain": [
       "  Neighbourhood Accommodates Bathrooms Bedrooms Beds Price Review.Scores.Rating\n",
       "1 Acacias       2            0.5       0        2     30    81                 \n",
       "2 Acacias       4            1.0       1        2     59    95                 \n",
       "3 Acacias       6            1.0       2        3     50    68                 \n",
       "4 Acacias       5            2.0       2        2    120    95                 \n",
       "5 Acacias       4            1.0       2        2     74   100                 \n",
       "6 Acacias       6            2.0       3        4    100    NA                 \n",
       "  Square.Meters pred_SqM residual\n",
       "1 NA            18.99707 NA      \n",
       "2 NA            44.59040 NA      \n",
       "3 NA            41.40535 NA      \n",
       "4 NA            66.46788 NA      \n",
       "5 NA            53.78305 NA      \n",
       "6 NA                  NA NA      "
      ]
     },
     "metadata": {},
     "output_type": "display_data"
    }
   ],
   "source": [
    "madrid_pred <- subset(df_madrid, select = c('Neighbourhood','Accommodates','Bathrooms','Bedrooms','Beds','Price','Review.Scores.Rating', 'Square.Meters'))\n",
    "\n",
    "\n",
    "madrid_pred$pred_SqM <- predict(model, df_madrid)\n",
    "\n",
    "madrid_pred$residual <- madrid_pred$Square.Meters - madrid_pred$pred_SqM\n",
    "head(madrid_pred)\n"
   ]
  },
  {
   "cell_type": "code",
   "execution_count": 23,
   "metadata": {},
   "outputs": [
    {
     "name": "stderr",
     "output_type": "stream",
     "text": [
      "Warning message:\n",
      "\"package 'glmnet' was built under R version 4.2.2\"\n",
      "Loading required package: Matrix\n",
      "\n",
      "Warning message:\n",
      "\"package 'Matrix' was built under R version 4.2.2\"\n",
      "Loaded glmnet 4.1-6\n",
      "\n"
     ]
    },
    {
     "data": {
      "image/png": "[encoded data removed]",
      "text/plain": [
       "plot without title"
      ]
     },
     "metadata": {
      "image/png": {
       "height": 600,
       "width": 900
      }
     },
     "output_type": "display_data"
    }
   ],
   "source": [
    "#impiar datos de valores nulos para poder hacer cv\n",
    "limpio <- na.omit(madrid_pred)\n",
    "\n",
    "library(glmnet)\n",
    "\n",
    "#hago la cv\n",
    "cv_mad_pred<-cv.glmnet(data.matrix(limpio[,c('Accommodates','Bathrooms','Bedrooms','Beds','Price','Review.Scores.Rating', 'residual')]),data.matrix(limpio[,'Square.Meters']),nfolds=10,alpha=1, standarize=T)\n",
    "plot(cv_mad_pred)"
   ]
  },
  {
   "cell_type": "code",
   "execution_count": 24,
   "metadata": {},
   "outputs": [
    {
     "data": {
      "text/html": [
       "<span style=white-space:pre-wrap>'Los metros cuadrados del piso serían:  59.0869007431734 metros'</span>"
      ],
      "text/latex": [
       "'Los metros cuadrados del piso serían:  59.0869007431734 metros'"
      ],
      "text/markdown": [
       "<span style=white-space:pre-wrap>'Los metros cuadrados del piso serían:  59.0869007431734 metros'</span>"
      ],
      "text/plain": [
       "[1] \"Los metros cuadrados del piso serían:  59.0869007431734 metros\""
      ]
     },
     "metadata": {},
     "output_type": "display_data"
    },
    {
     "data": {
      "text/html": [
       "<span style=white-space:pre-wrap>'Los metros cuadrados del piso2 serían:  64.6464413225835 metros'</span>"
      ],
      "text/latex": [
       "'Los metros cuadrados del piso2 serían:  64.6464413225835 metros'"
      ],
      "text/markdown": [
       "<span style=white-space:pre-wrap>'Los metros cuadrados del piso2 serían:  64.6464413225835 metros'</span>"
      ],
      "text/plain": [
       "[1] \"Los metros cuadrados del piso2 serían:  64.6464413225835 metros\""
      ]
     },
     "metadata": {},
     "output_type": "display_data"
    },
    {
     "data": {
      "text/html": [
       "'La diferencia de metros entre los dos con solo una habitación más es: 5.55954057941016 metros'"
      ],
      "text/latex": [
       "'La diferencia de metros entre los dos con solo una habitación más es: 5.55954057941016 metros'"
      ],
      "text/markdown": [
       "'La diferencia de metros entre los dos con solo una habitación más es: 5.55954057941016 metros'"
      ],
      "text/plain": [
       "[1] \"La diferencia de metros entre los dos con solo una habitación más es: 5.55954057941016 metros\""
      ]
     },
     "metadata": {},
     "output_type": "display_data"
    }
   ],
   "source": [
    "meters <- predict(cv_mad_pred, newx=as.matrix(data.frame(Accommodates=6, Bathrooms=1, Bedrooms=3,  Beds= 3, Price=80, Review= 80, sv=cv_mad_pred$lambda.1se)))\n",
    "paste(\"Los metros cuadrados del piso serían: \", meters,'metros')\n",
    "\n",
    "meters2 <-predict(cv_mad_pred, newx=as.matrix(data.frame(Accommodates=6, Bathrooms=1, Bedrooms=4,  Beds= 3, Price=80, Review= 80, sv=cv_mad_pred$lambda.1se)))\n",
    "paste(\"Los metros cuadrados del piso2 serían: \", meters2,'metros')\n",
    "\n",
    "paste(\"La diferencia de metros entre los dos con solo una habitación más es:\", abs(meters - meters2),'metros')\n",
    "\n"
   ]
  },
  {
   "cell_type": "markdown",
   "metadata": {},
   "source": [
    "Rellenar los Square.Meters con valor NA con el estimado con el modelo anterior."
   ]
  },
  {
   "cell_type": "code",
   "execution_count": 25,
   "metadata": {},
   "outputs": [
    {
     "name": "stderr",
     "output_type": "stream",
     "text": [
      "Warning message in rbind(deparse.level, ...):\n",
      "\"number of columns of result, 13, is not a multiple of vector length 4849 of arg 1\"\n",
      "Warning message in `[<-.factor`(`*tmp*`, ri, value = 39.4165515720534):\n",
      "\"invalid factor level, NA generated\"\n"
     ]
    }
   ],
   "source": [
    "#\n",
    "#todas las filas de Square.Meters con valores\n",
    "df_sqm_valores <- filter(df_madrid, !is.na(df_madrid$Square.Meters))\n",
    "\n",
    "\n",
    "\n",
    "#extraer del df los valores a sustiuir \n",
    "sustituir_sqm_pred_madrid <- filter(df_madrid, is.na(df_madrid$Square.Meters))\n",
    "\n",
    "\n",
    "#sustituir los NA por el valor predicho\n",
    "sustituir_sqm_pred_madrid <- predict(model, sustituir_sqm_pred_madrid)\n",
    "\n",
    "\n",
    "#combinar los sustituidos con los valores reales\n",
    "df_madrid_sqm_sustuidos<-rbind(sustituir_sqm_pred_madrid,df_sqm_valores)\n",
    "df_madrid<- df_madrid_sqm_sustuidos\n"
   ]
  },
  {
   "cell_type": "code",
   "execution_count": 26,
   "metadata": {},
   "outputs": [
    {
     "data": {
      "text/plain": [
       " Neighbourhood       Accommodates      Bathrooms         Bedrooms     \n",
       " Length:220         Min.   : 2.000   Min.   : 1.000   Min.   : 0.000  \n",
       " Class :character   1st Qu.: 3.000   1st Qu.: 1.000   1st Qu.: 1.000  \n",
       " Mode  :character   Median : 4.000   Median : 1.000   Median : 1.000  \n",
       "                    Mean   : 4.575   Mean   : 1.484   Mean   : 1.874  \n",
       "                    3rd Qu.: 6.000   3rd Qu.: 1.500   3rd Qu.: 2.000  \n",
       "                    Max.   :44.590   Max.   :41.405   Max.   :66.468  \n",
       "                                     NA's   :2        NA's   :2       \n",
       "      Beds            Price        Guests.Included   Extra.People   \n",
       " Min.   : 1.000   Min.   : 20.00   Min.   : 1.000   Min.   :  0.00  \n",
       " 1st Qu.: 1.000   1st Qu.: 60.00   1st Qu.: 1.000   1st Qu.:  0.00  \n",
       " Median : 2.000   Median : 75.00   Median : 2.000   Median : 10.00  \n",
       " Mean   : 2.785   Mean   : 92.57   Mean   : 2.256   Mean   : 10.94  \n",
       " 3rd Qu.: 3.000   3rd Qu.: 97.25   3rd Qu.: 2.000   3rd Qu.: 15.00  \n",
       " Max.   :53.783   Max.   :500.00   Max.   :43.266   Max.   :250.00  \n",
       "                  NA's   :2                                         \n",
       " Review.Scores.Rating    Latitude       Longitude      Square.Meters    \n",
       " Min.   : 47.00       Min.   :40.36   Min.   :-3.743   Min.   :  2.044  \n",
       " 1st Qu.: 87.00       1st Qu.:40.41   1st Qu.:-3.707   1st Qu.: 30.008  \n",
       " Median : 91.00       Median :40.42   Median :-3.703   Median : 49.982  \n",
       " Mean   : 89.18       Mean   :40.47   Mean   :-3.698   Mean   : 57.640  \n",
       " 3rd Qu.: 95.00       3rd Qu.:40.43   3rd Qu.:-3.698   3rd Qu.: 74.973  \n",
       " Max.   :100.00       Max.   :51.92   Max.   :-3.576   Max.   :480.030  \n",
       " NA's   :6                            NA's   :1                         \n",
       " neighb_id \n",
       " 1   :203  \n",
       " 2   : 13  \n",
       " 3   :  3  \n",
       " NA's:  1  \n",
       "           \n",
       "           \n",
       "           "
      ]
     },
     "metadata": {},
     "output_type": "display_data"
    }
   ],
   "source": [
    "summary(df_madrid)"
   ]
  },
  {
   "cell_type": "code",
   "execution_count": 27,
   "metadata": {},
   "outputs": [
    {
     "data": {
      "text/html": [
       "<table class=\"dataframe\">\n",
       "<caption>A data.frame: 220 × 13</caption>\n",
       "<thead>\n",
       "\t<tr><th scope=col>Neighbourhood</th><th scope=col>Accommodates</th><th scope=col>Bathrooms</th><th scope=col>Bedrooms</th><th scope=col>Beds</th><th scope=col>Price</th><th scope=col>Guests.Included</th><th scope=col>Extra.People</th><th scope=col>Review.Scores.Rating</th><th scope=col>Latitude</th><th scope=col>Longitude</th><th scope=col>Square.Meters</th><th scope=col>neighb_id</th></tr>\n",
       "\t<tr><th scope=col>&lt;chr&gt;</th><th scope=col>&lt;dbl&gt;</th><th scope=col>&lt;dbl&gt;</th><th scope=col>&lt;dbl&gt;</th><th scope=col>&lt;dbl&gt;</th><th scope=col>&lt;dbl&gt;</th><th scope=col>&lt;dbl&gt;</th><th scope=col>&lt;dbl&gt;</th><th scope=col>&lt;dbl&gt;</th><th scope=col>&lt;dbl&gt;</th><th scope=col>&lt;dbl&gt;</th><th scope=col>&lt;dbl&gt;</th><th scope=col>&lt;fct&gt;</th></tr>\n",
       "</thead>\n",
       "<tbody>\n",
       "\t<tr><td>18.9970715565794</td><td>44.5904</td><td>41.40535</td><td>66.46788</td><td>53.78305</td><td> NA</td><td>43.26603</td><td>26.88877</td><td> 57.24735</td><td>51.92326</td><td>       NA</td><td> 25.325546</td><td>NA</td></tr>\n",
       "\t<tr><td>Acacias         </td><td> 4.0000</td><td> 1.00000</td><td> 1.00000</td><td> 2.00000</td><td> 60</td><td> 2.00000</td><td>12.00000</td><td> 85.00000</td><td>40.40073</td><td>-3.706203</td><td> 69.955959</td><td>1 </td></tr>\n",
       "\t<tr><td>Acacias         </td><td> 4.0000</td><td> 1.00000</td><td> 1.00000</td><td> 3.00000</td><td> 68</td><td> 2.00000</td><td>10.00000</td><td> 90.00000</td><td>40.39691</td><td>-3.705202</td><td> 74.972721</td><td>1 </td></tr>\n",
       "\t<tr><td>Acacias         </td><td> 4.0000</td><td> 1.00000</td><td> 1.00000</td><td> 2.00000</td><td> 60</td><td> 2.00000</td><td>15.00000</td><td> 98.00000</td><td>40.40513</td><td>-3.707726</td><td> 49.981814</td><td>1 </td></tr>\n",
       "\t<tr><td>Adelfas         </td><td> 4.0000</td><td> 2.00000</td><td> 2.00000</td><td> 2.00000</td><td> 76</td><td> 4.00000</td><td>15.00000</td><td> 75.00000</td><td>40.40606</td><td>-3.668898</td><td>  7.432240</td><td>1 </td></tr>\n",
       "\t<tr><td>Adelfas         </td><td> 6.0000</td><td> 1.50000</td><td> 2.00000</td><td> 6.00000</td><td> 60</td><td> 2.00000</td><td>15.00000</td><td> 94.00000</td><td>40.39912</td><td>-3.670071</td><td> 69.955959</td><td>1 </td></tr>\n",
       "\t<tr><td>Almagro         </td><td> 4.0000</td><td> 1.00000</td><td> 1.00000</td><td> 2.00000</td><td> 75</td><td> 2.00000</td><td>10.00000</td><td> 92.00000</td><td>40.43825</td><td>-3.693876</td><td> 49.981814</td><td>1 </td></tr>\n",
       "\t<tr><td>Almenara        </td><td> 4.0000</td><td> 1.00000</td><td> 0.00000</td><td> 1.00000</td><td> 52</td><td> 2.00000</td><td> 0.00000</td><td> 53.00000</td><td>40.47226</td><td>-3.692849</td><td> 40.041193</td><td>1 </td></tr>\n",
       "\t<tr><td>Almenara        </td><td> 4.0000</td><td> 1.00000</td><td> 0.00000</td><td> 1.00000</td><td> 52</td><td> 2.00000</td><td> 0.00000</td><td> 72.00000</td><td>40.47221</td><td>-3.693440</td><td> 44.965052</td><td>1 </td></tr>\n",
       "\t<tr><td>Almenara        </td><td> 4.0000</td><td> 1.00000</td><td> 0.00000</td><td> 1.00000</td><td> 52</td><td> 1.00000</td><td> 0.00000</td><td> 80.00000</td><td>40.47149</td><td>-3.691282</td><td> 44.965052</td><td>1 </td></tr>\n",
       "\t<tr><td>Almenara        </td><td> 6.0000</td><td> 1.50000</td><td> 3.00000</td><td> 4.00000</td><td>170</td><td> 2.00000</td><td>25.00000</td><td> 87.00000</td><td>40.47293</td><td>-3.689449</td><td>140.004821</td><td>1 </td></tr>\n",
       "\t<tr><td>Almenara        </td><td> 6.0000</td><td> 2.00000</td><td> 1.00000</td><td> 2.00000</td><td> 67</td><td> 4.00000</td><td> 0.00000</td><td> 73.00000</td><td>40.47335</td><td>-3.691577</td><td> 60.015338</td><td>1 </td></tr>\n",
       "\t<tr><td>Aluche          </td><td> 5.0000</td><td> 2.00000</td><td> 3.00000</td><td> 5.00000</td><td> 75</td><td> 1.00000</td><td> 0.00000</td><td> 85.00000</td><td>40.40398</td><td>-3.731632</td><td>  8.361270</td><td>1 </td></tr>\n",
       "\t<tr><td>Arapiles        </td><td> 6.0000</td><td> 2.00000</td><td> 3.00000</td><td> 5.00000</td><td>145</td><td> 2.00000</td><td>13.00000</td><td>100.00000</td><td>40.43359</td><td>-3.706873</td><td>159.978966</td><td>2 </td></tr>\n",
       "\t<tr><td>Arapiles        </td><td> 4.0000</td><td> 1.00000</td><td> 1.00000</td><td> 2.00000</td><td> 65</td><td> 1.00000</td><td> 0.00000</td><td> 96.00000</td><td>40.43335</td><td>-3.705369</td><td> 35.024431</td><td>2 </td></tr>\n",
       "\t<tr><td>Argüelles       </td><td> 5.0000</td><td> 1.00000</td><td> 2.00000</td><td> 3.00000</td><td> 80</td><td> 1.00000</td><td> 0.00000</td><td> 80.00000</td><td>40.42460</td><td>-3.728758</td><td> 74.972721</td><td>1 </td></tr>\n",
       "\t<tr><td>Argüelles       </td><td> 4.0000</td><td> 1.50000</td><td> 2.00000</td><td> 2.00000</td><td> 95</td><td> 2.00000</td><td>15.00000</td><td> 89.00000</td><td>40.42920</td><td>-3.717775</td><td> 96.990732</td><td>1 </td></tr>\n",
       "\t<tr><td>Argüelles       </td><td> 4.0000</td><td> 1.00000</td><td> 1.00000</td><td> 1.00000</td><td> 55</td><td> 1.00000</td><td>12.00000</td><td> 87.00000</td><td>40.43103</td><td>-3.724586</td><td>  6.967725</td><td>1 </td></tr>\n",
       "\t<tr><td>Argüelles       </td><td> 2.0000</td><td> 1.00000</td><td> 0.00000</td><td> 1.00000</td><td> 40</td><td> 1.00000</td><td>10.00000</td><td> 78.00000</td><td>40.42492</td><td>-3.713446</td><td>  2.322575</td><td>1 </td></tr>\n",
       "\t<tr><td>Argüelles       </td><td> 2.0000</td><td> 1.00000</td><td> 1.00000</td><td> 1.00000</td><td> 75</td><td> 2.00000</td><td>11.00000</td><td> 76.00000</td><td>40.42503</td><td>-3.713599</td><td>  3.251605</td><td>1 </td></tr>\n",
       "\t<tr><td>Argüelles       </td><td> 6.0000</td><td> 2.00000</td><td> 2.00000</td><td> 1.00000</td><td>119</td><td> 2.00000</td><td>11.00000</td><td> 76.00000</td><td>40.42553</td><td>-3.713314</td><td>  7.896755</td><td>1 </td></tr>\n",
       "\t<tr><td>Argüelles       </td><td> 4.0000</td><td> 1.00000</td><td> 1.00000</td><td> 1.00000</td><td> 95</td><td> 2.00000</td><td>10.00000</td><td> 93.00000</td><td>40.42486</td><td>-3.715140</td><td> 79.989483</td><td>1 </td></tr>\n",
       "\t<tr><td>Barajas         </td><td> 2.0000</td><td> 1.00000</td><td> 1.00000</td><td> 1.00000</td><td> 42</td><td> 2.00000</td><td>15.00000</td><td>100.00000</td><td>40.47606</td><td>-3.576178</td><td> 36.975394</td><td>1 </td></tr>\n",
       "\t<tr><td>Carabanchel     </td><td> 6.0000</td><td> 1.00000</td><td> 3.00000</td><td> 4.00000</td><td> 85</td><td> 2.00000</td><td> 0.00000</td><td> 88.00000</td><td>40.37987</td><td>-3.732151</td><td> 99.963628</td><td>1 </td></tr>\n",
       "\t<tr><td>Carabanchel     </td><td> 2.0000</td><td> 1.00000</td><td> 2.00000</td><td> 1.00000</td><td> 20</td><td> 1.00000</td><td> 0.00000</td><td>       NA</td><td>40.37754</td><td>-3.742761</td><td> 74.972721</td><td>1 </td></tr>\n",
       "\t<tr><td>Carabanchel     </td><td> 5.0000</td><td> 1.00000</td><td> 1.00000</td><td> 3.00000</td><td> 32</td><td> 3.00000</td><td> 9.00000</td><td> 81.00000</td><td>40.39268</td><td>-3.712169</td><td> 54.998576</td><td>1 </td></tr>\n",
       "\t<tr><td>Carabanchel     </td><td> 2.0000</td><td> 1.00000</td><td> 1.00000</td><td> 1.00000</td><td> 60</td><td> 1.00000</td><td> 0.00000</td><td> 94.00000</td><td>40.39465</td><td>-3.708178</td><td>  6.503210</td><td>1 </td></tr>\n",
       "\t<tr><td>Castellana      </td><td> 4.0000</td><td> 2.00000</td><td> 2.00000</td><td> 4.00000</td><td>190</td><td> 1.00000</td><td> 0.00000</td><td> 93.00000</td><td>40.43080</td><td>-3.679928</td><td>109.997152</td><td>2 </td></tr>\n",
       "\t<tr><td>Castellana      </td><td> 3.0000</td><td> 2.00000</td><td> 3.00000</td><td> 4.00000</td><td>280</td><td> 1.00000</td><td> 0.00000</td><td>       NA</td><td>40.43146</td><td>-3.683872</td><td>120.030676</td><td>2 </td></tr>\n",
       "\t<tr><td>Castellana      </td><td> 7.0000</td><td> 2.00000</td><td> 3.00000</td><td> 6.00000</td><td>450</td><td> 1.00000</td><td> 0.00000</td><td>       NA</td><td>40.43186</td><td>-3.685074</td><td>120.030676</td><td>2 </td></tr>\n",
       "\t<tr><td>⋮</td><td>⋮</td><td>⋮</td><td>⋮</td><td>⋮</td><td>⋮</td><td>⋮</td><td>⋮</td><td>⋮</td><td>⋮</td><td>⋮</td><td>⋮</td><td>⋮</td></tr>\n",
       "\t<tr><td>Sol       </td><td> 4</td><td>1.0</td><td>1</td><td>2</td><td> 85</td><td>2</td><td>20</td><td> 50</td><td>40.41650</td><td>-3.708658</td><td> 44.965052</td><td>1</td></tr>\n",
       "\t<tr><td>Sol       </td><td> 6</td><td>1.0</td><td>2</td><td>3</td><td>102</td><td>1</td><td>11</td><td> 80</td><td>40.41977</td><td>-3.699911</td><td> 74.972721</td><td>1</td></tr>\n",
       "\t<tr><td>Sol       </td><td> 4</td><td>1.0</td><td>2</td><td>3</td><td> 95</td><td>2</td><td>10</td><td> 93</td><td>40.41487</td><td>-3.706138</td><td> 87.979141</td><td>1</td></tr>\n",
       "\t<tr><td>Sol       </td><td> 4</td><td>1.0</td><td>1</td><td>1</td><td> 82</td><td>2</td><td>11</td><td> 88</td><td>40.41596</td><td>-3.703019</td><td> 54.998576</td><td>1</td></tr>\n",
       "\t<tr><td>Sol       </td><td>10</td><td>2.0</td><td>2</td><td>6</td><td> 98</td><td>1</td><td>24</td><td> 94</td><td>40.41504</td><td>-3.707618</td><td>134.988059</td><td>1</td></tr>\n",
       "\t<tr><td>Sol       </td><td>12</td><td>4.0</td><td>4</td><td>8</td><td>250</td><td>6</td><td>10</td><td> 96</td><td>40.41805</td><td>-3.707654</td><td>115.013914</td><td>1</td></tr>\n",
       "\t<tr><td>Sol       </td><td> 8</td><td>1.0</td><td>2</td><td>6</td><td>145</td><td>1</td><td>28</td><td> 97</td><td>40.41601</td><td>-3.708529</td><td> 82.033349</td><td>1</td></tr>\n",
       "\t<tr><td>Sol       </td><td> 2</td><td>1.0</td><td>1</td><td>1</td><td> 65</td><td>2</td><td> 0</td><td> 90</td><td>40.41888</td><td>-3.703460</td><td> 40.041193</td><td>1</td></tr>\n",
       "\t<tr><td>Sol       </td><td> 4</td><td>1.0</td><td>1</td><td>2</td><td>108</td><td>2</td><td>15</td><td> 95</td><td>40.41595</td><td>-3.702808</td><td> 49.981814</td><td>1</td></tr>\n",
       "\t<tr><td>Sol       </td><td> 6</td><td>2.0</td><td>2</td><td>3</td><td> 90</td><td>1</td><td> 0</td><td>100</td><td>40.41790</td><td>-3.708193</td><td>  9.290300</td><td>1</td></tr>\n",
       "\t<tr><td>Sol       </td><td> 6</td><td>2.0</td><td>2</td><td>3</td><td>140</td><td>3</td><td>10</td><td> 94</td><td>40.41611</td><td>-3.707456</td><td> 99.963628</td><td>1</td></tr>\n",
       "\t<tr><td>Sol       </td><td> 4</td><td>1.0</td><td>1</td><td>2</td><td> 71</td><td>2</td><td>10</td><td> 91</td><td>40.41552</td><td>-3.704214</td><td> 40.041193</td><td>1</td></tr>\n",
       "\t<tr><td>Sol       </td><td> 4</td><td>1.0</td><td>1</td><td>1</td><td>100</td><td>2</td><td>10</td><td> 87</td><td>40.41507</td><td>-3.703358</td><td> 69.955959</td><td>1</td></tr>\n",
       "\t<tr><td>Sol       </td><td> 2</td><td>1.0</td><td>1</td><td>1</td><td> 75</td><td>2</td><td> 0</td><td> 91</td><td>40.41917</td><td>-3.706242</td><td>  6.596113</td><td>1</td></tr>\n",
       "\t<tr><td>Sol       </td><td>10</td><td>3.0</td><td>3</td><td>7</td><td>150</td><td>8</td><td>20</td><td> 65</td><td>40.41869</td><td>-3.703180</td><td> 74.972721</td><td>1</td></tr>\n",
       "\t<tr><td>Sol       </td><td> 3</td><td>1.0</td><td>0</td><td>1</td><td> 45</td><td>2</td><td>25</td><td> 97</td><td>40.41881</td><td>-3.701293</td><td> 60.015338</td><td>1</td></tr>\n",
       "\t<tr><td>Sol       </td><td> 3</td><td>1.0</td><td>1</td><td>1</td><td>100</td><td>2</td><td>10</td><td> 96</td><td>40.41985</td><td>-3.703648</td><td> 44.965052</td><td>1</td></tr>\n",
       "\t<tr><td>Sol       </td><td> 4</td><td>1.0</td><td>1</td><td>1</td><td> 82</td><td>2</td><td>11</td><td> 87</td><td>40.41588</td><td>-3.702001</td><td>  4.180635</td><td>1</td></tr>\n",
       "\t<tr><td>Sol       </td><td> 2</td><td>1.0</td><td>1</td><td>1</td><td> 57</td><td>1</td><td> 0</td><td> 94</td><td>40.41878</td><td>-3.701261</td><td> 19.045115</td><td>1</td></tr>\n",
       "\t<tr><td>Sol       </td><td> 8</td><td>2.0</td><td>4</td><td>5</td><td>250</td><td>8</td><td>25</td><td> 99</td><td>40.41653</td><td>-3.703081</td><td>200.020159</td><td>1</td></tr>\n",
       "\t<tr><td>Sol       </td><td> 4</td><td>1.0</td><td>1</td><td>1</td><td> 75</td><td>2</td><td>15</td><td> 90</td><td>40.41805</td><td>-3.703521</td><td> 60.015338</td><td>1</td></tr>\n",
       "\t<tr><td>Sol       </td><td> 4</td><td>1.0</td><td>1</td><td>2</td><td> 70</td><td>2</td><td> 8</td><td>100</td><td>40.41794</td><td>-3.701260</td><td> 85.006245</td><td>1</td></tr>\n",
       "\t<tr><td>Sol       </td><td> 6</td><td>2.0</td><td>3</td><td>4</td><td>199</td><td>2</td><td>30</td><td> 96</td><td>40.41415</td><td>-3.705004</td><td>200.020159</td><td>1</td></tr>\n",
       "\t<tr><td>Trafalgar </td><td> 2</td><td>1.0</td><td>0</td><td>2</td><td> 60</td><td>2</td><td>15</td><td> 94</td><td>40.43648</td><td>-3.701929</td><td> 30.007669</td><td>1</td></tr>\n",
       "\t<tr><td>Trafalgar </td><td> 4</td><td>1.0</td><td>1</td><td>1</td><td> 88</td><td>2</td><td>11</td><td> 80</td><td>40.43083</td><td>-3.701327</td><td>  5.109665</td><td>1</td></tr>\n",
       "\t<tr><td>Trafalgar </td><td> 5</td><td>2.5</td><td>2</td><td>3</td><td>105</td><td>2</td><td>20</td><td> 92</td><td>40.43086</td><td>-3.702698</td><td>120.030676</td><td>1</td></tr>\n",
       "\t<tr><td>Trafalgar </td><td> 4</td><td>1.0</td><td>1</td><td>1</td><td> 30</td><td>1</td><td> 0</td><td> 99</td><td>40.42897</td><td>-3.697106</td><td> 49.981814</td><td>1</td></tr>\n",
       "\t<tr><td>Usera     </td><td> 2</td><td>1.0</td><td>1</td><td>1</td><td> 40</td><td>1</td><td> 0</td><td> 78</td><td>40.38241</td><td>-3.703331</td><td> 49.981814</td><td>1</td></tr>\n",
       "\t<tr><td>Vicálvaro </td><td> 4</td><td>1.0</td><td>2</td><td>2</td><td> 35</td><td>2</td><td>31</td><td> 50</td><td>40.40919</td><td>-3.614325</td><td> 60.015338</td><td>1</td></tr>\n",
       "\t<tr><td>Villaverde</td><td> 5</td><td>1.0</td><td>3</td><td>3</td><td> 55</td><td>1</td><td> 0</td><td> 90</td><td>40.35560</td><td>-3.698285</td><td>  5.574180</td><td>1</td></tr>\n",
       "</tbody>\n",
       "</table>\n"
      ],
      "text/latex": [
       "A data.frame: 220 × 13\n",
       "\\begin{tabular}{lllllllllllll}\n",
       " Neighbourhood & Accommodates & Bathrooms & Bedrooms & Beds & Price & Guests.Included & Extra.People & Review.Scores.Rating & Latitude & Longitude & Square.Meters & neighb\\_id\\\\\n",
       " <chr> & <dbl> & <dbl> & <dbl> & <dbl> & <dbl> & <dbl> & <dbl> & <dbl> & <dbl> & <dbl> & <dbl> & <fct>\\\\\n",
       "\\hline\n",
       "\t 18.9970715565794 & 44.5904 & 41.40535 & 66.46788 & 53.78305 &  NA & 43.26603 & 26.88877 &  57.24735 & 51.92326 &        NA &  25.325546 & NA\\\\\n",
       "\t Acacias          &  4.0000 &  1.00000 &  1.00000 &  2.00000 &  60 &  2.00000 & 12.00000 &  85.00000 & 40.40073 & -3.706203 &  69.955959 & 1 \\\\\n",
       "\t Acacias          &  4.0000 &  1.00000 &  1.00000 &  3.00000 &  68 &  2.00000 & 10.00000 &  90.00000 & 40.39691 & -3.705202 &  74.972721 & 1 \\\\\n",
       "\t Acacias          &  4.0000 &  1.00000 &  1.00000 &  2.00000 &  60 &  2.00000 & 15.00000 &  98.00000 & 40.40513 & -3.707726 &  49.981814 & 1 \\\\\n",
       "\t Adelfas          &  4.0000 &  2.00000 &  2.00000 &  2.00000 &  76 &  4.00000 & 15.00000 &  75.00000 & 40.40606 & -3.668898 &   7.432240 & 1 \\\\\n",
       "\t Adelfas          &  6.0000 &  1.50000 &  2.00000 &  6.00000 &  60 &  2.00000 & 15.00000 &  94.00000 & 40.39912 & -3.670071 &  69.955959 & 1 \\\\\n",
       "\t Almagro          &  4.0000 &  1.00000 &  1.00000 &  2.00000 &  75 &  2.00000 & 10.00000 &  92.00000 & 40.43825 & -3.693876 &  49.981814 & 1 \\\\\n",
       "\t Almenara         &  4.0000 &  1.00000 &  0.00000 &  1.00000 &  52 &  2.00000 &  0.00000 &  53.00000 & 40.47226 & -3.692849 &  40.041193 & 1 \\\\\n",
       "\t Almenara         &  4.0000 &  1.00000 &  0.00000 &  1.00000 &  52 &  2.00000 &  0.00000 &  72.00000 & 40.47221 & -3.693440 &  44.965052 & 1 \\\\\n",
       "\t Almenara         &  4.0000 &  1.00000 &  0.00000 &  1.00000 &  52 &  1.00000 &  0.00000 &  80.00000 & 40.47149 & -3.691282 &  44.965052 & 1 \\\\\n",
       "\t Almenara         &  6.0000 &  1.50000 &  3.00000 &  4.00000 & 170 &  2.00000 & 25.00000 &  87.00000 & 40.47293 & -3.689449 & 140.004821 & 1 \\\\\n",
       "\t Almenara         &  6.0000 &  2.00000 &  1.00000 &  2.00000 &  67 &  4.00000 &  0.00000 &  73.00000 & 40.47335 & -3.691577 &  60.015338 & 1 \\\\\n",
       "\t Aluche           &  5.0000 &  2.00000 &  3.00000 &  5.00000 &  75 &  1.00000 &  0.00000 &  85.00000 & 40.40398 & -3.731632 &   8.361270 & 1 \\\\\n",
       "\t Arapiles         &  6.0000 &  2.00000 &  3.00000 &  5.00000 & 145 &  2.00000 & 13.00000 & 100.00000 & 40.43359 & -3.706873 & 159.978966 & 2 \\\\\n",
       "\t Arapiles         &  4.0000 &  1.00000 &  1.00000 &  2.00000 &  65 &  1.00000 &  0.00000 &  96.00000 & 40.43335 & -3.705369 &  35.024431 & 2 \\\\\n",
       "\t Argüelles        &  5.0000 &  1.00000 &  2.00000 &  3.00000 &  80 &  1.00000 &  0.00000 &  80.00000 & 40.42460 & -3.728758 &  74.972721 & 1 \\\\\n",
       "\t Argüelles        &  4.0000 &  1.50000 &  2.00000 &  2.00000 &  95 &  2.00000 & 15.00000 &  89.00000 & 40.42920 & -3.717775 &  96.990732 & 1 \\\\\n",
       "\t Argüelles        &  4.0000 &  1.00000 &  1.00000 &  1.00000 &  55 &  1.00000 & 12.00000 &  87.00000 & 40.43103 & -3.724586 &   6.967725 & 1 \\\\\n",
       "\t Argüelles        &  2.0000 &  1.00000 &  0.00000 &  1.00000 &  40 &  1.00000 & 10.00000 &  78.00000 & 40.42492 & -3.713446 &   2.322575 & 1 \\\\\n",
       "\t Argüelles        &  2.0000 &  1.00000 &  1.00000 &  1.00000 &  75 &  2.00000 & 11.00000 &  76.00000 & 40.42503 & -3.713599 &   3.251605 & 1 \\\\\n",
       "\t Argüelles        &  6.0000 &  2.00000 &  2.00000 &  1.00000 & 119 &  2.00000 & 11.00000 &  76.00000 & 40.42553 & -3.713314 &   7.896755 & 1 \\\\\n",
       "\t Argüelles        &  4.0000 &  1.00000 &  1.00000 &  1.00000 &  95 &  2.00000 & 10.00000 &  93.00000 & 40.42486 & -3.715140 &  79.989483 & 1 \\\\\n",
       "\t Barajas          &  2.0000 &  1.00000 &  1.00000 &  1.00000 &  42 &  2.00000 & 15.00000 & 100.00000 & 40.47606 & -3.576178 &  36.975394 & 1 \\\\\n",
       "\t Carabanchel      &  6.0000 &  1.00000 &  3.00000 &  4.00000 &  85 &  2.00000 &  0.00000 &  88.00000 & 40.37987 & -3.732151 &  99.963628 & 1 \\\\\n",
       "\t Carabanchel      &  2.0000 &  1.00000 &  2.00000 &  1.00000 &  20 &  1.00000 &  0.00000 &        NA & 40.37754 & -3.742761 &  74.972721 & 1 \\\\\n",
       "\t Carabanchel      &  5.0000 &  1.00000 &  1.00000 &  3.00000 &  32 &  3.00000 &  9.00000 &  81.00000 & 40.39268 & -3.712169 &  54.998576 & 1 \\\\\n",
       "\t Carabanchel      &  2.0000 &  1.00000 &  1.00000 &  1.00000 &  60 &  1.00000 &  0.00000 &  94.00000 & 40.39465 & -3.708178 &   6.503210 & 1 \\\\\n",
       "\t Castellana       &  4.0000 &  2.00000 &  2.00000 &  4.00000 & 190 &  1.00000 &  0.00000 &  93.00000 & 40.43080 & -3.679928 & 109.997152 & 2 \\\\\n",
       "\t Castellana       &  3.0000 &  2.00000 &  3.00000 &  4.00000 & 280 &  1.00000 &  0.00000 &        NA & 40.43146 & -3.683872 & 120.030676 & 2 \\\\\n",
       "\t Castellana       &  7.0000 &  2.00000 &  3.00000 &  6.00000 & 450 &  1.00000 &  0.00000 &        NA & 40.43186 & -3.685074 & 120.030676 & 2 \\\\\n",
       "\t ⋮ & ⋮ & ⋮ & ⋮ & ⋮ & ⋮ & ⋮ & ⋮ & ⋮ & ⋮ & ⋮ & ⋮ & ⋮\\\\\n",
       "\t Sol        &  4 & 1.0 & 1 & 2 &  85 & 2 & 20 &  50 & 40.41650 & -3.708658 &  44.965052 & 1\\\\\n",
       "\t Sol        &  6 & 1.0 & 2 & 3 & 102 & 1 & 11 &  80 & 40.41977 & -3.699911 &  74.972721 & 1\\\\\n",
       "\t Sol        &  4 & 1.0 & 2 & 3 &  95 & 2 & 10 &  93 & 40.41487 & -3.706138 &  87.979141 & 1\\\\\n",
       "\t Sol        &  4 & 1.0 & 1 & 1 &  82 & 2 & 11 &  88 & 40.41596 & -3.703019 &  54.998576 & 1\\\\\n",
       "\t Sol        & 10 & 2.0 & 2 & 6 &  98 & 1 & 24 &  94 & 40.41504 & -3.707618 & 134.988059 & 1\\\\\n",
       "\t Sol        & 12 & 4.0 & 4 & 8 & 250 & 6 & 10 &  96 & 40.41805 & -3.707654 & 115.013914 & 1\\\\\n",
       "\t Sol        &  8 & 1.0 & 2 & 6 & 145 & 1 & 28 &  97 & 40.41601 & -3.708529 &  82.033349 & 1\\\\\n",
       "\t Sol        &  2 & 1.0 & 1 & 1 &  65 & 2 &  0 &  90 & 40.41888 & -3.703460 &  40.041193 & 1\\\\\n",
       "\t Sol        &  4 & 1.0 & 1 & 2 & 108 & 2 & 15 &  95 & 40.41595 & -3.702808 &  49.981814 & 1\\\\\n",
       "\t Sol        &  6 & 2.0 & 2 & 3 &  90 & 1 &  0 & 100 & 40.41790 & -3.708193 &   9.290300 & 1\\\\\n",
       "\t Sol        &  6 & 2.0 & 2 & 3 & 140 & 3 & 10 &  94 & 40.41611 & -3.707456 &  99.963628 & 1\\\\\n",
       "\t Sol        &  4 & 1.0 & 1 & 2 &  71 & 2 & 10 &  91 & 40.41552 & -3.704214 &  40.041193 & 1\\\\\n",
       "\t Sol        &  4 & 1.0 & 1 & 1 & 100 & 2 & 10 &  87 & 40.41507 & -3.703358 &  69.955959 & 1\\\\\n",
       "\t Sol        &  2 & 1.0 & 1 & 1 &  75 & 2 &  0 &  91 & 40.41917 & -3.706242 &   6.596113 & 1\\\\\n",
       "\t Sol        & 10 & 3.0 & 3 & 7 & 150 & 8 & 20 &  65 & 40.41869 & -3.703180 &  74.972721 & 1\\\\\n",
       "\t Sol        &  3 & 1.0 & 0 & 1 &  45 & 2 & 25 &  97 & 40.41881 & -3.701293 &  60.015338 & 1\\\\\n",
       "\t Sol        &  3 & 1.0 & 1 & 1 & 100 & 2 & 10 &  96 & 40.41985 & -3.703648 &  44.965052 & 1\\\\\n",
       "\t Sol        &  4 & 1.0 & 1 & 1 &  82 & 2 & 11 &  87 & 40.41588 & -3.702001 &   4.180635 & 1\\\\\n",
       "\t Sol        &  2 & 1.0 & 1 & 1 &  57 & 1 &  0 &  94 & 40.41878 & -3.701261 &  19.045115 & 1\\\\\n",
       "\t Sol        &  8 & 2.0 & 4 & 5 & 250 & 8 & 25 &  99 & 40.41653 & -3.703081 & 200.020159 & 1\\\\\n",
       "\t Sol        &  4 & 1.0 & 1 & 1 &  75 & 2 & 15 &  90 & 40.41805 & -3.703521 &  60.015338 & 1\\\\\n",
       "\t Sol        &  4 & 1.0 & 1 & 2 &  70 & 2 &  8 & 100 & 40.41794 & -3.701260 &  85.006245 & 1\\\\\n",
       "\t Sol        &  6 & 2.0 & 3 & 4 & 199 & 2 & 30 &  96 & 40.41415 & -3.705004 & 200.020159 & 1\\\\\n",
       "\t Trafalgar  &  2 & 1.0 & 0 & 2 &  60 & 2 & 15 &  94 & 40.43648 & -3.701929 &  30.007669 & 1\\\\\n",
       "\t Trafalgar  &  4 & 1.0 & 1 & 1 &  88 & 2 & 11 &  80 & 40.43083 & -3.701327 &   5.109665 & 1\\\\\n",
       "\t Trafalgar  &  5 & 2.5 & 2 & 3 & 105 & 2 & 20 &  92 & 40.43086 & -3.702698 & 120.030676 & 1\\\\\n",
       "\t Trafalgar  &  4 & 1.0 & 1 & 1 &  30 & 1 &  0 &  99 & 40.42897 & -3.697106 &  49.981814 & 1\\\\\n",
       "\t Usera      &  2 & 1.0 & 1 & 1 &  40 & 1 &  0 &  78 & 40.38241 & -3.703331 &  49.981814 & 1\\\\\n",
       "\t Vicálvaro  &  4 & 1.0 & 2 & 2 &  35 & 2 & 31 &  50 & 40.40919 & -3.614325 &  60.015338 & 1\\\\\n",
       "\t Villaverde &  5 & 1.0 & 3 & 3 &  55 & 1 &  0 &  90 & 40.35560 & -3.698285 &   5.574180 & 1\\\\\n",
       "\\end{tabular}\n"
      ],
      "text/markdown": [
       "\n",
       "A data.frame: 220 × 13\n",
       "\n",
       "| Neighbourhood &lt;chr&gt; | Accommodates &lt;dbl&gt; | Bathrooms &lt;dbl&gt; | Bedrooms &lt;dbl&gt; | Beds &lt;dbl&gt; | Price &lt;dbl&gt; | Guests.Included &lt;dbl&gt; | Extra.People &lt;dbl&gt; | Review.Scores.Rating &lt;dbl&gt; | Latitude &lt;dbl&gt; | Longitude &lt;dbl&gt; | Square.Meters &lt;dbl&gt; | neighb_id &lt;fct&gt; |\n",
       "|---|---|---|---|---|---|---|---|---|---|---|---|---|\n",
       "| 18.9970715565794 | 44.5904 | 41.40535 | 66.46788 | 53.78305 |  NA | 43.26603 | 26.88877 |  57.24735 | 51.92326 |        NA |  25.325546 | NA |\n",
       "| Acacias          |  4.0000 |  1.00000 |  1.00000 |  2.00000 |  60 |  2.00000 | 12.00000 |  85.00000 | 40.40073 | -3.706203 |  69.955959 | 1  |\n",
       "| Acacias          |  4.0000 |  1.00000 |  1.00000 |  3.00000 |  68 |  2.00000 | 10.00000 |  90.00000 | 40.39691 | -3.705202 |  74.972721 | 1  |\n",
       "| Acacias          |  4.0000 |  1.00000 |  1.00000 |  2.00000 |  60 |  2.00000 | 15.00000 |  98.00000 | 40.40513 | -3.707726 |  49.981814 | 1  |\n",
       "| Adelfas          |  4.0000 |  2.00000 |  2.00000 |  2.00000 |  76 |  4.00000 | 15.00000 |  75.00000 | 40.40606 | -3.668898 |   7.432240 | 1  |\n",
       "| Adelfas          |  6.0000 |  1.50000 |  2.00000 |  6.00000 |  60 |  2.00000 | 15.00000 |  94.00000 | 40.39912 | -3.670071 |  69.955959 | 1  |\n",
       "| Almagro          |  4.0000 |  1.00000 |  1.00000 |  2.00000 |  75 |  2.00000 | 10.00000 |  92.00000 | 40.43825 | -3.693876 |  49.981814 | 1  |\n",
       "| Almenara         |  4.0000 |  1.00000 |  0.00000 |  1.00000 |  52 |  2.00000 |  0.00000 |  53.00000 | 40.47226 | -3.692849 |  40.041193 | 1  |\n",
       "| Almenara         |  4.0000 |  1.00000 |  0.00000 |  1.00000 |  52 |  2.00000 |  0.00000 |  72.00000 | 40.47221 | -3.693440 |  44.965052 | 1  |\n",
       "| Almenara         |  4.0000 |  1.00000 |  0.00000 |  1.00000 |  52 |  1.00000 |  0.00000 |  80.00000 | 40.47149 | -3.691282 |  44.965052 | 1  |\n",
       "| Almenara         |  6.0000 |  1.50000 |  3.00000 |  4.00000 | 170 |  2.00000 | 25.00000 |  87.00000 | 40.47293 | -3.689449 | 140.004821 | 1  |\n",
       "| Almenara         |  6.0000 |  2.00000 |  1.00000 |  2.00000 |  67 |  4.00000 |  0.00000 |  73.00000 | 40.47335 | -3.691577 |  60.015338 | 1  |\n",
       "| Aluche           |  5.0000 |  2.00000 |  3.00000 |  5.00000 |  75 |  1.00000 |  0.00000 |  85.00000 | 40.40398 | -3.731632 |   8.361270 | 1  |\n",
       "| Arapiles         |  6.0000 |  2.00000 |  3.00000 |  5.00000 | 145 |  2.00000 | 13.00000 | 100.00000 | 40.43359 | -3.706873 | 159.978966 | 2  |\n",
       "| Arapiles         |  4.0000 |  1.00000 |  1.00000 |  2.00000 |  65 |  1.00000 |  0.00000 |  96.00000 | 40.43335 | -3.705369 |  35.024431 | 2  |\n",
       "| Argüelles        |  5.0000 |  1.00000 |  2.00000 |  3.00000 |  80 |  1.00000 |  0.00000 |  80.00000 | 40.42460 | -3.728758 |  74.972721 | 1  |\n",
       "| Argüelles        |  4.0000 |  1.50000 |  2.00000 |  2.00000 |  95 |  2.00000 | 15.00000 |  89.00000 | 40.42920 | -3.717775 |  96.990732 | 1  |\n",
       "| Argüelles        |  4.0000 |  1.00000 |  1.00000 |  1.00000 |  55 |  1.00000 | 12.00000 |  87.00000 | 40.43103 | -3.724586 |   6.967725 | 1  |\n",
       "| Argüelles        |  2.0000 |  1.00000 |  0.00000 |  1.00000 |  40 |  1.00000 | 10.00000 |  78.00000 | 40.42492 | -3.713446 |   2.322575 | 1  |\n",
       "| Argüelles        |  2.0000 |  1.00000 |  1.00000 |  1.00000 |  75 |  2.00000 | 11.00000 |  76.00000 | 40.42503 | -3.713599 |   3.251605 | 1  |\n",
       "| Argüelles        |  6.0000 |  2.00000 |  2.00000 |  1.00000 | 119 |  2.00000 | 11.00000 |  76.00000 | 40.42553 | -3.713314 |   7.896755 | 1  |\n",
       "| Argüelles        |  4.0000 |  1.00000 |  1.00000 |  1.00000 |  95 |  2.00000 | 10.00000 |  93.00000 | 40.42486 | -3.715140 |  79.989483 | 1  |\n",
       "| Barajas          |  2.0000 |  1.00000 |  1.00000 |  1.00000 |  42 |  2.00000 | 15.00000 | 100.00000 | 40.47606 | -3.576178 |  36.975394 | 1  |\n",
       "| Carabanchel      |  6.0000 |  1.00000 |  3.00000 |  4.00000 |  85 |  2.00000 |  0.00000 |  88.00000 | 40.37987 | -3.732151 |  99.963628 | 1  |\n",
       "| Carabanchel      |  2.0000 |  1.00000 |  2.00000 |  1.00000 |  20 |  1.00000 |  0.00000 |        NA | 40.37754 | -3.742761 |  74.972721 | 1  |\n",
       "| Carabanchel      |  5.0000 |  1.00000 |  1.00000 |  3.00000 |  32 |  3.00000 |  9.00000 |  81.00000 | 40.39268 | -3.712169 |  54.998576 | 1  |\n",
       "| Carabanchel      |  2.0000 |  1.00000 |  1.00000 |  1.00000 |  60 |  1.00000 |  0.00000 |  94.00000 | 40.39465 | -3.708178 |   6.503210 | 1  |\n",
       "| Castellana       |  4.0000 |  2.00000 |  2.00000 |  4.00000 | 190 |  1.00000 |  0.00000 |  93.00000 | 40.43080 | -3.679928 | 109.997152 | 2  |\n",
       "| Castellana       |  3.0000 |  2.00000 |  3.00000 |  4.00000 | 280 |  1.00000 |  0.00000 |        NA | 40.43146 | -3.683872 | 120.030676 | 2  |\n",
       "| Castellana       |  7.0000 |  2.00000 |  3.00000 |  6.00000 | 450 |  1.00000 |  0.00000 |        NA | 40.43186 | -3.685074 | 120.030676 | 2  |\n",
       "| ⋮ | ⋮ | ⋮ | ⋮ | ⋮ | ⋮ | ⋮ | ⋮ | ⋮ | ⋮ | ⋮ | ⋮ | ⋮ |\n",
       "| Sol        |  4 | 1.0 | 1 | 2 |  85 | 2 | 20 |  50 | 40.41650 | -3.708658 |  44.965052 | 1 |\n",
       "| Sol        |  6 | 1.0 | 2 | 3 | 102 | 1 | 11 |  80 | 40.41977 | -3.699911 |  74.972721 | 1 |\n",
       "| Sol        |  4 | 1.0 | 2 | 3 |  95 | 2 | 10 |  93 | 40.41487 | -3.706138 |  87.979141 | 1 |\n",
       "| Sol        |  4 | 1.0 | 1 | 1 |  82 | 2 | 11 |  88 | 40.41596 | -3.703019 |  54.998576 | 1 |\n",
       "| Sol        | 10 | 2.0 | 2 | 6 |  98 | 1 | 24 |  94 | 40.41504 | -3.707618 | 134.988059 | 1 |\n",
       "| Sol        | 12 | 4.0 | 4 | 8 | 250 | 6 | 10 |  96 | 40.41805 | -3.707654 | 115.013914 | 1 |\n",
       "| Sol        |  8 | 1.0 | 2 | 6 | 145 | 1 | 28 |  97 | 40.41601 | -3.708529 |  82.033349 | 1 |\n",
       "| Sol        |  2 | 1.0 | 1 | 1 |  65 | 2 |  0 |  90 | 40.41888 | -3.703460 |  40.041193 | 1 |\n",
       "| Sol        |  4 | 1.0 | 1 | 2 | 108 | 2 | 15 |  95 | 40.41595 | -3.702808 |  49.981814 | 1 |\n",
       "| Sol        |  6 | 2.0 | 2 | 3 |  90 | 1 |  0 | 100 | 40.41790 | -3.708193 |   9.290300 | 1 |\n",
       "| Sol        |  6 | 2.0 | 2 | 3 | 140 | 3 | 10 |  94 | 40.41611 | -3.707456 |  99.963628 | 1 |\n",
       "| Sol        |  4 | 1.0 | 1 | 2 |  71 | 2 | 10 |  91 | 40.41552 | -3.704214 |  40.041193 | 1 |\n",
       "| Sol        |  4 | 1.0 | 1 | 1 | 100 | 2 | 10 |  87 | 40.41507 | -3.703358 |  69.955959 | 1 |\n",
       "| Sol        |  2 | 1.0 | 1 | 1 |  75 | 2 |  0 |  91 | 40.41917 | -3.706242 |   6.596113 | 1 |\n",
       "| Sol        | 10 | 3.0 | 3 | 7 | 150 | 8 | 20 |  65 | 40.41869 | -3.703180 |  74.972721 | 1 |\n",
       "| Sol        |  3 | 1.0 | 0 | 1 |  45 | 2 | 25 |  97 | 40.41881 | -3.701293 |  60.015338 | 1 |\n",
       "| Sol        |  3 | 1.0 | 1 | 1 | 100 | 2 | 10 |  96 | 40.41985 | -3.703648 |  44.965052 | 1 |\n",
       "| Sol        |  4 | 1.0 | 1 | 1 |  82 | 2 | 11 |  87 | 40.41588 | -3.702001 |   4.180635 | 1 |\n",
       "| Sol        |  2 | 1.0 | 1 | 1 |  57 | 1 |  0 |  94 | 40.41878 | -3.701261 |  19.045115 | 1 |\n",
       "| Sol        |  8 | 2.0 | 4 | 5 | 250 | 8 | 25 |  99 | 40.41653 | -3.703081 | 200.020159 | 1 |\n",
       "| Sol        |  4 | 1.0 | 1 | 1 |  75 | 2 | 15 |  90 | 40.41805 | -3.703521 |  60.015338 | 1 |\n",
       "| Sol        |  4 | 1.0 | 1 | 2 |  70 | 2 |  8 | 100 | 40.41794 | -3.701260 |  85.006245 | 1 |\n",
       "| Sol        |  6 | 2.0 | 3 | 4 | 199 | 2 | 30 |  96 | 40.41415 | -3.705004 | 200.020159 | 1 |\n",
       "| Trafalgar  |  2 | 1.0 | 0 | 2 |  60 | 2 | 15 |  94 | 40.43648 | -3.701929 |  30.007669 | 1 |\n",
       "| Trafalgar  |  4 | 1.0 | 1 | 1 |  88 | 2 | 11 |  80 | 40.43083 | -3.701327 |   5.109665 | 1 |\n",
       "| Trafalgar  |  5 | 2.5 | 2 | 3 | 105 | 2 | 20 |  92 | 40.43086 | -3.702698 | 120.030676 | 1 |\n",
       "| Trafalgar  |  4 | 1.0 | 1 | 1 |  30 | 1 |  0 |  99 | 40.42897 | -3.697106 |  49.981814 | 1 |\n",
       "| Usera      |  2 | 1.0 | 1 | 1 |  40 | 1 |  0 |  78 | 40.38241 | -3.703331 |  49.981814 | 1 |\n",
       "| Vicálvaro  |  4 | 1.0 | 2 | 2 |  35 | 2 | 31 |  50 | 40.40919 | -3.614325 |  60.015338 | 1 |\n",
       "| Villaverde |  5 | 1.0 | 3 | 3 |  55 | 1 |  0 |  90 | 40.35560 | -3.698285 |   5.574180 | 1 |\n",
       "\n"
      ],
      "text/plain": [
       "    Neighbourhood    Accommodates Bathrooms Bedrooms Beds     Price\n",
       "1   18.9970715565794 44.5904      41.40535  66.46788 53.78305  NA  \n",
       "2   Acacias           4.0000       1.00000   1.00000  2.00000  60  \n",
       "3   Acacias           4.0000       1.00000   1.00000  3.00000  68  \n",
       "4   Acacias           4.0000       1.00000   1.00000  2.00000  60  \n",
       "5   Adelfas           4.0000       2.00000   2.00000  2.00000  76  \n",
       "6   Adelfas           6.0000       1.50000   2.00000  6.00000  60  \n",
       "7   Almagro           4.0000       1.00000   1.00000  2.00000  75  \n",
       "8   Almenara          4.0000       1.00000   0.00000  1.00000  52  \n",
       "9   Almenara          4.0000       1.00000   0.00000  1.00000  52  \n",
       "10  Almenara          4.0000       1.00000   0.00000  1.00000  52  \n",
       "11  Almenara          6.0000       1.50000   3.00000  4.00000 170  \n",
       "12  Almenara          6.0000       2.00000   1.00000  2.00000  67  \n",
       "13  Aluche            5.0000       2.00000   3.00000  5.00000  75  \n",
       "14  Arapiles          6.0000       2.00000   3.00000  5.00000 145  \n",
       "15  Arapiles          4.0000       1.00000   1.00000  2.00000  65  \n",
       "16  Argüelles         5.0000       1.00000   2.00000  3.00000  80  \n",
       "17  Argüelles         4.0000       1.50000   2.00000  2.00000  95  \n",
       "18  Argüelles         4.0000       1.00000   1.00000  1.00000  55  \n",
       "19  Argüelles         2.0000       1.00000   0.00000  1.00000  40  \n",
       "20  Argüelles         2.0000       1.00000   1.00000  1.00000  75  \n",
       "21  Argüelles         6.0000       2.00000   2.00000  1.00000 119  \n",
       "22  Argüelles         4.0000       1.00000   1.00000  1.00000  95  \n",
       "23  Barajas           2.0000       1.00000   1.00000  1.00000  42  \n",
       "24  Carabanchel       6.0000       1.00000   3.00000  4.00000  85  \n",
       "25  Carabanchel       2.0000       1.00000   2.00000  1.00000  20  \n",
       "26  Carabanchel       5.0000       1.00000   1.00000  3.00000  32  \n",
       "27  Carabanchel       2.0000       1.00000   1.00000  1.00000  60  \n",
       "28  Castellana        4.0000       2.00000   2.00000  4.00000 190  \n",
       "29  Castellana        3.0000       2.00000   3.00000  4.00000 280  \n",
       "30  Castellana        7.0000       2.00000   3.00000  6.00000 450  \n",
       "⋮   ⋮                ⋮            ⋮         ⋮        ⋮        ⋮    \n",
       "191 Sol               4           1.0       1        2         85  \n",
       "192 Sol               6           1.0       2        3        102  \n",
       "193 Sol               4           1.0       2        3         95  \n",
       "194 Sol               4           1.0       1        1         82  \n",
       "195 Sol              10           2.0       2        6         98  \n",
       "196 Sol              12           4.0       4        8        250  \n",
       "197 Sol               8           1.0       2        6        145  \n",
       "198 Sol               2           1.0       1        1         65  \n",
       "199 Sol               4           1.0       1        2        108  \n",
       "200 Sol               6           2.0       2        3         90  \n",
       "201 Sol               6           2.0       2        3        140  \n",
       "202 Sol               4           1.0       1        2         71  \n",
       "203 Sol               4           1.0       1        1        100  \n",
       "204 Sol               2           1.0       1        1         75  \n",
       "205 Sol              10           3.0       3        7        150  \n",
       "206 Sol               3           1.0       0        1         45  \n",
       "207 Sol               3           1.0       1        1        100  \n",
       "208 Sol               4           1.0       1        1         82  \n",
       "209 Sol               2           1.0       1        1         57  \n",
       "210 Sol               8           2.0       4        5        250  \n",
       "211 Sol               4           1.0       1        1         75  \n",
       "212 Sol               4           1.0       1        2         70  \n",
       "213 Sol               6           2.0       3        4        199  \n",
       "214 Trafalgar         2           1.0       0        2         60  \n",
       "215 Trafalgar         4           1.0       1        1         88  \n",
       "216 Trafalgar         5           2.5       2        3        105  \n",
       "217 Trafalgar         4           1.0       1        1         30  \n",
       "218 Usera             2           1.0       1        1         40  \n",
       "219 Vicálvaro         4           1.0       2        2         35  \n",
       "220 Villaverde        5           1.0       3        3         55  \n",
       "    Guests.Included Extra.People Review.Scores.Rating Latitude Longitude\n",
       "1   43.26603        26.88877      57.24735            51.92326        NA\n",
       "2    2.00000        12.00000      85.00000            40.40073 -3.706203\n",
       "3    2.00000        10.00000      90.00000            40.39691 -3.705202\n",
       "4    2.00000        15.00000      98.00000            40.40513 -3.707726\n",
       "5    4.00000        15.00000      75.00000            40.40606 -3.668898\n",
       "6    2.00000        15.00000      94.00000            40.39912 -3.670071\n",
       "7    2.00000        10.00000      92.00000            40.43825 -3.693876\n",
       "8    2.00000         0.00000      53.00000            40.47226 -3.692849\n",
       "9    2.00000         0.00000      72.00000            40.47221 -3.693440\n",
       "10   1.00000         0.00000      80.00000            40.47149 -3.691282\n",
       "11   2.00000        25.00000      87.00000            40.47293 -3.689449\n",
       "12   4.00000         0.00000      73.00000            40.47335 -3.691577\n",
       "13   1.00000         0.00000      85.00000            40.40398 -3.731632\n",
       "14   2.00000        13.00000     100.00000            40.43359 -3.706873\n",
       "15   1.00000         0.00000      96.00000            40.43335 -3.705369\n",
       "16   1.00000         0.00000      80.00000            40.42460 -3.728758\n",
       "17   2.00000        15.00000      89.00000            40.42920 -3.717775\n",
       "18   1.00000        12.00000      87.00000            40.43103 -3.724586\n",
       "19   1.00000        10.00000      78.00000            40.42492 -3.713446\n",
       "20   2.00000        11.00000      76.00000            40.42503 -3.713599\n",
       "21   2.00000        11.00000      76.00000            40.42553 -3.713314\n",
       "22   2.00000        10.00000      93.00000            40.42486 -3.715140\n",
       "23   2.00000        15.00000     100.00000            40.47606 -3.576178\n",
       "24   2.00000         0.00000      88.00000            40.37987 -3.732151\n",
       "25   1.00000         0.00000            NA            40.37754 -3.742761\n",
       "26   3.00000         9.00000      81.00000            40.39268 -3.712169\n",
       "27   1.00000         0.00000      94.00000            40.39465 -3.708178\n",
       "28   1.00000         0.00000      93.00000            40.43080 -3.679928\n",
       "29   1.00000         0.00000            NA            40.43146 -3.683872\n",
       "30   1.00000         0.00000            NA            40.43186 -3.685074\n",
       "⋮   ⋮               ⋮            ⋮                    ⋮        ⋮        \n",
       "191 2               20            50                  40.41650 -3.708658\n",
       "192 1               11            80                  40.41977 -3.699911\n",
       "193 2               10            93                  40.41487 -3.706138\n",
       "194 2               11            88                  40.41596 -3.703019\n",
       "195 1               24            94                  40.41504 -3.707618\n",
       "196 6               10            96                  40.41805 -3.707654\n",
       "197 1               28            97                  40.41601 -3.708529\n",
       "198 2                0            90                  40.41888 -3.703460\n",
       "199 2               15            95                  40.41595 -3.702808\n",
       "200 1                0           100                  40.41790 -3.708193\n",
       "201 3               10            94                  40.41611 -3.707456\n",
       "202 2               10            91                  40.41552 -3.704214\n",
       "203 2               10            87                  40.41507 -3.703358\n",
       "204 2                0            91                  40.41917 -3.706242\n",
       "205 8               20            65                  40.41869 -3.703180\n",
       "206 2               25            97                  40.41881 -3.701293\n",
       "207 2               10            96                  40.41985 -3.703648\n",
       "208 2               11            87                  40.41588 -3.702001\n",
       "209 1                0            94                  40.41878 -3.701261\n",
       "210 8               25            99                  40.41653 -3.703081\n",
       "211 2               15            90                  40.41805 -3.703521\n",
       "212 2                8           100                  40.41794 -3.701260\n",
       "213 2               30            96                  40.41415 -3.705004\n",
       "214 2               15            94                  40.43648 -3.701929\n",
       "215 2               11            80                  40.43083 -3.701327\n",
       "216 2               20            92                  40.43086 -3.702698\n",
       "217 1                0            99                  40.42897 -3.697106\n",
       "218 1                0            78                  40.38241 -3.703331\n",
       "219 2               31            50                  40.40919 -3.614325\n",
       "220 1                0            90                  40.35560 -3.698285\n",
       "    Square.Meters neighb_id\n",
       "1    25.325546    NA       \n",
       "2    69.955959    1        \n",
       "3    74.972721    1        \n",
       "4    49.981814    1        \n",
       "5     7.432240    1        \n",
       "6    69.955959    1        \n",
       "7    49.981814    1        \n",
       "8    40.041193    1        \n",
       "9    44.965052    1        \n",
       "10   44.965052    1        \n",
       "11  140.004821    1        \n",
       "12   60.015338    1        \n",
       "13    8.361270    1        \n",
       "14  159.978966    2        \n",
       "15   35.024431    2        \n",
       "16   74.972721    1        \n",
       "17   96.990732    1        \n",
       "18    6.967725    1        \n",
       "19    2.322575    1        \n",
       "20    3.251605    1        \n",
       "21    7.896755    1        \n",
       "22   79.989483    1        \n",
       "23   36.975394    1        \n",
       "24   99.963628    1        \n",
       "25   74.972721    1        \n",
       "26   54.998576    1        \n",
       "27    6.503210    1        \n",
       "28  109.997152    2        \n",
       "29  120.030676    2        \n",
       "30  120.030676    2        \n",
       "⋮   ⋮             ⋮        \n",
       "191  44.965052    1        \n",
       "192  74.972721    1        \n",
       "193  87.979141    1        \n",
       "194  54.998576    1        \n",
       "195 134.988059    1        \n",
       "196 115.013914    1        \n",
       "197  82.033349    1        \n",
       "198  40.041193    1        \n",
       "199  49.981814    1        \n",
       "200   9.290300    1        \n",
       "201  99.963628    1        \n",
       "202  40.041193    1        \n",
       "203  69.955959    1        \n",
       "204   6.596113    1        \n",
       "205  74.972721    1        \n",
       "206  60.015338    1        \n",
       "207  44.965052    1        \n",
       "208   4.180635    1        \n",
       "209  19.045115    1        \n",
       "210 200.020159    1        \n",
       "211  60.015338    1        \n",
       "212  85.006245    1        \n",
       "213 200.020159    1        \n",
       "214  30.007669    1        \n",
       "215   5.109665    1        \n",
       "216 120.030676    1        \n",
       "217  49.981814    1        \n",
       "218  49.981814    1        \n",
       "219  60.015338    1        \n",
       "220   5.574180    1        "
      ]
     },
     "metadata": {},
     "output_type": "display_data"
    }
   ],
   "source": [
    "df_madrid"
   ]
  },
  {
   "cell_type": "markdown",
   "metadata": {},
   "source": [
    "Usar PCA para encontrar el apartamento más cercano a uno dado.\n",
    "\n",
    "Este algoritmo nos ayudaría a dado un apartamento que el algoritmo nos devolvería los 5 apartamentos más similares.\n",
    "\n",
    "\n",
    "Crearemos una función tal que le pasemos un apartamento con los siguientes datos:\n",
    "* Accommodates\t\n",
    "* Bathrooms\t\n",
    "* Bedrooms\t\n",
    "* Beds\t\n",
    "* Price\t\n",
    "* Guests.Included\t\n",
    "* Extra.People\t\n",
    "* Review.Scores.Rating\t\n",
    "* Latitude\t\n",
    "* Longitude\t\n",
    "* Square.Meters\n",
    "\n",
    "y nos devuelva los 5 más similares de:"
   ]
  },
  {
   "cell_type": "code",
   "execution_count": 28,
   "metadata": {},
   "outputs": [
    {
     "data": {
      "text/html": [
       "<table class=\"dataframe\">\n",
       "<caption>A data.frame: 6 × 11</caption>\n",
       "<thead>\n",
       "\t<tr><th></th><th scope=col>Accommodates</th><th scope=col>Bathrooms</th><th scope=col>Bedrooms</th><th scope=col>Beds</th><th scope=col>Price</th><th scope=col>Guests.Included</th><th scope=col>Extra.People</th><th scope=col>Review.Scores.Rating</th><th scope=col>Latitude</th><th scope=col>Longitude</th><th scope=col>Square.Meters</th></tr>\n",
       "\t<tr><th></th><th scope=col>&lt;dbl&gt;</th><th scope=col>&lt;dbl&gt;</th><th scope=col>&lt;dbl&gt;</th><th scope=col>&lt;dbl&gt;</th><th scope=col>&lt;dbl&gt;</th><th scope=col>&lt;dbl&gt;</th><th scope=col>&lt;dbl&gt;</th><th scope=col>&lt;dbl&gt;</th><th scope=col>&lt;dbl&gt;</th><th scope=col>&lt;dbl&gt;</th><th scope=col>&lt;dbl&gt;</th></tr>\n",
       "</thead>\n",
       "<tbody>\n",
       "\t<tr><th scope=row>2</th><td>4</td><td>1.0</td><td>1</td><td>2</td><td>60</td><td>2</td><td>12</td><td>85</td><td>40.40073</td><td>-3.706203</td><td>69.95596</td></tr>\n",
       "\t<tr><th scope=row>3</th><td>4</td><td>1.0</td><td>1</td><td>3</td><td>68</td><td>2</td><td>10</td><td>90</td><td>40.39691</td><td>-3.705202</td><td>74.97272</td></tr>\n",
       "\t<tr><th scope=row>4</th><td>4</td><td>1.0</td><td>1</td><td>2</td><td>60</td><td>2</td><td>15</td><td>98</td><td>40.40513</td><td>-3.707726</td><td>49.98181</td></tr>\n",
       "\t<tr><th scope=row>5</th><td>4</td><td>2.0</td><td>2</td><td>2</td><td>76</td><td>4</td><td>15</td><td>75</td><td>40.40606</td><td>-3.668898</td><td> 7.43224</td></tr>\n",
       "\t<tr><th scope=row>6</th><td>6</td><td>1.5</td><td>2</td><td>6</td><td>60</td><td>2</td><td>15</td><td>94</td><td>40.39912</td><td>-3.670071</td><td>69.95596</td></tr>\n",
       "\t<tr><th scope=row>7</th><td>4</td><td>1.0</td><td>1</td><td>2</td><td>75</td><td>2</td><td>10</td><td>92</td><td>40.43825</td><td>-3.693876</td><td>49.98181</td></tr>\n",
       "</tbody>\n",
       "</table>\n"
      ],
      "text/latex": [
       "A data.frame: 6 × 11\n",
       "\\begin{tabular}{r|lllllllllll}\n",
       "  & Accommodates & Bathrooms & Bedrooms & Beds & Price & Guests.Included & Extra.People & Review.Scores.Rating & Latitude & Longitude & Square.Meters\\\\\n",
       "  & <dbl> & <dbl> & <dbl> & <dbl> & <dbl> & <dbl> & <dbl> & <dbl> & <dbl> & <dbl> & <dbl>\\\\\n",
       "\\hline\n",
       "\t2 & 4 & 1.0 & 1 & 2 & 60 & 2 & 12 & 85 & 40.40073 & -3.706203 & 69.95596\\\\\n",
       "\t3 & 4 & 1.0 & 1 & 3 & 68 & 2 & 10 & 90 & 40.39691 & -3.705202 & 74.97272\\\\\n",
       "\t4 & 4 & 1.0 & 1 & 2 & 60 & 2 & 15 & 98 & 40.40513 & -3.707726 & 49.98181\\\\\n",
       "\t5 & 4 & 2.0 & 2 & 2 & 76 & 4 & 15 & 75 & 40.40606 & -3.668898 &  7.43224\\\\\n",
       "\t6 & 6 & 1.5 & 2 & 6 & 60 & 2 & 15 & 94 & 40.39912 & -3.670071 & 69.95596\\\\\n",
       "\t7 & 4 & 1.0 & 1 & 2 & 75 & 2 & 10 & 92 & 40.43825 & -3.693876 & 49.98181\\\\\n",
       "\\end{tabular}\n"
      ],
      "text/markdown": [
       "\n",
       "A data.frame: 6 × 11\n",
       "\n",
       "| <!--/--> | Accommodates &lt;dbl&gt; | Bathrooms &lt;dbl&gt; | Bedrooms &lt;dbl&gt; | Beds &lt;dbl&gt; | Price &lt;dbl&gt; | Guests.Included &lt;dbl&gt; | Extra.People &lt;dbl&gt; | Review.Scores.Rating &lt;dbl&gt; | Latitude &lt;dbl&gt; | Longitude &lt;dbl&gt; | Square.Meters &lt;dbl&gt; |\n",
       "|---|---|---|---|---|---|---|---|---|---|---|---|\n",
       "| 2 | 4 | 1.0 | 1 | 2 | 60 | 2 | 12 | 85 | 40.40073 | -3.706203 | 69.95596 |\n",
       "| 3 | 4 | 1.0 | 1 | 3 | 68 | 2 | 10 | 90 | 40.39691 | -3.705202 | 74.97272 |\n",
       "| 4 | 4 | 1.0 | 1 | 2 | 60 | 2 | 15 | 98 | 40.40513 | -3.707726 | 49.98181 |\n",
       "| 5 | 4 | 2.0 | 2 | 2 | 76 | 4 | 15 | 75 | 40.40606 | -3.668898 |  7.43224 |\n",
       "| 6 | 6 | 1.5 | 2 | 6 | 60 | 2 | 15 | 94 | 40.39912 | -3.670071 | 69.95596 |\n",
       "| 7 | 4 | 1.0 | 1 | 2 | 75 | 2 | 10 | 92 | 40.43825 | -3.693876 | 49.98181 |\n",
       "\n"
      ],
      "text/plain": [
       "  Accommodates Bathrooms Bedrooms Beds Price Guests.Included Extra.People\n",
       "2 4            1.0       1        2    60    2               12          \n",
       "3 4            1.0       1        3    68    2               10          \n",
       "4 4            1.0       1        2    60    2               15          \n",
       "5 4            2.0       2        2    76    4               15          \n",
       "6 6            1.5       2        6    60    2               15          \n",
       "7 4            1.0       1        2    75    2               10          \n",
       "  Review.Scores.Rating Latitude Longitude Square.Meters\n",
       "2 85                   40.40073 -3.706203 69.95596     \n",
       "3 90                   40.39691 -3.705202 74.97272     \n",
       "4 98                   40.40513 -3.707726 49.98181     \n",
       "5 75                   40.40606 -3.668898  7.43224     \n",
       "6 94                   40.39912 -3.670071 69.95596     \n",
       "7 92                   40.43825 -3.693876 49.98181     "
      ]
     },
     "metadata": {},
     "output_type": "display_data"
    }
   ],
   "source": [
    "\n",
    "df_mad_sqm_clean  <-df_madrid[, c(\n",
    "    'Accommodates',\n",
    "    'Bathrooms',\n",
    "    'Bedrooms',\n",
    "    'Beds',\n",
    "    'Price',\n",
    "    'Guests.Included',\n",
    "    'Extra.People',\n",
    "    'Review.Scores.Rating',\n",
    "    'Latitude',\n",
    "    'Longitude',\n",
    "    'Square.Meters'\n",
    ")]\n",
    "\n",
    "df_mad_pca<- na.omit(df_mad_sqm_clean)\n",
    "head(df_mad_pca)"
   ]
  },
  {
   "cell_type": "code",
   "execution_count": 29,
   "metadata": {},
   "outputs": [
    {
     "data": {
      "text/plain": [
       "Standard deviations (1, .., p=11):\n",
       " [1] 2.1774860 1.2050588 1.0637481 0.8974535 0.8576931 0.7481093 0.7347481\n",
       " [8] 0.6182072 0.5488149 0.4836547 0.3419730\n",
       "\n",
       "Rotation (n x k) = (11 x 11):\n",
       "                            PC1          PC2         PC3         PC4\n",
       "Accommodates         0.41294580 -0.075349942  0.15667657 -0.05661589\n",
       "Bathrooms            0.36950053  0.157718736 -0.04958452 -0.22372767\n",
       "Bedrooms             0.39577434 -0.061938499 -0.03698721 -0.12943068\n",
       "Beds                 0.39905977 -0.076722168  0.03886965 -0.03369418\n",
       "Price                0.31007226 -0.042405654 -0.14335204 -0.24203450\n",
       "Guests.Included      0.33967709  0.075652079  0.21338419 -0.02026113\n",
       "Extra.People         0.20469155 -0.265512323  0.28736442  0.82244915\n",
       "Review.Scores.Rating 0.02478082 -0.181656427 -0.84526326  0.22187534\n",
       "Latitude             0.04219213  0.678784496 -0.01223687  0.08750209\n",
       "Longitude            0.07260713  0.622862244 -0.11315713  0.33842266\n",
       "Square.Meters        0.34054233  0.001193231 -0.30664270  0.14840478\n",
       "                             PC5         PC6         PC7         PC8\n",
       "Accommodates          0.10267859 -0.23259215  0.14690522 -0.24825109\n",
       "Bathrooms            -0.08478186 -0.20476308 -0.14029069  0.55490981\n",
       "Bedrooms              0.24184815 -0.16073241 -0.13033497 -0.13520054\n",
       "Beds                  0.24911786 -0.13113299  0.17085333 -0.45524718\n",
       "Price                -0.41880979  0.69794502 -0.24968747 -0.28875723\n",
       "Guests.Included       0.15207552  0.42436975  0.53495578  0.46797360\n",
       "Extra.People         -0.22203509  0.06832900 -0.03705533  0.02269428\n",
       "Review.Scores.Rating  0.10517049  0.05564986  0.38629749  0.01463856\n",
       "Latitude             -0.49515871 -0.19978139  0.39676614 -0.23575289\n",
       "Longitude             0.51785316  0.25117710 -0.35542633 -0.04610256\n",
       "Square.Meters        -0.29912512 -0.28802251 -0.36012178  0.21000740\n",
       "                             PC9         PC10         PC11\n",
       "Accommodates         -0.03366688 -0.175814096  0.784951872\n",
       "Bathrooms            -0.57409305 -0.257682267 -0.115655634\n",
       "Bedrooms             -0.12520040  0.817078208 -0.136096209\n",
       "Beds                  0.08225692 -0.432334242 -0.568193056\n",
       "Price                -0.10581296 -0.032615144  0.049120778\n",
       "Guests.Included       0.33851515  0.096490936 -0.025617759\n",
       "Extra.People         -0.25620548  0.050523315 -0.067477789\n",
       "Review.Scores.Rating -0.17998685  0.001017912  0.081817666\n",
       "Latitude             -0.05851683  0.157099019 -0.058848985\n",
       "Longitude            -0.00851846 -0.091241185  0.106413001\n",
       "Square.Meters         0.64770378 -0.047186990 -0.002317959"
      ]
     },
     "metadata": {},
     "output_type": "display_data"
    }
   ],
   "source": [
    "##Utilizamos prcomp para calcular el pca\n",
    "\n",
    "pmadrid<-prcomp(df_mad_pca,center = TRUE, scale = TRUE)\n",
    "pmadrid"
   ]
  },
  {
   "cell_type": "code",
   "execution_count": 30,
   "metadata": {},
   "outputs": [
    {
     "data": {
      "image/png": "[encoded data removed]",
      "text/plain": [
       "Plot with title \"Autovalores\""
      ]
     },
     "metadata": {
      "image/png": {
       "height": 600,
       "width": 900
      }
     },
     "output_type": "display_data"
    }
   ],
   "source": [
    "#pintar los autovalores \n",
    "\n",
    "plot(cumsum(pmadrid$sdev^2/sum(pmadrid$sdev^2)),main=\"Autovalores\")"
   ]
  },
  {
   "cell_type": "code",
   "execution_count": 31,
   "metadata": {},
   "outputs": [
    {
     "data": {
      "text/html": [
       "<style>\n",
       ".list-inline {list-style: none; margin:0; padding: 0}\n",
       ".list-inline>li {display: inline-block}\n",
       ".list-inline>li:not(:last-child)::after {content: \"\\00b7\"; padding: 0 .5ex}\n",
       "</style>\n",
       "<ol class=list-inline><li>209</li><li>11</li></ol>\n"
      ],
      "text/latex": [
       "\\begin{enumerate*}\n",
       "\\item 209\n",
       "\\item 11\n",
       "\\end{enumerate*}\n"
      ],
      "text/markdown": [
       "1. 209\n",
       "2. 11\n",
       "\n",
       "\n"
      ],
      "text/plain": [
       "[1] 209  11"
      ]
     },
     "metadata": {},
     "output_type": "display_data"
    }
   ],
   "source": [
    "#Matrix de componentes principales\n",
    "\n",
    "dim(df_mad_pca)"
   ]
  },
  {
   "cell_type": "code",
   "execution_count": 32,
   "metadata": {},
   "outputs": [
    {
     "data": {
      "text/html": [
       "<table class=\"dataframe\">\n",
       "<caption>A matrix: 6 × 4 of type dbl</caption>\n",
       "<thead>\n",
       "\t<tr><th></th><th scope=col>PC1</th><th scope=col>PC2</th><th scope=col>PC3</th><th scope=col>PC4</th></tr>\n",
       "</thead>\n",
       "<tbody>\n",
       "\t<tr><th scope=row>2</th><td>-0.7020092</td><td>-1.0295374</td><td> 0.50159713</td><td>0.19289684</td></tr>\n",
       "\t<tr><th scope=row>3</th><td>-0.4655552</td><td>-1.2407494</td><td>-0.05828618</td><td>0.09635622</td></tr>\n",
       "\t<tr><th scope=row>4</th><td>-0.7321896</td><td>-1.2429678</td><td>-0.47442884</td><td>0.72064649</td></tr>\n",
       "\t<tr><th scope=row>5</th><td> 0.6814405</td><td> 0.8280541</td><td> 1.85835804</td><td>0.12158321</td></tr>\n",
       "\t<tr><th scope=row>6</th><td> 1.4265797</td><td>-0.3397729</td><td>-0.30753298</td><td>0.87648573</td></tr>\n",
       "\t<tr><th scope=row>7</th><td>-0.6528051</td><td> 0.8554064</td><td>-0.21934912</td><td>0.48396980</td></tr>\n",
       "</tbody>\n",
       "</table>\n"
      ],
      "text/latex": [
       "A matrix: 6 × 4 of type dbl\n",
       "\\begin{tabular}{r|llll}\n",
       "  & PC1 & PC2 & PC3 & PC4\\\\\n",
       "\\hline\n",
       "\t2 & -0.7020092 & -1.0295374 &  0.50159713 & 0.19289684\\\\\n",
       "\t3 & -0.4655552 & -1.2407494 & -0.05828618 & 0.09635622\\\\\n",
       "\t4 & -0.7321896 & -1.2429678 & -0.47442884 & 0.72064649\\\\\n",
       "\t5 &  0.6814405 &  0.8280541 &  1.85835804 & 0.12158321\\\\\n",
       "\t6 &  1.4265797 & -0.3397729 & -0.30753298 & 0.87648573\\\\\n",
       "\t7 & -0.6528051 &  0.8554064 & -0.21934912 & 0.48396980\\\\\n",
       "\\end{tabular}\n"
      ],
      "text/markdown": [
       "\n",
       "A matrix: 6 × 4 of type dbl\n",
       "\n",
       "| <!--/--> | PC1 | PC2 | PC3 | PC4 |\n",
       "|---|---|---|---|---|\n",
       "| 2 | -0.7020092 | -1.0295374 |  0.50159713 | 0.19289684 |\n",
       "| 3 | -0.4655552 | -1.2407494 | -0.05828618 | 0.09635622 |\n",
       "| 4 | -0.7321896 | -1.2429678 | -0.47442884 | 0.72064649 |\n",
       "| 5 |  0.6814405 |  0.8280541 |  1.85835804 | 0.12158321 |\n",
       "| 6 |  1.4265797 | -0.3397729 | -0.30753298 | 0.87648573 |\n",
       "| 7 | -0.6528051 |  0.8554064 | -0.21934912 | 0.48396980 |\n",
       "\n"
      ],
      "text/plain": [
       "  PC1        PC2        PC3         PC4       \n",
       "2 -0.7020092 -1.0295374  0.50159713 0.19289684\n",
       "3 -0.4655552 -1.2407494 -0.05828618 0.09635622\n",
       "4 -0.7321896 -1.2429678 -0.47442884 0.72064649\n",
       "5  0.6814405  0.8280541  1.85835804 0.12158321\n",
       "6  1.4265797 -0.3397729 -0.30753298 0.87648573\n",
       "7 -0.6528051  0.8554064 -0.21934912 0.48396980"
      ]
     },
     "metadata": {},
     "output_type": "display_data"
    }
   ],
   "source": [
    "#nos quedamos con 4 componentes\n",
    "number_of_pca_components <-4\n",
    "Apc<-pmadrid$x[,1:number_of_pca_components]\n",
    "dist<-rep(NA,nrow(Apc))\n",
    "head(Apc)"
   ]
  },
  {
   "cell_type": "code",
   "execution_count": 33,
   "metadata": {},
   "outputs": [
    {
     "data": {
      "text/html": [
       "'El piso escogido era: '"
      ],
      "text/latex": [
       "'El piso escogido era: '"
      ],
      "text/markdown": [
       "'El piso escogido era: '"
      ],
      "text/plain": [
       "[1] \"El piso escogido era: \""
      ]
     },
     "metadata": {},
     "output_type": "display_data"
    },
    {
     "data": {
      "text/html": [
       "<table class=\"dataframe\">\n",
       "<caption>A data.frame: 1 × 11</caption>\n",
       "<thead>\n",
       "\t<tr><th></th><th scope=col>Accommodates</th><th scope=col>Bathrooms</th><th scope=col>Bedrooms</th><th scope=col>Beds</th><th scope=col>Price</th><th scope=col>Guests.Included</th><th scope=col>Extra.People</th><th scope=col>Review.Scores.Rating</th><th scope=col>Latitude</th><th scope=col>Longitude</th><th scope=col>Square.Meters</th></tr>\n",
       "\t<tr><th></th><th scope=col>&lt;dbl&gt;</th><th scope=col>&lt;dbl&gt;</th><th scope=col>&lt;dbl&gt;</th><th scope=col>&lt;dbl&gt;</th><th scope=col>&lt;dbl&gt;</th><th scope=col>&lt;dbl&gt;</th><th scope=col>&lt;dbl&gt;</th><th scope=col>&lt;dbl&gt;</th><th scope=col>&lt;dbl&gt;</th><th scope=col>&lt;dbl&gt;</th><th scope=col>&lt;dbl&gt;</th></tr>\n",
       "</thead>\n",
       "<tbody>\n",
       "\t<tr><th scope=row>99</th><td>4</td><td>1</td><td>2</td><td>3</td><td>85</td><td>3</td><td>10</td><td>94</td><td>40.40818</td><td>-3.708963</td><td>37.99733</td></tr>\n",
       "</tbody>\n",
       "</table>\n"
      ],
      "text/latex": [
       "A data.frame: 1 × 11\n",
       "\\begin{tabular}{r|lllllllllll}\n",
       "  & Accommodates & Bathrooms & Bedrooms & Beds & Price & Guests.Included & Extra.People & Review.Scores.Rating & Latitude & Longitude & Square.Meters\\\\\n",
       "  & <dbl> & <dbl> & <dbl> & <dbl> & <dbl> & <dbl> & <dbl> & <dbl> & <dbl> & <dbl> & <dbl>\\\\\n",
       "\\hline\n",
       "\t99 & 4 & 1 & 2 & 3 & 85 & 3 & 10 & 94 & 40.40818 & -3.708963 & 37.99733\\\\\n",
       "\\end{tabular}\n"
      ],
      "text/markdown": [
       "\n",
       "A data.frame: 1 × 11\n",
       "\n",
       "| <!--/--> | Accommodates &lt;dbl&gt; | Bathrooms &lt;dbl&gt; | Bedrooms &lt;dbl&gt; | Beds &lt;dbl&gt; | Price &lt;dbl&gt; | Guests.Included &lt;dbl&gt; | Extra.People &lt;dbl&gt; | Review.Scores.Rating &lt;dbl&gt; | Latitude &lt;dbl&gt; | Longitude &lt;dbl&gt; | Square.Meters &lt;dbl&gt; |\n",
       "|---|---|---|---|---|---|---|---|---|---|---|---|\n",
       "| 99 | 4 | 1 | 2 | 3 | 85 | 3 | 10 | 94 | 40.40818 | -3.708963 | 37.99733 |\n",
       "\n"
      ],
      "text/plain": [
       "   Accommodates Bathrooms Bedrooms Beds Price Guests.Included Extra.People\n",
       "99 4            1         2        3    85    3               10          \n",
       "   Review.Scores.Rating Latitude Longitude Square.Meters\n",
       "99 94                   40.40818 -3.708963 37.99733     "
      ]
     },
     "metadata": {},
     "output_type": "display_data"
    },
    {
     "data": {
      "text/html": [
       "' Los 5 más parecidos son: '"
      ],
      "text/latex": [
       "' Los 5 más parecidos son: '"
      ],
      "text/markdown": [
       "' Los 5 más parecidos son: '"
      ],
      "text/plain": [
       "[1] \" Los 5 más parecidos son: \""
      ]
     },
     "metadata": {},
     "output_type": "display_data"
    },
    {
     "data": {
      "text/html": [
       "<table class=\"dataframe\">\n",
       "<caption>A data.frame: 5 × 11</caption>\n",
       "<thead>\n",
       "\t<tr><th></th><th scope=col>Accommodates</th><th scope=col>Bathrooms</th><th scope=col>Bedrooms</th><th scope=col>Beds</th><th scope=col>Price</th><th scope=col>Guests.Included</th><th scope=col>Extra.People</th><th scope=col>Review.Scores.Rating</th><th scope=col>Latitude</th><th scope=col>Longitude</th><th scope=col>Square.Meters</th></tr>\n",
       "\t<tr><th></th><th scope=col>&lt;dbl&gt;</th><th scope=col>&lt;dbl&gt;</th><th scope=col>&lt;dbl&gt;</th><th scope=col>&lt;dbl&gt;</th><th scope=col>&lt;dbl&gt;</th><th scope=col>&lt;dbl&gt;</th><th scope=col>&lt;dbl&gt;</th><th scope=col>&lt;dbl&gt;</th><th scope=col>&lt;dbl&gt;</th><th scope=col>&lt;dbl&gt;</th><th scope=col>&lt;dbl&gt;</th></tr>\n",
       "</thead>\n",
       "<tbody>\n",
       "\t<tr><th scope=row>109</th><td>4</td><td>1</td><td>2</td><td>4</td><td> 70</td><td>2</td><td>15</td><td>85</td><td>40.41182</td><td>-3.709931</td><td>44.965052</td></tr>\n",
       "\t<tr><th scope=row>111</th><td>6</td><td>1</td><td>2</td><td>1</td><td>113</td><td>2</td><td>11</td><td>89</td><td>40.41043</td><td>-3.709437</td><td> 7.896755</td></tr>\n",
       "\t<tr><th scope=row>106</th><td>4</td><td>1</td><td>2</td><td>3</td><td> 65</td><td>2</td><td>12</td><td>93</td><td>40.40888</td><td>-3.713721</td><td>65.032100</td></tr>\n",
       "\t<tr><th scope=row>68</th><td>6</td><td>1</td><td>2</td><td>4</td><td> 75</td><td>2</td><td> 5</td><td>90</td><td>40.41059</td><td>-3.703397</td><td>69.955959</td></tr>\n",
       "\t<tr><th scope=row>136</th><td>6</td><td>1</td><td>2</td><td>3</td><td> 59</td><td>2</td><td>15</td><td>91</td><td>40.42393</td><td>-3.709840</td><td>44.965052</td></tr>\n",
       "</tbody>\n",
       "</table>\n"
      ],
      "text/latex": [
       "A data.frame: 5 × 11\n",
       "\\begin{tabular}{r|lllllllllll}\n",
       "  & Accommodates & Bathrooms & Bedrooms & Beds & Price & Guests.Included & Extra.People & Review.Scores.Rating & Latitude & Longitude & Square.Meters\\\\\n",
       "  & <dbl> & <dbl> & <dbl> & <dbl> & <dbl> & <dbl> & <dbl> & <dbl> & <dbl> & <dbl> & <dbl>\\\\\n",
       "\\hline\n",
       "\t109 & 4 & 1 & 2 & 4 &  70 & 2 & 15 & 85 & 40.41182 & -3.709931 & 44.965052\\\\\n",
       "\t111 & 6 & 1 & 2 & 1 & 113 & 2 & 11 & 89 & 40.41043 & -3.709437 &  7.896755\\\\\n",
       "\t106 & 4 & 1 & 2 & 3 &  65 & 2 & 12 & 93 & 40.40888 & -3.713721 & 65.032100\\\\\n",
       "\t68 & 6 & 1 & 2 & 4 &  75 & 2 &  5 & 90 & 40.41059 & -3.703397 & 69.955959\\\\\n",
       "\t136 & 6 & 1 & 2 & 3 &  59 & 2 & 15 & 91 & 40.42393 & -3.709840 & 44.965052\\\\\n",
       "\\end{tabular}\n"
      ],
      "text/markdown": [
       "\n",
       "A data.frame: 5 × 11\n",
       "\n",
       "| <!--/--> | Accommodates &lt;dbl&gt; | Bathrooms &lt;dbl&gt; | Bedrooms &lt;dbl&gt; | Beds &lt;dbl&gt; | Price &lt;dbl&gt; | Guests.Included &lt;dbl&gt; | Extra.People &lt;dbl&gt; | Review.Scores.Rating &lt;dbl&gt; | Latitude &lt;dbl&gt; | Longitude &lt;dbl&gt; | Square.Meters &lt;dbl&gt; |\n",
       "|---|---|---|---|---|---|---|---|---|---|---|---|\n",
       "| 109 | 4 | 1 | 2 | 4 |  70 | 2 | 15 | 85 | 40.41182 | -3.709931 | 44.965052 |\n",
       "| 111 | 6 | 1 | 2 | 1 | 113 | 2 | 11 | 89 | 40.41043 | -3.709437 |  7.896755 |\n",
       "| 106 | 4 | 1 | 2 | 3 |  65 | 2 | 12 | 93 | 40.40888 | -3.713721 | 65.032100 |\n",
       "| 68 | 6 | 1 | 2 | 4 |  75 | 2 |  5 | 90 | 40.41059 | -3.703397 | 69.955959 |\n",
       "| 136 | 6 | 1 | 2 | 3 |  59 | 2 | 15 | 91 | 40.42393 | -3.709840 | 44.965052 |\n",
       "\n"
      ],
      "text/plain": [
       "    Accommodates Bathrooms Bedrooms Beds Price Guests.Included Extra.People\n",
       "109 4            1         2        4     70   2               15          \n",
       "111 6            1         2        1    113   2               11          \n",
       "106 4            1         2        3     65   2               12          \n",
       "68  6            1         2        4     75   2                5          \n",
       "136 6            1         2        3     59   2               15          \n",
       "    Review.Scores.Rating Latitude Longitude Square.Meters\n",
       "109 85                   40.41182 -3.709931 44.965052    \n",
       "111 89                   40.41043 -3.709437  7.896755    \n",
       "106 93                   40.40888 -3.713721 65.032100    \n",
       "68  90                   40.41059 -3.703397 69.955959    \n",
       "136 91                   40.42393 -3.709840 44.965052    "
      ]
     },
     "metadata": {},
     "output_type": "display_data"
    }
   ],
   "source": [
    "piso <- data.frame(Accommodates=6 , Bathrooms=1.0, Bedrooms=2, Beds=3, Price=60, Guests.Included=2, Extra.People=10, Review.Scores.Rating=88 , Latitude=40.40554, Longitude=-3.710429, Square.Meters= 67.43726)\n",
    "\n",
    "\n",
    "predict<-matrix(predict(pmadrid, piso)[1:number_of_pca_components],nrow=1)\n",
    "\n",
    "\n",
    "for (i in 1:nrow(Apc)){\n",
    "    dist[i]<-sum((predict-Apc[i,])^2)\n",
    "}\n",
    "\n",
    "\n",
    "top_parecidos <- df_mad_pca[head(order(dist,decreasing = FALSE),6), ]\n",
    "paste('El piso escogido era: ')\n",
    "top_parecidos[1, ]\n",
    "paste(' Los 5 más parecidos son: ')\n",
    "top_parecidos[2:6, ]"
   ]
  },
  {
   "cell_type": "code",
   "execution_count": null,
   "metadata": {},
   "outputs": [],
   "source": []
  },
  {
   "cell_type": "markdown",
   "metadata": {},
   "source": [
    "Bonus: ¿de todas las coordenadas PCA cual es la que mejor permite clasificar por id de barrio?\n",
    "\n",
    "¿Por qué?"
   ]
  },
  {
   "cell_type": "code",
   "execution_count": null,
   "metadata": {},
   "outputs": [],
   "source": []
  },
  {
   "cell_type": "code",
   "execution_count": null,
   "metadata": {},
   "outputs": [],
   "source": []
  },
  {
   "cell_type": "code",
   "execution_count": null,
   "metadata": {},
   "outputs": [],
   "source": []
  },
  {
   "cell_type": "code",
   "execution_count": null,
   "metadata": {},
   "outputs": [],
   "source": []
  },
  {
   "cell_type": "code",
   "execution_count": null,
   "metadata": {},
   "outputs": [],
   "source": []
  },
  {
   "cell_type": "code",
   "execution_count": null,
   "metadata": {},
   "outputs": [],
   "source": []
  }
 ],
 "metadata": {
  "kernelspec": {
   "display_name": "R",
   "language": "R",
   "name": "ir"
  },
  "language_info": {
   "codemirror_mode": "r",
   "file_extension": ".r",
   "mimetype": "text/x-r-source",
   "name": "R",
   "pygments_lexer": "r",
   "version": "4.2.1"
  }
 },
 "nbformat": 4,
 "nbformat_minor": 4
}
